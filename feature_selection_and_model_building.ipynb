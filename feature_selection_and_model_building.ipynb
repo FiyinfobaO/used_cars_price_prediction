{
  "nbformat": 4,
  "nbformat_minor": 0,
  "metadata": {
    "colab": {
      "name": "feature_selection_and_model_building.ipynb",
      "provenance": [],
      "collapsed_sections": [
        "v-A87JR19749"
      ],
      "authorship_tag": "ABX9TyOcoB+rYULxJfNSM8KevLQT",
      "include_colab_link": true
    },
    "kernelspec": {
      "name": "python3",
      "display_name": "Python 3"
    },
    "language_info": {
      "name": "python"
    }
  },
  "cells": [
    {
      "cell_type": "markdown",
      "metadata": {
        "id": "view-in-github",
        "colab_type": "text"
      },
      "source": [
        "<a href=\"https://colab.research.google.com/github/FiyinfobaO/used_cars_price_prediction/blob/master/feature_selection_and_model_building.ipynb\" target=\"_parent\"><img src=\"https://colab.research.google.com/assets/colab-badge.svg\" alt=\"Open In Colab\"/></a>"
      ]
    },
    {
      "cell_type": "code",
      "metadata": {
        "colab": {
          "base_uri": "https://localhost:8080/"
        },
        "id": "bEnjEsP2btdR",
        "outputId": "fdabbc15-3194-4b9f-c0d9-556e6bf086c0"
      },
      "source": [
        "# Mount drive\n",
        "from google.colab import drive\n",
        "drive.mount('/content/drive')"
      ],
      "execution_count": null,
      "outputs": [
        {
          "output_type": "stream",
          "text": [
            "Mounted at /content/drive\n"
          ],
          "name": "stdout"
        }
      ]
    },
    {
      "cell_type": "code",
      "metadata": {
        "id": "RsaB3JN5cTTU"
      },
      "source": [
        "# Copying dataset from drive to colab current directory\n",
        "!cp '/content/drive/MyDrive/EDA_used_cars.csv' '/content/'"
      ],
      "execution_count": null,
      "outputs": []
    },
    {
      "cell_type": "code",
      "metadata": {
        "colab": {
          "base_uri": "https://localhost:8080/"
        },
        "id": "4h7RQlRgcpgj",
        "outputId": "e632b215-9897-4ab4-fba5-b1281a81093c"
      },
      "source": [
        "!pip install catboost"
      ],
      "execution_count": null,
      "outputs": [
        {
          "output_type": "stream",
          "text": [
            "Collecting catboost\n",
            "\u001b[?25l  Downloading https://files.pythonhosted.org/packages/1e/21/d1718eb4c93d6bacdd540b3792187f32ccb1ad9c51b9c4f10875d63ec176/catboost-0.25-cp37-none-manylinux1_x86_64.whl (67.3MB)\n",
            "\u001b[K     |████████████████████████████████| 67.3MB 57kB/s \n",
            "\u001b[?25hRequirement already satisfied: pandas>=0.24.0 in /usr/local/lib/python3.7/dist-packages (from catboost) (1.1.5)\n",
            "Requirement already satisfied: plotly in /usr/local/lib/python3.7/dist-packages (from catboost) (4.4.1)\n",
            "Requirement already satisfied: scipy in /usr/local/lib/python3.7/dist-packages (from catboost) (1.4.1)\n",
            "Requirement already satisfied: numpy>=1.16.0 in /usr/local/lib/python3.7/dist-packages (from catboost) (1.19.5)\n",
            "Requirement already satisfied: graphviz in /usr/local/lib/python3.7/dist-packages (from catboost) (0.10.1)\n",
            "Requirement already satisfied: six in /usr/local/lib/python3.7/dist-packages (from catboost) (1.15.0)\n",
            "Requirement already satisfied: matplotlib in /usr/local/lib/python3.7/dist-packages (from catboost) (3.2.2)\n",
            "Requirement already satisfied: python-dateutil>=2.7.3 in /usr/local/lib/python3.7/dist-packages (from pandas>=0.24.0->catboost) (2.8.1)\n",
            "Requirement already satisfied: pytz>=2017.2 in /usr/local/lib/python3.7/dist-packages (from pandas>=0.24.0->catboost) (2018.9)\n",
            "Requirement already satisfied: retrying>=1.3.3 in /usr/local/lib/python3.7/dist-packages (from plotly->catboost) (1.3.3)\n",
            "Requirement already satisfied: cycler>=0.10 in /usr/local/lib/python3.7/dist-packages (from matplotlib->catboost) (0.10.0)\n",
            "Requirement already satisfied: kiwisolver>=1.0.1 in /usr/local/lib/python3.7/dist-packages (from matplotlib->catboost) (1.3.1)\n",
            "Requirement already satisfied: pyparsing!=2.0.4,!=2.1.2,!=2.1.6,>=2.0.1 in /usr/local/lib/python3.7/dist-packages (from matplotlib->catboost) (2.4.7)\n",
            "Installing collected packages: catboost\n",
            "Successfully installed catboost-0.25\n"
          ],
          "name": "stdout"
        }
      ]
    },
    {
      "cell_type": "code",
      "metadata": {
        "id": "RLwTe2qWc6yZ"
      },
      "source": [
        "# Import libraries\n",
        "import gc\n",
        "import seaborn as sns\n",
        "import numpy as np\n",
        "import pandas as pd\n",
        "import matplotlib.pyplot as plt\n",
        "from sklearn.preprocessing import LabelEncoder\n",
        "from sklearn.model_selection import train_test_split, cross_val_score, GridSearchCV, RandomizedSearchCV\n",
        "from sklearn.preprocessing import StandardScaler, MinMaxScaler\n",
        "from sklearn.linear_model import LinearRegression\n",
        "from sklearn import metrics\n",
        "from sklearn.metrics import r2_score\n",
        "from sklearn.tree import DecisionTreeRegressor\n",
        "from sklearn.ensemble import RandomForestRegressor, ExtraTreesRegressor, GradientBoostingRegressor, AdaBoostRegressor\n",
        "from lightgbm import LGBMRegressor\n",
        "from xgboost import XGBRegressor, XGBRFRegressor\n",
        "from catboost import CatBoostRegressor\n",
        "import pickle\n",
        "%matplotlib inline"
      ],
      "execution_count": null,
      "outputs": []
    },
    {
      "cell_type": "markdown",
      "metadata": {
        "id": "_kll2_Fh31UA"
      },
      "source": [
        "####Check for multicollinearity"
      ]
    },
    {
      "cell_type": "code",
      "metadata": {
        "id": "eLFJQd3pjxQ_"
      },
      "source": [
        "# read the csv\n",
        "df_n = pd.read_csv('EDA_used_cars.csv')"
      ],
      "execution_count": null,
      "outputs": []
    },
    {
      "cell_type": "code",
      "metadata": {
        "colab": {
          "base_uri": "https://localhost:8080/",
          "height": 381
        },
        "id": "vMKLw8zdwvLG",
        "outputId": "5fb46988-4ccb-4200-f83f-75753b1de1c8"
      },
      "source": [
        "plt.subplots(figsize=(8,6))\n",
        "sns.heatmap(df_n.corr(), annot=True, square=True, annot_kws={'fontsize':15})\n",
        "plt.show()"
      ],
      "execution_count": null,
      "outputs": [
        {
          "output_type": "display_data",
          "data": {
            "image/png": "[encoded data removed]",
            "text/plain": [
              "<Figure size 576x432 with 2 Axes>"
            ]
          },
          "metadata": {
            "tags": []
          }
        }
      ]
    },
    {
      "cell_type": "markdown",
      "metadata": {
        "id": "tVznB-9l7JHK"
      },
      "source": [
        "There is multicollinearity between the year and car_age; so we'll pick one when building the model"
      ]
    },
    {
      "cell_type": "code",
      "metadata": {
        "colab": {
          "base_uri": "https://localhost:8080/",
          "height": 439
        },
        "id": "EH1OOgIZ5-iD",
        "outputId": "9533cc04-3656-4319-d8ba-9a887e995f2c"
      },
      "source": [
        "df_n"
      ],
      "execution_count": null,
      "outputs": [
        {
          "output_type": "execute_result",
          "data": {
            "text/html": [
              "<div>\n",
              "<style scoped>\n",
              "    .dataframe tbody tr th:only-of-type {\n",
              "        vertical-align: middle;\n",
              "    }\n",
              "\n",
              "    .dataframe tbody tr th {\n",
              "        vertical-align: top;\n",
              "    }\n",
              "\n",
              "    .dataframe thead th {\n",
              "        text-align: right;\n",
              "    }\n",
              "</style>\n",
              "<table border=\"1\" class=\"dataframe\">\n",
              "  <thead>\n",
              "    <tr style=\"text-align: right;\">\n",
              "      <th></th>\n",
              "      <th>manufacturer</th>\n",
              "      <th>model</th>\n",
              "      <th>year</th>\n",
              "      <th>mileage</th>\n",
              "      <th>selling_condition</th>\n",
              "      <th>grade</th>\n",
              "      <th>fuel</th>\n",
              "      <th>transmission</th>\n",
              "      <th>color</th>\n",
              "      <th>price</th>\n",
              "      <th>car_age</th>\n",
              "    </tr>\n",
              "  </thead>\n",
              "  <tbody>\n",
              "    <tr>\n",
              "      <th>0</th>\n",
              "      <td>Acura</td>\n",
              "      <td>Mdx</td>\n",
              "      <td>2008</td>\n",
              "      <td>105242</td>\n",
              "      <td>Nigerian used</td>\n",
              "      <td>D</td>\n",
              "      <td>Petrol</td>\n",
              "      <td>Automatic</td>\n",
              "      <td>grey</td>\n",
              "      <td>2586000</td>\n",
              "      <td>13</td>\n",
              "    </tr>\n",
              "    <tr>\n",
              "      <th>1</th>\n",
              "      <td>Toyota</td>\n",
              "      <td>Highlander</td>\n",
              "      <td>2001</td>\n",
              "      <td>152321</td>\n",
              "      <td>Nigerian used</td>\n",
              "      <td>C</td>\n",
              "      <td>Petrol</td>\n",
              "      <td>Automatic</td>\n",
              "      <td>green</td>\n",
              "      <td>1914000</td>\n",
              "      <td>20</td>\n",
              "    </tr>\n",
              "    <tr>\n",
              "      <th>2</th>\n",
              "      <td>Ford</td>\n",
              "      <td>Explorer</td>\n",
              "      <td>2014</td>\n",
              "      <td>60187</td>\n",
              "      <td>Nigerian used</td>\n",
              "      <td>C</td>\n",
              "      <td>Petrol</td>\n",
              "      <td>Automatic</td>\n",
              "      <td>brown</td>\n",
              "      <td>4154000</td>\n",
              "      <td>7</td>\n",
              "    </tr>\n",
              "    <tr>\n",
              "      <th>3</th>\n",
              "      <td>Toyota</td>\n",
              "      <td>Camry</td>\n",
              "      <td>2002</td>\n",
              "      <td>145156</td>\n",
              "      <td>Nigerian used</td>\n",
              "      <td>E</td>\n",
              "      <td>Petrol</td>\n",
              "      <td>Automatic</td>\n",
              "      <td>black</td>\n",
              "      <td>1354000</td>\n",
              "      <td>19</td>\n",
              "    </tr>\n",
              "    <tr>\n",
              "      <th>4</th>\n",
              "      <td>Toyota</td>\n",
              "      <td>Corolla</td>\n",
              "      <td>2007</td>\n",
              "      <td>192775</td>\n",
              "      <td>Nigerian used</td>\n",
              "      <td>D</td>\n",
              "      <td>Petrol</td>\n",
              "      <td>Automatic</td>\n",
              "      <td>gold</td>\n",
              "      <td>1522000</td>\n",
              "      <td>14</td>\n",
              "    </tr>\n",
              "    <tr>\n",
              "      <th>...</th>\n",
              "      <td>...</td>\n",
              "      <td>...</td>\n",
              "      <td>...</td>\n",
              "      <td>...</td>\n",
              "      <td>...</td>\n",
              "      <td>...</td>\n",
              "      <td>...</td>\n",
              "      <td>...</td>\n",
              "      <td>...</td>\n",
              "      <td>...</td>\n",
              "      <td>...</td>\n",
              "    </tr>\n",
              "    <tr>\n",
              "      <th>2555</th>\n",
              "      <td>Toyota</td>\n",
              "      <td>Solara</td>\n",
              "      <td>2008</td>\n",
              "      <td>148221</td>\n",
              "      <td>Foreign used</td>\n",
              "      <td>D</td>\n",
              "      <td>Petrol</td>\n",
              "      <td>Automatic</td>\n",
              "      <td>silver</td>\n",
              "      <td>1578000</td>\n",
              "      <td>13</td>\n",
              "    </tr>\n",
              "    <tr>\n",
              "      <th>2556</th>\n",
              "      <td>Honda</td>\n",
              "      <td>Accord</td>\n",
              "      <td>2012</td>\n",
              "      <td>134811</td>\n",
              "      <td>Nigerian used</td>\n",
              "      <td>E</td>\n",
              "      <td>Petrol</td>\n",
              "      <td>Automatic</td>\n",
              "      <td>black</td>\n",
              "      <td>1538750</td>\n",
              "      <td>9</td>\n",
              "    </tr>\n",
              "    <tr>\n",
              "      <th>2558</th>\n",
              "      <td>Lexus</td>\n",
              "      <td>Rx</td>\n",
              "      <td>2006</td>\n",
              "      <td>159386</td>\n",
              "      <td>Nigerian used</td>\n",
              "      <td>D</td>\n",
              "      <td>Hybrid</td>\n",
              "      <td>Automatic</td>\n",
              "      <td>grey</td>\n",
              "      <td>2045000</td>\n",
              "      <td>15</td>\n",
              "    </tr>\n",
              "    <tr>\n",
              "      <th>2559</th>\n",
              "      <td>Ford</td>\n",
              "      <td>Escape</td>\n",
              "      <td>2003</td>\n",
              "      <td>137494</td>\n",
              "      <td>Nigerian used</td>\n",
              "      <td>E</td>\n",
              "      <td>Petrol</td>\n",
              "      <td>Automatic</td>\n",
              "      <td>beige</td>\n",
              "      <td>682000</td>\n",
              "      <td>18</td>\n",
              "    </tr>\n",
              "    <tr>\n",
              "      <th>2560</th>\n",
              "      <td>Lexus</td>\n",
              "      <td>Rx 350</td>\n",
              "      <td>2008</td>\n",
              "      <td>75437</td>\n",
              "      <td>Nigerian used</td>\n",
              "      <td>D</td>\n",
              "      <td>Petrol</td>\n",
              "      <td>Automatic</td>\n",
              "      <td>green</td>\n",
              "      <td>3146000</td>\n",
              "      <td>13</td>\n",
              "    </tr>\n",
              "  </tbody>\n",
              "</table>\n",
              "<p>2506 rows × 11 columns</p>\n",
              "</div>"
            ],
            "text/plain": [
              "     manufacturer       model  year  ...   color    price car_age\n",
              "0           Acura         Mdx  2008  ...    grey  2586000      13\n",
              "1          Toyota  Highlander  2001  ...   green  1914000      20\n",
              "2            Ford    Explorer  2014  ...   brown  4154000       7\n",
              "3          Toyota       Camry  2002  ...   black  1354000      19\n",
              "4          Toyota     Corolla  2007  ...    gold  1522000      14\n",
              "...           ...         ...   ...  ...     ...      ...     ...\n",
              "2555       Toyota      Solara  2008  ...  silver  1578000      13\n",
              "2556        Honda      Accord  2012  ...   black  1538750       9\n",
              "2558        Lexus          Rx  2006  ...    grey  2045000      15\n",
              "2559         Ford      Escape  2003  ...   beige   682000      18\n",
              "2560        Lexus      Rx 350  2008  ...   green  3146000      13\n",
              "\n",
              "[2506 rows x 11 columns]"
            ]
          },
          "metadata": {
            "tags": []
          },
          "execution_count": 105
        }
      ]
    },
    {
      "cell_type": "code",
      "metadata": {
        "colab": {
          "base_uri": "https://localhost:8080/"
        },
        "id": "1M7eg4cU_Ekv",
        "outputId": "c46de355-f4dd-4f61-89a8-bc85b8dae812"
      },
      "source": [
        "df_n.info()"
      ],
      "execution_count": null,
      "outputs": [
        {
          "output_type": "stream",
          "text": [
            "<class 'pandas.core.frame.DataFrame'>\n",
            "Int64Index: 2506 entries, 0 to 2560\n",
            "Data columns (total 11 columns):\n",
            " #   Column             Non-Null Count  Dtype \n",
            "---  ------             --------------  ----- \n",
            " 0   manufacturer       2506 non-null   object\n",
            " 1   model              2506 non-null   object\n",
            " 2   year               2506 non-null   int64 \n",
            " 3   mileage            2506 non-null   int64 \n",
            " 4   selling_condition  2506 non-null   object\n",
            " 5   grade              2506 non-null   object\n",
            " 6   fuel               2506 non-null   object\n",
            " 7   transmission       2506 non-null   object\n",
            " 8   color              2506 non-null   object\n",
            " 9   price              2506 non-null   int64 \n",
            " 10  car_age            2506 non-null   int64 \n",
            "dtypes: int64(4), object(7)\n",
            "memory usage: 314.9+ KB\n"
          ],
          "name": "stdout"
        }
      ]
    },
    {
      "cell_type": "code",
      "metadata": {
        "id": "4nuV_wKJ-zkZ"
      },
      "source": [
        "# converting all categorical columns to lower case\n",
        "df_n.manufacturer = df_n.manufacturer.str.lower()\n",
        "df_n.model = df_n.model.str.lower()\n",
        "df_n.selling_condition = df_n.selling_condition.str.lower()\n",
        "df_n.grade = df_n.grade.str.lower()\n",
        "df_n.fuel = df_n.fuel.str.lower()\n",
        "df_n.transmission = df_n.transmission.str.lower()"
      ],
      "execution_count": null,
      "outputs": []
    },
    {
      "cell_type": "code",
      "metadata": {
        "colab": {
          "base_uri": "https://localhost:8080/",
          "height": 439
        },
        "id": "DKYBvtHKA4V6",
        "outputId": "778235d2-e9ba-4235-ce4c-5bc31980da26"
      },
      "source": [
        "df_n"
      ],
      "execution_count": null,
      "outputs": [
        {
          "output_type": "execute_result",
          "data": {
            "text/html": [
              "<div>\n",
              "<style scoped>\n",
              "    .dataframe tbody tr th:only-of-type {\n",
              "        vertical-align: middle;\n",
              "    }\n",
              "\n",
              "    .dataframe tbody tr th {\n",
              "        vertical-align: top;\n",
              "    }\n",
              "\n",
              "    .dataframe thead th {\n",
              "        text-align: right;\n",
              "    }\n",
              "</style>\n",
              "<table border=\"1\" class=\"dataframe\">\n",
              "  <thead>\n",
              "    <tr style=\"text-align: right;\">\n",
              "      <th></th>\n",
              "      <th>manufacturer</th>\n",
              "      <th>model</th>\n",
              "      <th>year</th>\n",
              "      <th>mileage</th>\n",
              "      <th>selling_condition</th>\n",
              "      <th>grade</th>\n",
              "      <th>fuel</th>\n",
              "      <th>transmission</th>\n",
              "      <th>color</th>\n",
              "      <th>price</th>\n",
              "      <th>car_age</th>\n",
              "    </tr>\n",
              "  </thead>\n",
              "  <tbody>\n",
              "    <tr>\n",
              "      <th>0</th>\n",
              "      <td>acura</td>\n",
              "      <td>mdx</td>\n",
              "      <td>2008</td>\n",
              "      <td>105242</td>\n",
              "      <td>nigerian used</td>\n",
              "      <td>d</td>\n",
              "      <td>petrol</td>\n",
              "      <td>automatic</td>\n",
              "      <td>grey</td>\n",
              "      <td>2586000</td>\n",
              "      <td>13</td>\n",
              "    </tr>\n",
              "    <tr>\n",
              "      <th>1</th>\n",
              "      <td>toyota</td>\n",
              "      <td>highlander</td>\n",
              "      <td>2001</td>\n",
              "      <td>152321</td>\n",
              "      <td>nigerian used</td>\n",
              "      <td>c</td>\n",
              "      <td>petrol</td>\n",
              "      <td>automatic</td>\n",
              "      <td>green</td>\n",
              "      <td>1914000</td>\n",
              "      <td>20</td>\n",
              "    </tr>\n",
              "    <tr>\n",
              "      <th>2</th>\n",
              "      <td>ford</td>\n",
              "      <td>explorer</td>\n",
              "      <td>2014</td>\n",
              "      <td>60187</td>\n",
              "      <td>nigerian used</td>\n",
              "      <td>c</td>\n",
              "      <td>petrol</td>\n",
              "      <td>automatic</td>\n",
              "      <td>brown</td>\n",
              "      <td>4154000</td>\n",
              "      <td>7</td>\n",
              "    </tr>\n",
              "    <tr>\n",
              "      <th>3</th>\n",
              "      <td>toyota</td>\n",
              "      <td>camry</td>\n",
              "      <td>2002</td>\n",
              "      <td>145156</td>\n",
              "      <td>nigerian used</td>\n",
              "      <td>e</td>\n",
              "      <td>petrol</td>\n",
              "      <td>automatic</td>\n",
              "      <td>black</td>\n",
              "      <td>1354000</td>\n",
              "      <td>19</td>\n",
              "    </tr>\n",
              "    <tr>\n",
              "      <th>4</th>\n",
              "      <td>toyota</td>\n",
              "      <td>corolla</td>\n",
              "      <td>2007</td>\n",
              "      <td>192775</td>\n",
              "      <td>nigerian used</td>\n",
              "      <td>d</td>\n",
              "      <td>petrol</td>\n",
              "      <td>automatic</td>\n",
              "      <td>gold</td>\n",
              "      <td>1522000</td>\n",
              "      <td>14</td>\n",
              "    </tr>\n",
              "    <tr>\n",
              "      <th>...</th>\n",
              "      <td>...</td>\n",
              "      <td>...</td>\n",
              "      <td>...</td>\n",
              "      <td>...</td>\n",
              "      <td>...</td>\n",
              "      <td>...</td>\n",
              "      <td>...</td>\n",
              "      <td>...</td>\n",
              "      <td>...</td>\n",
              "      <td>...</td>\n",
              "      <td>...</td>\n",
              "    </tr>\n",
              "    <tr>\n",
              "      <th>2555</th>\n",
              "      <td>toyota</td>\n",
              "      <td>solara</td>\n",
              "      <td>2008</td>\n",
              "      <td>148221</td>\n",
              "      <td>foreign used</td>\n",
              "      <td>d</td>\n",
              "      <td>petrol</td>\n",
              "      <td>automatic</td>\n",
              "      <td>silver</td>\n",
              "      <td>1578000</td>\n",
              "      <td>13</td>\n",
              "    </tr>\n",
              "    <tr>\n",
              "      <th>2556</th>\n",
              "      <td>honda</td>\n",
              "      <td>accord</td>\n",
              "      <td>2012</td>\n",
              "      <td>134811</td>\n",
              "      <td>nigerian used</td>\n",
              "      <td>e</td>\n",
              "      <td>petrol</td>\n",
              "      <td>automatic</td>\n",
              "      <td>black</td>\n",
              "      <td>1538750</td>\n",
              "      <td>9</td>\n",
              "    </tr>\n",
              "    <tr>\n",
              "      <th>2558</th>\n",
              "      <td>lexus</td>\n",
              "      <td>rx</td>\n",
              "      <td>2006</td>\n",
              "      <td>159386</td>\n",
              "      <td>nigerian used</td>\n",
              "      <td>d</td>\n",
              "      <td>hybrid</td>\n",
              "      <td>automatic</td>\n",
              "      <td>grey</td>\n",
              "      <td>2045000</td>\n",
              "      <td>15</td>\n",
              "    </tr>\n",
              "    <tr>\n",
              "      <th>2559</th>\n",
              "      <td>ford</td>\n",
              "      <td>escape</td>\n",
              "      <td>2003</td>\n",
              "      <td>137494</td>\n",
              "      <td>nigerian used</td>\n",
              "      <td>e</td>\n",
              "      <td>petrol</td>\n",
              "      <td>automatic</td>\n",
              "      <td>beige</td>\n",
              "      <td>682000</td>\n",
              "      <td>18</td>\n",
              "    </tr>\n",
              "    <tr>\n",
              "      <th>2560</th>\n",
              "      <td>lexus</td>\n",
              "      <td>rx 350</td>\n",
              "      <td>2008</td>\n",
              "      <td>75437</td>\n",
              "      <td>nigerian used</td>\n",
              "      <td>d</td>\n",
              "      <td>petrol</td>\n",
              "      <td>automatic</td>\n",
              "      <td>green</td>\n",
              "      <td>3146000</td>\n",
              "      <td>13</td>\n",
              "    </tr>\n",
              "  </tbody>\n",
              "</table>\n",
              "<p>2506 rows × 11 columns</p>\n",
              "</div>"
            ],
            "text/plain": [
              "     manufacturer       model  year  ...   color    price car_age\n",
              "0           acura         mdx  2008  ...    grey  2586000      13\n",
              "1          toyota  highlander  2001  ...   green  1914000      20\n",
              "2            ford    explorer  2014  ...   brown  4154000       7\n",
              "3          toyota       camry  2002  ...   black  1354000      19\n",
              "4          toyota     corolla  2007  ...    gold  1522000      14\n",
              "...           ...         ...   ...  ...     ...      ...     ...\n",
              "2555       toyota      solara  2008  ...  silver  1578000      13\n",
              "2556        honda      accord  2012  ...   black  1538750       9\n",
              "2558        lexus          rx  2006  ...    grey  2045000      15\n",
              "2559         ford      escape  2003  ...   beige   682000      18\n",
              "2560        lexus      rx 350  2008  ...   green  3146000      13\n",
              "\n",
              "[2506 rows x 11 columns]"
            ]
          },
          "metadata": {
            "tags": []
          },
          "execution_count": 108
        }
      ]
    },
    {
      "cell_type": "code",
      "metadata": {
        "colab": {
          "base_uri": "https://localhost:8080/"
        },
        "id": "6JsswmTBEJ7Y",
        "outputId": "ff5b3b99-da15-48ec-edfe-bcd43ce57116"
      },
      "source": [
        "df_n.info()"
      ],
      "execution_count": null,
      "outputs": [
        {
          "output_type": "stream",
          "text": [
            "<class 'pandas.core.frame.DataFrame'>\n",
            "Int64Index: 2506 entries, 0 to 2560\n",
            "Data columns (total 11 columns):\n",
            " #   Column             Non-Null Count  Dtype \n",
            "---  ------             --------------  ----- \n",
            " 0   manufacturer       2506 non-null   object\n",
            " 1   model              2506 non-null   object\n",
            " 2   year               2506 non-null   int64 \n",
            " 3   mileage            2506 non-null   int64 \n",
            " 4   selling_condition  2506 non-null   object\n",
            " 5   grade              2506 non-null   object\n",
            " 6   fuel               2506 non-null   object\n",
            " 7   transmission       2506 non-null   object\n",
            " 8   color              2506 non-null   object\n",
            " 9   price              2506 non-null   int64 \n",
            " 10  car_age            2506 non-null   int64 \n",
            "dtypes: int64(4), object(7)\n",
            "memory usage: 314.9+ KB\n"
          ],
          "name": "stdout"
        }
      ]
    },
    {
      "cell_type": "markdown",
      "metadata": {
        "id": "7hW9PTyq6M7q"
      },
      "source": [
        "####Encoding the categorical features"
      ]
    },
    {
      "cell_type": "markdown",
      "metadata": {
        "id": "j29Ic1DW-Jer"
      },
      "source": [
        "#####Manufacturer"
      ]
    },
    {
      "cell_type": "code",
      "metadata": {
        "id": "hmM83wSV747p"
      },
      "source": [
        "# manufacturer\n",
        "le_manufacturer = LabelEncoder()\n",
        "le_manufacturer.fit(df_n['manufacturer'])\n",
        "# save the manufacturer encoder\n",
        "pickle.dump(le_manufacturer, open('manufacturer_encoder.pkl', 'wb'))\n",
        "# copy to drive\n",
        "! cp '/content/manufacturer_encoder.pkl' '/content/drive/MyDrive/models_features-fuel&color_scaled'\n",
        "# transform the manufacturer column\n",
        "df_n['manufacturer'] = le_manufacturer.transform(df_n['manufacturer'])"
      ],
      "execution_count": null,
      "outputs": []
    },
    {
      "cell_type": "code",
      "metadata": {
        "colab": {
          "base_uri": "https://localhost:8080/"
        },
        "id": "oVy6inpt8ha7",
        "outputId": "17f524eb-ac87-4b9d-a70d-70fee670521a"
      },
      "source": [
        "df_n['manufacturer']"
      ],
      "execution_count": null,
      "outputs": [
        {
          "output_type": "execute_result",
          "data": {
            "text/plain": [
              "0        0\n",
              "1       45\n",
              "2       10\n",
              "3       45\n",
              "4       45\n",
              "        ..\n",
              "2555    45\n",
              "2556    14\n",
              "2558    24\n",
              "2559    10\n",
              "2560    24\n",
              "Name: manufacturer, Length: 2506, dtype: int64"
            ]
          },
          "metadata": {
            "tags": []
          },
          "execution_count": 111
        }
      ]
    },
    {
      "cell_type": "markdown",
      "metadata": {
        "id": "v-A87JR19749"
      },
      "source": [
        "######Checking that the encoder works fine"
      ]
    },
    {
      "cell_type": "code",
      "metadata": {
        "colab": {
          "base_uri": "https://localhost:8080/"
        },
        "id": "c1lIKMRMCXwd",
        "outputId": "e918dcb6-3af2-4832-df2d-2d79950f92f0"
      },
      "source": [
        "a = 'Acura'\n",
        "b = np.array(a.lower()).ravel()\n",
        "b"
      ],
      "execution_count": null,
      "outputs": [
        {
          "output_type": "execute_result",
          "data": {
            "text/plain": [
              "array(['acura'], dtype='<U5')"
            ]
          },
          "metadata": {
            "tags": []
          },
          "execution_count": 112
        }
      ]
    },
    {
      "cell_type": "code",
      "metadata": {
        "colab": {
          "base_uri": "https://localhost:8080/"
        },
        "id": "2Z-O2s1xCvKg",
        "outputId": "42e61b42-587c-4974-8506-c48fe0ab9f1e"
      },
      "source": [
        "man_enco_test.transform(b)"
      ],
      "execution_count": null,
      "outputs": [
        {
          "output_type": "execute_result",
          "data": {
            "text/plain": [
              "array([0])"
            ]
          },
          "metadata": {
            "tags": []
          },
          "execution_count": 115
        }
      ]
    },
    {
      "cell_type": "code",
      "metadata": {
        "id": "TIZgKcM18k2a"
      },
      "source": [
        "# load and reuse encoder \n",
        "man_enco_test = pickle.load(open('manufacturer_encoder.pkl', 'rb'))\n",
        "random_manufac = 'TOYOTA'\n",
        "random_manufac = np.array(random_manufac.lower()).ravel()\n",
        "trans_random_manufac = man_enco_test.transform(random_manufac)"
      ],
      "execution_count": null,
      "outputs": []
    },
    {
      "cell_type": "code",
      "metadata": {
        "colab": {
          "base_uri": "https://localhost:8080/"
        },
        "id": "fMXgHuMY9atj",
        "outputId": "a7cb127a-0ad5-49f4-b2dc-9965d21f58e3"
      },
      "source": [
        "trans_random_manufac"
      ],
      "execution_count": null,
      "outputs": [
        {
          "output_type": "execute_result",
          "data": {
            "text/plain": [
              "array([45])"
            ]
          },
          "metadata": {
            "tags": []
          },
          "execution_count": 114
        }
      ]
    },
    {
      "cell_type": "markdown",
      "metadata": {
        "id": "U1mhqh32-MUe"
      },
      "source": [
        "#####Model"
      ]
    },
    {
      "cell_type": "code",
      "metadata": {
        "id": "uTLVO17p9xS6"
      },
      "source": [
        "# model\n",
        "le_model = LabelEncoder()\n",
        "le_model.fit(df_n['model'])\n",
        "# save the manufacturer encoder\n",
        "pickle.dump(le_model, open('model_encoder.pkl', 'wb'))\n",
        "# copy to drive\n",
        "! cp '/content/model_encoder.pkl' '/content/drive/MyDrive/models_features-fuel&color_scaled'\n",
        "# transform the manufacturer column\n",
        "df_n['model'] = le_model.transform(df_n['model'])"
      ],
      "execution_count": null,
      "outputs": []
    },
    {
      "cell_type": "markdown",
      "metadata": {
        "id": "4bqhSGUcEMG6"
      },
      "source": [
        "#####Selling_condition"
      ]
    },
    {
      "cell_type": "code",
      "metadata": {
        "id": "Y07PB06mEGkX"
      },
      "source": [
        "# selling_condition\n",
        "le_selling_condition = LabelEncoder()\n",
        "le_selling_condition.fit(df_n['selling_condition'])\n",
        "# save the manufacturer encoder\n",
        "pickle.dump(le_selling_condition, open('selling_condition_encoder.pkl', 'wb'))\n",
        "# copy to drive\n",
        "! cp '/content/selling_condition_encoder.pkl' '/content/drive/MyDrive/models_features-fuel&color_scaled'\n",
        "# transform the manufacturer column\n",
        "df_n['selling_condition'] = le_selling_condition.transform(df_n['selling_condition'])"
      ],
      "execution_count": null,
      "outputs": []
    },
    {
      "cell_type": "markdown",
      "metadata": {
        "id": "J1G75vMHOP5u"
      },
      "source": [
        "#####Fuel"
      ]
    },
    {
      "cell_type": "code",
      "metadata": {
        "id": "orRtXZU5OEmJ"
      },
      "source": [
        "# fuel\n",
        "le_fuel = LabelEncoder()\n",
        "le_fuel.fit(df_n['fuel'])\n",
        "# save the manufacturer encoder\n",
        "pickle.dump(le_fuel, open('fuel_encoder.pkl', 'wb'))\n",
        "# copy to drive\n",
        "! cp '/content/fuel_encoder.pkl' '/content/drive/MyDrive/models_features-fuel&color_scaled'\n",
        "# transform the manufacturer column\n",
        "df_n['fuel'] = le_fuel.transform(df_n['fuel'])"
      ],
      "execution_count": null,
      "outputs": []
    },
    {
      "cell_type": "markdown",
      "metadata": {
        "id": "Nc4UpgqBOZVF"
      },
      "source": [
        "#####Grade"
      ]
    },
    {
      "cell_type": "code",
      "metadata": {
        "id": "PqHeFU-wOYiv"
      },
      "source": [
        "# grade\n",
        "le_grade = LabelEncoder()\n",
        "le_grade.fit(df_n['grade'])\n",
        "# save the manufacturer encoder\n",
        "pickle.dump(le_grade, open('grade_encoder.pkl', 'wb'))\n",
        "# copy to drive\n",
        "! cp '/content/grade_encoder.pkl' '/content/drive/MyDrive/models_features-fuel&color_scaled'\n",
        "# transform the manufacturer column\n",
        "df_n['grade'] = le_grade.transform(df_n['grade'])"
      ],
      "execution_count": null,
      "outputs": []
    },
    {
      "cell_type": "markdown",
      "metadata": {
        "id": "V3R26gUYOmky"
      },
      "source": [
        "#####Transmission"
      ]
    },
    {
      "cell_type": "code",
      "metadata": {
        "id": "YZa87Ux_Olhp"
      },
      "source": [
        "# transmission\n",
        "le_transmission = LabelEncoder()\n",
        "le_transmission.fit(df_n['transmission'])\n",
        "# save the manufacturer encoder\n",
        "pickle.dump(le_transmission, open('transmission_encoder.pkl', 'wb'))\n",
        "# copy to drive\n",
        "! cp '/content/transmission_encoder.pkl' '/content/drive/MyDrive/models_features-fuel&color_scaled'\n",
        "# transform the manufacturer column\n",
        "df_n['transmission'] = le_transmission.transform(df_n['transmission'])"
      ],
      "execution_count": null,
      "outputs": []
    },
    {
      "cell_type": "markdown",
      "metadata": {
        "id": "WsUy21H5O4hu"
      },
      "source": [
        "#####Color"
      ]
    },
    {
      "cell_type": "code",
      "metadata": {
        "id": "SpMD_EBXOywN"
      },
      "source": [
        "# color\n",
        "le_color = LabelEncoder()\n",
        "le_color.fit(df_n['color'])\n",
        "# save the manufacturer encoder\n",
        "pickle.dump(le_color, open('color_encoder.pkl', 'wb'))\n",
        "# copy to drive\n",
        "! cp '/content/color_encoder.pkl' '/content/drive/MyDrive/models_features-fuel&color_scaled'\n",
        "# transform the manufacturer column\n",
        "df_n['color'] = le_color.transform(df_n['color'])"
      ],
      "execution_count": null,
      "outputs": []
    },
    {
      "cell_type": "code",
      "metadata": {
        "colab": {
          "base_uri": "https://localhost:8080/",
          "height": 204
        },
        "id": "6C8POpc9PIUC",
        "outputId": "f63d4891-646c-447a-8ba8-6b50dc114231"
      },
      "source": [
        "df_n.head()"
      ],
      "execution_count": null,
      "outputs": [
        {
          "output_type": "execute_result",
          "data": {
            "text/html": [
              "<div>\n",
              "<style scoped>\n",
              "    .dataframe tbody tr th:only-of-type {\n",
              "        vertical-align: middle;\n",
              "    }\n",
              "\n",
              "    .dataframe tbody tr th {\n",
              "        vertical-align: top;\n",
              "    }\n",
              "\n",
              "    .dataframe thead th {\n",
              "        text-align: right;\n",
              "    }\n",
              "</style>\n",
              "<table border=\"1\" class=\"dataframe\">\n",
              "  <thead>\n",
              "    <tr style=\"text-align: right;\">\n",
              "      <th></th>\n",
              "      <th>manufacturer</th>\n",
              "      <th>model</th>\n",
              "      <th>year</th>\n",
              "      <th>mileage</th>\n",
              "      <th>selling_condition</th>\n",
              "      <th>grade</th>\n",
              "      <th>fuel</th>\n",
              "      <th>transmission</th>\n",
              "      <th>color</th>\n",
              "      <th>price</th>\n",
              "      <th>car_age</th>\n",
              "    </tr>\n",
              "  </thead>\n",
              "  <tbody>\n",
              "    <tr>\n",
              "      <th>0</th>\n",
              "      <td>0</td>\n",
              "      <td>197</td>\n",
              "      <td>2008</td>\n",
              "      <td>105242</td>\n",
              "      <td>1</td>\n",
              "      <td>2</td>\n",
              "      <td>3</td>\n",
              "      <td>0</td>\n",
              "      <td>8</td>\n",
              "      <td>2586000</td>\n",
              "      <td>13</td>\n",
              "    </tr>\n",
              "    <tr>\n",
              "      <th>1</th>\n",
              "      <td>45</td>\n",
              "      <td>163</td>\n",
              "      <td>2001</td>\n",
              "      <td>152321</td>\n",
              "      <td>1</td>\n",
              "      <td>1</td>\n",
              "      <td>3</td>\n",
              "      <td>0</td>\n",
              "      <td>7</td>\n",
              "      <td>1914000</td>\n",
              "      <td>20</td>\n",
              "    </tr>\n",
              "    <tr>\n",
              "      <th>2</th>\n",
              "      <td>10</td>\n",
              "      <td>121</td>\n",
              "      <td>2014</td>\n",
              "      <td>60187</td>\n",
              "      <td>1</td>\n",
              "      <td>1</td>\n",
              "      <td>3</td>\n",
              "      <td>0</td>\n",
              "      <td>4</td>\n",
              "      <td>4154000</td>\n",
              "      <td>7</td>\n",
              "    </tr>\n",
              "    <tr>\n",
              "      <th>3</th>\n",
              "      <td>45</td>\n",
              "      <td>62</td>\n",
              "      <td>2002</td>\n",
              "      <td>145156</td>\n",
              "      <td>1</td>\n",
              "      <td>3</td>\n",
              "      <td>3</td>\n",
              "      <td>0</td>\n",
              "      <td>2</td>\n",
              "      <td>1354000</td>\n",
              "      <td>19</td>\n",
              "    </tr>\n",
              "    <tr>\n",
              "      <th>4</th>\n",
              "      <td>45</td>\n",
              "      <td>85</td>\n",
              "      <td>2007</td>\n",
              "      <td>192775</td>\n",
              "      <td>1</td>\n",
              "      <td>2</td>\n",
              "      <td>3</td>\n",
              "      <td>0</td>\n",
              "      <td>6</td>\n",
              "      <td>1522000</td>\n",
              "      <td>14</td>\n",
              "    </tr>\n",
              "  </tbody>\n",
              "</table>\n",
              "</div>"
            ],
            "text/plain": [
              "   manufacturer  model  year  mileage  ...  transmission  color    price  car_age\n",
              "0             0    197  2008   105242  ...             0      8  2586000       13\n",
              "1            45    163  2001   152321  ...             0      7  1914000       20\n",
              "2            10    121  2014    60187  ...             0      4  4154000        7\n",
              "3            45     62  2002   145156  ...             0      2  1354000       19\n",
              "4            45     85  2007   192775  ...             0      6  1522000       14\n",
              "\n",
              "[5 rows x 11 columns]"
            ]
          },
          "metadata": {
            "tags": []
          },
          "execution_count": 122
        }
      ]
    },
    {
      "cell_type": "code",
      "metadata": {
        "colab": {
          "base_uri": "https://localhost:8080/"
        },
        "id": "HI84fZNp49kK",
        "outputId": "809cd1c4-07ef-4281-d258-8bd68bcca54f"
      },
      "source": [
        "df_n.info()"
      ],
      "execution_count": null,
      "outputs": [
        {
          "output_type": "stream",
          "text": [
            "<class 'pandas.core.frame.DataFrame'>\n",
            "Int64Index: 2506 entries, 0 to 2560\n",
            "Data columns (total 11 columns):\n",
            " #   Column             Non-Null Count  Dtype\n",
            "---  ------             --------------  -----\n",
            " 0   manufacturer       2506 non-null   int64\n",
            " 1   model              2506 non-null   int64\n",
            " 2   year               2506 non-null   int64\n",
            " 3   mileage            2506 non-null   int64\n",
            " 4   selling_condition  2506 non-null   int64\n",
            " 5   grade              2506 non-null   int64\n",
            " 6   fuel               2506 non-null   int64\n",
            " 7   transmission       2506 non-null   int64\n",
            " 8   color              2506 non-null   int64\n",
            " 9   price              2506 non-null   int64\n",
            " 10  car_age            2506 non-null   int64\n",
            "dtypes: int64(11)\n",
            "memory usage: 314.9 KB\n"
          ],
          "name": "stdout"
        }
      ]
    },
    {
      "cell_type": "markdown",
      "metadata": {
        "id": "etTC5d3iCuRO"
      },
      "source": [
        "####Modelling"
      ]
    },
    {
      "cell_type": "markdown",
      "metadata": {
        "id": "bAZJ8KaoDH8j"
      },
      "source": [
        "#####Without Feature Selection"
      ]
    },
    {
      "cell_type": "markdown",
      "metadata": {
        "id": "iXOP9DdE4kYV"
      },
      "source": [
        "Selecting all the features except 'car_age'"
      ]
    },
    {
      "cell_type": "code",
      "metadata": {
        "id": "7dWr6ID44kYW"
      },
      "source": [
        "# rearrange columns for simplicity\n",
        "df_n1 = df_n[['year','manufacturer','model','fuel','mileage', 'grade', 'transmission', 'selling_condition','color', 'price']]"
      ],
      "execution_count": null,
      "outputs": []
    },
    {
      "cell_type": "code",
      "metadata": {
        "id": "ElPntpnd4kYX"
      },
      "source": [
        "# selecting features, X\n",
        "X = df_n1.iloc[:, :-1].values\n",
        "# selecting labels, y\n",
        "y = df_n1.iloc[:, -1].values"
      ],
      "execution_count": null,
      "outputs": []
    },
    {
      "cell_type": "code",
      "metadata": {
        "colab": {
          "base_uri": "https://localhost:8080/"
        },
        "id": "r5YBcH9Z4kYY",
        "outputId": "9325c074-1853-44ee-f79c-f5742dd55c47"
      },
      "source": [
        "# to split the data\n",
        "# split into train and test\n",
        "X_train, X_test, y_train, y_test = train_test_split(X, y, test_size=0.2, random_state=42)\n",
        "print('Train set: ', X_train.shape, y_train.shape)\n",
        "print('Test set: ', X_test.shape, y_test.shape)"
      ],
      "execution_count": null,
      "outputs": [
        {
          "output_type": "stream",
          "text": [
            "Train set:  (2004, 9) (2004,)\n",
            "Test set:  (502, 9) (502,)\n"
          ],
          "name": "stdout"
        }
      ]
    },
    {
      "cell_type": "code",
      "metadata": {
        "id": "RqnBk8iX4kYa"
      },
      "source": [
        "# define scaler\n",
        "scaler = StandardScaler()\n",
        "# fit scaler on the training dataset\n",
        "scaler.fit(X_train)\n",
        "# save the scaler\n",
        "pickle.dump(scaler, open('standard_scaler.pkl', 'wb'))\n",
        "# transform the training dataset\n",
        "X_train_scaled = scaler.transform(X_train)\n",
        "# transform the test dataset\n",
        "X_test_scaled = scaler.transform(X_test)"
      ],
      "execution_count": null,
      "outputs": []
    },
    {
      "cell_type": "code",
      "metadata": {
        "colab": {
          "base_uri": "https://localhost:8080/"
        },
        "id": "3y0WiqrV4kYb",
        "outputId": "c39bf201-d31f-47ff-c05f-caac5b706144"
      },
      "source": [
        "X_test[0]"
      ],
      "execution_count": null,
      "outputs": [
        {
          "output_type": "execute_result",
          "data": {
            "text/plain": [
              "array([  2012,     14,     30,      3, 103412,      1,      0,      1,\n",
              "            9])"
            ]
          },
          "metadata": {
            "tags": []
          },
          "execution_count": 118
        }
      ]
    },
    {
      "cell_type": "code",
      "metadata": {
        "colab": {
          "base_uri": "https://localhost:8080/"
        },
        "id": "hVlFG8Ap4kYb",
        "outputId": "250c763b-191c-4b3c-ea6e-6db69b4db54c"
      },
      "source": [
        "X_test_scaled[0]"
      ],
      "execution_count": null,
      "outputs": [
        {
          "output_type": "execute_result",
          "data": {
            "text/plain": [
              "array([ 1.15135623, -1.04327073, -1.26450474,  0.09982081, -0.65242525,\n",
              "       -1.09843943, -0.29904409,  0.59425564,  0.16826249])"
            ]
          },
          "metadata": {
            "tags": []
          },
          "execution_count": 119
        }
      ]
    },
    {
      "cell_type": "code",
      "metadata": {
        "id": "nAPyZu3w4kYc"
      },
      "source": [
        "v = [[2000,0,46,1,344345,2,1,0,17]] # must be a 2D array\n",
        "v_s = scaler.transform(v)"
      ],
      "execution_count": null,
      "outputs": []
    },
    {
      "cell_type": "code",
      "metadata": {
        "colab": {
          "base_uri": "https://localhost:8080/"
        },
        "id": "zJQkx-QI4kYd",
        "outputId": "10993ef2-8e20-41ec-ac11-37802353045a"
      },
      "source": [
        "v_s"
      ],
      "execution_count": null,
      "outputs": [
        {
          "output_type": "execute_result",
          "data": {
            "text/plain": [
              "array([[0.33333333, 0.        , 0.13981763, 0.2       , 0.99615244,\n",
              "        0.5       , 0.33333333, 0.        , 0.94444444]])"
            ]
          },
          "metadata": {
            "tags": []
          },
          "execution_count": 175
        }
      ]
    },
    {
      "cell_type": "markdown",
      "metadata": {
        "id": "ZyWnVOxt4kYd"
      },
      "source": [
        "***For prediction purposes*: The data must be arranged in the same order it was arranged when scaling and it must be a 2d array**"
      ]
    },
    {
      "cell_type": "markdown",
      "metadata": {
        "id": "-mya-xRRDpL1"
      },
      "source": [
        "######**Linear Regression**"
      ]
    },
    {
      "cell_type": "code",
      "metadata": {
        "id": "3di8U4GTDpMW"
      },
      "source": [
        "def evaluate(model, test_features, test_labels):\n",
        "    predictions = model.predict(test_features)\n",
        "    errors = abs(predictions - test_labels)\n",
        "    mape = 100 * np.mean(errors / test_labels)\n",
        "    accuracy = 100 - mape\n",
        "    print('Model Performance')\n",
        "    print('Accuracy = {:0.2f}%.'.format(accuracy))\n",
        "    \n",
        "    return accuracy"
      ],
      "execution_count": null,
      "outputs": []
    },
    {
      "cell_type": "code",
      "metadata": {
        "colab": {
          "base_uri": "https://localhost:8080/"
        },
        "id": "wSd_mmGkDpMX",
        "outputId": "c98fb4b4-984a-4005-90df-c14b29e91be2"
      },
      "source": [
        "# to create the linear reg model\n",
        "lin_reg = LinearRegression()\n",
        "lin_reg.fit(X_train_scaled, y_train)  # fit the model to train set"
      ],
      "execution_count": null,
      "outputs": [
        {
          "output_type": "execute_result",
          "data": {
            "text/plain": [
              "LinearRegression(copy_X=True, fit_intercept=True, n_jobs=None, normalize=False)"
            ]
          },
          "metadata": {
            "tags": []
          },
          "execution_count": 121
        }
      ]
    },
    {
      "cell_type": "code",
      "metadata": {
        "id": "EVwpqU9RDpMa"
      },
      "source": [
        "# to evaluate test set values\n",
        "y_pred = lin_reg.predict(X_test_scaled)"
      ],
      "execution_count": null,
      "outputs": []
    },
    {
      "cell_type": "code",
      "metadata": {
        "colab": {
          "base_uri": "https://localhost:8080/"
        },
        "id": "1pv_XD-rlTZ6",
        "outputId": "8efd76d4-5244-4be5-d37e-b8391ea6907e"
      },
      "source": [
        "print('Mean Absolute Error: ', round(metrics.mean_absolute_error(y_test, y_pred), 3))\n",
        "print('Mean Squared Error: ', round(metrics.mean_squared_error(y_test, y_pred), 3))\n",
        "print('Root Mean Squared Error: ', round(np.sqrt(metrics.mean_squared_error(y_test, y_pred)), 3))\n",
        "print('R2 score: ', round(r2_score(y_test, y_pred), 3))"
      ],
      "execution_count": null,
      "outputs": [
        {
          "output_type": "stream",
          "text": [
            "Mean Absolute Error:  754530.408\n",
            "Mean Squared Error:  953656368404.485\n",
            "Root Mean Squared Error:  976553.311\n",
            "R2 score:  0.556\n"
          ],
          "name": "stdout"
        }
      ]
    },
    {
      "cell_type": "code",
      "metadata": {
        "colab": {
          "base_uri": "https://localhost:8080/"
        },
        "id": "BypzBqAHgQZa",
        "outputId": "4ec69006-3ab4-4bc4-cdeb-9a58ef72b8e8"
      },
      "source": [
        "evaluate(lin_reg, X_train_scaled, y_train)\n",
        "evaluate(lin_reg, X_test_scaled, y_test)"
      ],
      "execution_count": null,
      "outputs": [
        {
          "output_type": "stream",
          "text": [
            "Model Performance\n",
            "Accuracy = 53.29%.\n",
            "Model Performance\n",
            "Accuracy = 51.89%.\n"
          ],
          "name": "stdout"
        },
        {
          "output_type": "execute_result",
          "data": {
            "text/plain": [
              "51.88835107428476"
            ]
          },
          "metadata": {
            "tags": []
          },
          "execution_count": 124
        }
      ]
    },
    {
      "cell_type": "markdown",
      "metadata": {
        "id": "oxKxCh8IDpMd"
      },
      "source": [
        "######**Polynomial regression**"
      ]
    },
    {
      "cell_type": "code",
      "metadata": {
        "id": "Odl6I77KDpMd"
      },
      "source": [
        "from sklearn.preprocessing import PolynomialFeatures\n",
        "# Polynomial transformation of degree 2\n",
        "poly_features = PolynomialFeatures(degree = 2)\n",
        "# Returns a transformed version of X with new features\n",
        "poly_features.fit(X_train_scaled)\n",
        "X_train_scaled_poly = poly_features.transform(X_train_scaled)\n",
        "# save the scaler\n",
        "pickle.dump(poly_features, open('poly_feature.pkl', 'wb'))\n",
        "# transform test\n",
        "X_test_scaled_poly = poly_features.transform(X_test_scaled)\n"
      ],
      "execution_count": null,
      "outputs": []
    },
    {
      "cell_type": "code",
      "metadata": {
        "colab": {
          "base_uri": "https://localhost:8080/"
        },
        "id": "i2Lw-I3_DpMe",
        "outputId": "31b4f283-b256-443b-befd-8971c68bf08c"
      },
      "source": [
        "poly_reg = LinearRegression()\n",
        "poly_reg_score = cross_val_score(poly_reg, X_train_scaled_poly, y_train, verbose = 2)\n",
        "poly_reg_score"
      ],
      "execution_count": null,
      "outputs": [
        {
          "output_type": "stream",
          "text": [
            "[CV]  ................................................................\n",
            "[CV] ................................................. , total=   0.0s\n",
            "[CV]  ................................................................\n",
            "[CV] ................................................. , total=   0.0s\n",
            "[CV]  ................................................................\n",
            "[CV] ................................................. , total=   0.0s\n",
            "[CV]  ................................................................\n",
            "[CV] ................................................. , total=   0.0s\n",
            "[CV]  ................................................................\n",
            "[CV] ................................................. , total=   0.0s\n"
          ],
          "name": "stdout"
        },
        {
          "output_type": "stream",
          "text": [
            "[Parallel(n_jobs=1)]: Using backend SequentialBackend with 1 concurrent workers.\n",
            "[Parallel(n_jobs=1)]: Done   1 out of   1 | elapsed:    0.0s remaining:    0.0s\n",
            "[Parallel(n_jobs=1)]: Done   5 out of   5 | elapsed:    0.1s finished\n"
          ],
          "name": "stderr"
        },
        {
          "output_type": "execute_result",
          "data": {
            "text/plain": [
              "array([0.55180094, 0.61303162, 0.512237  , 0.57873961, 0.54709357])"
            ]
          },
          "metadata": {
            "tags": []
          },
          "execution_count": 128
        }
      ]
    },
    {
      "cell_type": "code",
      "metadata": {
        "colab": {
          "base_uri": "https://localhost:8080/"
        },
        "id": "BklQN-b8DpMg",
        "outputId": "b88d46c2-8397-49a0-dfd2-b4b326be4ec7"
      },
      "source": [
        "poly_reg.fit(X_train_scaled_poly, y_train)\n",
        "y_pred_poly = poly_reg.predict(X_test_scaled_poly)\n",
        "poly_reg.score(X_test_scaled_poly, y_test)"
      ],
      "execution_count": null,
      "outputs": [
        {
          "output_type": "execute_result",
          "data": {
            "text/plain": [
              "0.580575495042168"
            ]
          },
          "metadata": {
            "tags": []
          },
          "execution_count": 129
        }
      ]
    },
    {
      "cell_type": "code",
      "metadata": {
        "colab": {
          "base_uri": "https://localhost:8080/"
        },
        "id": "1qcoNxI7DpMh",
        "outputId": "d5643938-f094-4764-a773-dcd152d6be82"
      },
      "source": [
        "print('Mean Absolute Error: ', round(metrics.mean_absolute_error(y_test, y_pred_poly), 3))\n",
        "print('Mean Squared Error: ', round(metrics.mean_squared_error(y_test, y_pred_poly), 3))\n",
        "print('Root Mean Squared Error: ', round(np.sqrt(metrics.mean_squared_error(y_test, y_pred_poly)), 3))\n",
        "print('R2 score: ', round(r2_score(y_test, y_pred_poly), 3))"
      ],
      "execution_count": null,
      "outputs": [
        {
          "output_type": "stream",
          "text": [
            "Mean Absolute Error:  705354.35\n",
            "Mean Squared Error:  901354200894.197\n",
            "Root Mean Squared Error:  949396.756\n",
            "R2 score:  0.581\n"
          ],
          "name": "stdout"
        }
      ]
    },
    {
      "cell_type": "markdown",
      "metadata": {
        "id": "vD0H6I6ZDpMi"
      },
      "source": [
        "######**Decision Trees**"
      ]
    },
    {
      "cell_type": "code",
      "metadata": {
        "colab": {
          "base_uri": "https://localhost:8080/"
        },
        "id": "WNHK_fnODpMi",
        "outputId": "ee008ec4-cae5-482f-804d-8a6c813ff439"
      },
      "source": [
        "dec_tree = DecisionTreeRegressor(random_state=42)\n",
        "dec_tree.fit(X_train_scaled, y_train.ravel())"
      ],
      "execution_count": null,
      "outputs": [
        {
          "output_type": "execute_result",
          "data": {
            "text/plain": [
              "DecisionTreeRegressor(ccp_alpha=0.0, criterion='mse', max_depth=None,\n",
              "                      max_features=None, max_leaf_nodes=None,\n",
              "                      min_impurity_decrease=0.0, min_impurity_split=None,\n",
              "                      min_samples_leaf=1, min_samples_split=2,\n",
              "                      min_weight_fraction_leaf=0.0, presort='deprecated',\n",
              "                      random_state=42, splitter='best')"
            ]
          },
          "metadata": {
            "tags": []
          },
          "execution_count": 131
        }
      ]
    },
    {
      "cell_type": "code",
      "metadata": {
        "id": "hhlGEVEbDpMj"
      },
      "source": [
        "y_predDT = dec_tree.predict(X_test_scaled)"
      ],
      "execution_count": null,
      "outputs": []
    },
    {
      "cell_type": "code",
      "metadata": {
        "colab": {
          "base_uri": "https://localhost:8080/"
        },
        "id": "4TMPv7qDDpMj",
        "outputId": "adc44a76-396a-4253-e5d7-92abd8f83fb8"
      },
      "source": [
        "print('Mean Absolute Error: ', round(metrics.mean_absolute_error(y_test, y_predDT), 3))\n",
        "print('Mean Squared Error: ', round(metrics.mean_squared_error(y_test, y_predDT), 3))\n",
        "print('Root Mean Squared Error: ', round(np.sqrt(metrics.mean_squared_error(y_test, y_predDT)), 3))\n",
        "print('R2 score: ', round(r2_score(y_test, y_predDT), 3))"
      ],
      "execution_count": null,
      "outputs": [
        {
          "output_type": "stream",
          "text": [
            "Mean Absolute Error:  690152.323\n",
            "Mean Squared Error:  1050548861584.076\n",
            "Root Mean Squared Error:  1024962.859\n",
            "R2 score:  0.511\n"
          ],
          "name": "stdout"
        }
      ]
    },
    {
      "cell_type": "code",
      "metadata": {
        "colab": {
          "base_uri": "https://localhost:8080/"
        },
        "id": "zp6di6E8DpMk",
        "outputId": "3ae907c3-450b-4faf-d276-630b7e6844aa"
      },
      "source": [
        "evaluate(dec_tree, X_train_scaled, y_train)\n",
        "evaluate(dec_tree, X_test_scaled, y_test)"
      ],
      "execution_count": null,
      "outputs": [
        {
          "output_type": "stream",
          "text": [
            "Model Performance\n",
            "Accuracy = 100.00%.\n",
            "Model Performance\n",
            "Accuracy = 58.41%.\n"
          ],
          "name": "stdout"
        },
        {
          "output_type": "execute_result",
          "data": {
            "text/plain": [
              "58.41263615527036"
            ]
          },
          "metadata": {
            "tags": []
          },
          "execution_count": 134
        }
      ]
    },
    {
      "cell_type": "code",
      "metadata": {
        "colab": {
          "base_uri": "https://localhost:8080/"
        },
        "id": "EiTQ0VxthbH6",
        "outputId": "36f46c4e-3e2d-47c8-bd8a-5858babb22cd"
      },
      "source": [
        "param_grid = {'max_features': ['auto', 'sqrt'],\n",
        "              'max_depth': np.arange(5, 36, 5),\n",
        "              'min_samples_split': [5, 10, 20, 40],\n",
        "              'min_samples_leaf': [2, 6, 12, 24],\n",
        "             }\n",
        "tree_reg = RandomizedSearchCV(estimator = DecisionTreeRegressor(), param_distributions = param_grid, n_iter = 100, verbose = 2, n_jobs = -1)\n",
        "tree_reg.fit(X_train_scaled, y_train)\n",
        "\n",
        "# Results from Randomized Search\n",
        "print(\"\\n========================================================\")\n",
        "print(\" Results from Randomized Search \" )\n",
        "print(\"========================================================\")    \n",
        "    \n",
        "print(\"\\n The best estimator across ALL searched params:\\n\",\n",
        "          tree_reg.best_estimator_)\n",
        "    \n",
        "print(\"\\n The best score across ALL searched params:\\n\",\n",
        "          tree_reg.best_score_)\n",
        "    \n",
        "print(\"\\n The best parameters across ALL searched params:\\n\",\n",
        "          tree_reg.best_params_)"
      ],
      "execution_count": null,
      "outputs": [
        {
          "output_type": "stream",
          "text": [
            "Fitting 5 folds for each of 100 candidates, totalling 500 fits\n"
          ],
          "name": "stdout"
        },
        {
          "output_type": "stream",
          "text": [
            "[Parallel(n_jobs=-1)]: Using backend LokyBackend with 2 concurrent workers.\n",
            "[Parallel(n_jobs=-1)]: Done 234 tasks      | elapsed:    2.0s\n"
          ],
          "name": "stderr"
        },
        {
          "output_type": "stream",
          "text": [
            "\n",
            "========================================================\n",
            " Results from Randomized Search \n",
            "========================================================\n",
            "\n",
            " The best estimator across ALL searched params:\n",
            " DecisionTreeRegressor(ccp_alpha=0.0, criterion='mse', max_depth=15,\n",
            "                      max_features='auto', max_leaf_nodes=None,\n",
            "                      min_impurity_decrease=0.0, min_impurity_split=None,\n",
            "                      min_samples_leaf=6, min_samples_split=10,\n",
            "                      min_weight_fraction_leaf=0.0, presort='deprecated',\n",
            "                      random_state=None, splitter='best')\n",
            "\n",
            " The best score across ALL searched params:\n",
            " 0.5737913773855094\n",
            "\n",
            " The best parameters across ALL searched params:\n",
            " {'min_samples_split': 10, 'min_samples_leaf': 6, 'max_features': 'auto', 'max_depth': 15}\n"
          ],
          "name": "stdout"
        },
        {
          "output_type": "stream",
          "text": [
            "[Parallel(n_jobs=-1)]: Done 500 out of 500 | elapsed:    2.9s finished\n"
          ],
          "name": "stderr"
        }
      ]
    },
    {
      "cell_type": "code",
      "metadata": {
        "colab": {
          "base_uri": "https://localhost:8080/"
        },
        "id": "makAPUkLhg81",
        "outputId": "d048a824-0bdb-418e-c870-4ec562cac7c5"
      },
      "source": [
        "new_dec_tree = DecisionTreeRegressor(min_samples_split=10, min_samples_leaf=6, max_features='auto', max_depth=15, random_state=42)\n",
        "new_dec_tree.fit(X_train_scaled, y_train)"
      ],
      "execution_count": null,
      "outputs": [
        {
          "output_type": "execute_result",
          "data": {
            "text/plain": [
              "DecisionTreeRegressor(ccp_alpha=0.0, criterion='mse', max_depth=15,\n",
              "                      max_features='auto', max_leaf_nodes=None,\n",
              "                      min_impurity_decrease=0.0, min_impurity_split=None,\n",
              "                      min_samples_leaf=6, min_samples_split=10,\n",
              "                      min_weight_fraction_leaf=0.0, presort='deprecated',\n",
              "                      random_state=42, splitter='best')"
            ]
          },
          "metadata": {
            "tags": []
          },
          "execution_count": 142
        }
      ]
    },
    {
      "cell_type": "code",
      "metadata": {
        "colab": {
          "base_uri": "https://localhost:8080/"
        },
        "id": "vGXYeo76l3TN",
        "outputId": "8bda4534-91a2-42db-ae63-8f2719a49b3c"
      },
      "source": [
        "y_predDT = new_dec_tree.predict(X_test_scaled)\n",
        "print('Mean Absolute Error: ', round(metrics.mean_absolute_error(y_test, y_predDT), 3))\n",
        "print('Mean Squared Error: ', round(metrics.mean_squared_error(y_test, y_predDT), 3))\n",
        "print('Root Mean Squared Error: ', round(np.sqrt(metrics.mean_squared_error(y_test, y_predDT)), 3))\n",
        "print('R2 score: ', round(r2_score(y_test, y_predDT), 3))"
      ],
      "execution_count": null,
      "outputs": [
        {
          "output_type": "stream",
          "text": [
            "Mean Absolute Error:  676501.759\n",
            "Mean Squared Error:  941374659086.483\n",
            "Root Mean Squared Error:  970244.639\n",
            "R2 score:  0.562\n"
          ],
          "name": "stdout"
        }
      ]
    },
    {
      "cell_type": "code",
      "metadata": {
        "colab": {
          "base_uri": "https://localhost:8080/"
        },
        "id": "u_BZN4adhw8i",
        "outputId": "6a27aa7d-f489-4cec-8447-1a62efca387d"
      },
      "source": [
        "evaluate(new_dec_tree, X_train_scaled, y_train)\n",
        "evaluate(new_dec_tree, X_test_scaled, y_test)"
      ],
      "execution_count": null,
      "outputs": [
        {
          "output_type": "stream",
          "text": [
            "Model Performance\n",
            "Accuracy = 76.49%.\n",
            "Model Performance\n",
            "Accuracy = 60.34%.\n"
          ],
          "name": "stdout"
        },
        {
          "output_type": "execute_result",
          "data": {
            "text/plain": [
              "60.341442315784676"
            ]
          },
          "metadata": {
            "tags": []
          },
          "execution_count": 144
        }
      ]
    },
    {
      "cell_type": "markdown",
      "metadata": {
        "id": "5adS7XNeDpMo"
      },
      "source": [
        "######**Random Forest Regressor**"
      ]
    },
    {
      "cell_type": "code",
      "metadata": {
        "colab": {
          "base_uri": "https://localhost:8080/"
        },
        "id": "mYCBvoheDpMo",
        "outputId": "0bf88c45-9970-4925-dfc8-ed203410d63a"
      },
      "source": [
        "rfr = RandomForestRegressor(n_estimators=800, random_state=42)\n",
        "rfr.fit(X_train_scaled, y_train.ravel())"
      ],
      "execution_count": null,
      "outputs": [
        {
          "output_type": "execute_result",
          "data": {
            "text/plain": [
              "RandomForestRegressor(bootstrap=True, ccp_alpha=0.0, criterion='mse',\n",
              "                      max_depth=None, max_features='auto', max_leaf_nodes=None,\n",
              "                      max_samples=None, min_impurity_decrease=0.0,\n",
              "                      min_impurity_split=None, min_samples_leaf=1,\n",
              "                      min_samples_split=2, min_weight_fraction_leaf=0.0,\n",
              "                      n_estimators=800, n_jobs=None, oob_score=False,\n",
              "                      random_state=42, verbose=0, warm_start=False)"
            ]
          },
          "metadata": {
            "tags": []
          },
          "execution_count": 145
        }
      ]
    },
    {
      "cell_type": "code",
      "metadata": {
        "id": "gYTg6ro0DpMp"
      },
      "source": [
        "y_predRF = rfr.predict(X_test_scaled)"
      ],
      "execution_count": null,
      "outputs": []
    },
    {
      "cell_type": "code",
      "metadata": {
        "colab": {
          "base_uri": "https://localhost:8080/"
        },
        "id": "Fx86e49rmhIT",
        "outputId": "f82572a1-97a8-4ba5-e141-e3ce49763442"
      },
      "source": [
        "print('Mean Absolute Error: ', round(metrics.mean_absolute_error(y_test, y_predRF), 3))\n",
        "print('Mean Squared Error: ', round(metrics.mean_squared_error(y_test, y_predRF), 3))\n",
        "print('Root Mean Squared Error: ', round(np.sqrt(metrics.mean_squared_error(y_test, y_predRF)), 3))\n",
        "print('R2 score: ', round(r2_score(y_test, y_predRF), 3))"
      ],
      "execution_count": null,
      "outputs": [
        {
          "output_type": "stream",
          "text": [
            "Mean Absolute Error:  537542.017\n",
            "Mean Squared Error:  557192432238.017\n",
            "Root Mean Squared Error:  746453.235\n",
            "R2 score:  0.741\n"
          ],
          "name": "stdout"
        }
      ]
    },
    {
      "cell_type": "code",
      "metadata": {
        "colab": {
          "base_uri": "https://localhost:8080/"
        },
        "id": "7ji3ZulrfiSX",
        "outputId": "f68749f6-5b1f-42cc-bc61-a78528a9fe5c"
      },
      "source": [
        "evaluate(rfr, X_train_scaled, y_train)\n",
        "evaluate(rfr, X_test_scaled, y_test)"
      ],
      "execution_count": null,
      "outputs": [
        {
          "output_type": "stream",
          "text": [
            "Model Performance\n",
            "Accuracy = 88.48%.\n",
            "Model Performance\n",
            "Accuracy = 66.23%.\n"
          ],
          "name": "stdout"
        },
        {
          "output_type": "execute_result",
          "data": {
            "text/plain": [
              "66.23345437428205"
            ]
          },
          "metadata": {
            "tags": []
          },
          "execution_count": 148
        }
      ]
    },
    {
      "cell_type": "code",
      "metadata": {
        "colab": {
          "base_uri": "https://localhost:8080/"
        },
        "id": "_AnyBnZmDpMs",
        "outputId": "8d7f9e3d-3a9e-4ff0-8239-b0077f17d3cd"
      },
      "source": [
        "# to find the best parameters for random forest\n",
        "model = RandomForestRegressor()\n",
        "n_estimators = [10, 50, 100, 250, 400, 1000]\n",
        "min_samples_split = [2, 3, 5, 7, 9]\n",
        "min_samples_leaf = [1, 2, 4, 6, 8]\n",
        "max_features = ['auto', 'sqrt', 'log2', None]\n",
        "\n",
        "parameters = {'n_estimators': n_estimators,\n",
        "              'min_samples_leaf': min_samples_leaf,\n",
        "              'min_samples_split': min_samples_split,\n",
        "              'max_features': max_features}\n",
        "\n",
        "grid = GridSearchCV(model, parameters, cv = 2, n_jobs=-1)\n",
        "gs = grid.fit(X_train_scaled, y_train)    \n",
        "\n",
        "# Results from Grid Search\n",
        "print(\"\\n========================================================\")\n",
        "print(\" Results from Grid Search \" )\n",
        "print(\"========================================================\")    \n",
        "    \n",
        "print(\"\\n The best estimator across ALL searched params:\\n\",\n",
        "          gs.best_estimator_)\n",
        "    \n",
        "print(\"\\n The best score across ALL searched params:\\n\",\n",
        "          gs.best_score_)\n",
        "    \n",
        "print(\"\\n The best parameters across ALL searched params:\\n\",\n",
        "          gs.best_params_)"
      ],
      "execution_count": null,
      "outputs": [
        {
          "output_type": "stream",
          "text": [
            "\n",
            "========================================================\n",
            " Results from Grid Search \n",
            "========================================================\n",
            "\n",
            " The best estimator across ALL searched params:\n",
            " RandomForestRegressor(bootstrap=True, ccp_alpha=0.0, criterion='mse',\n",
            "                      max_depth=None, max_features='auto', max_leaf_nodes=None,\n",
            "                      max_samples=None, min_impurity_decrease=0.0,\n",
            "                      min_impurity_split=None, min_samples_leaf=1,\n",
            "                      min_samples_split=7, min_weight_fraction_leaf=0.0,\n",
            "                      n_estimators=400, n_jobs=None, oob_score=False,\n",
            "                      random_state=None, verbose=0, warm_start=False)\n",
            "\n",
            " The best score across ALL searched params:\n",
            " 0.6560154567219029\n",
            "\n",
            " The best parameters across ALL searched params:\n",
            " {'max_features': 'auto', 'min_samples_leaf': 1, 'min_samples_split': 7, 'n_estimators': 400}\n"
          ],
          "name": "stdout"
        }
      ]
    },
    {
      "cell_type": "code",
      "metadata": {
        "colab": {
          "base_uri": "https://localhost:8080/"
        },
        "id": "sXY5lrjwDpMt",
        "outputId": "e8e0b15d-52d8-4490-deb0-cce30a46190b"
      },
      "source": [
        "# using best parameters gotten from the grid search\n",
        "rfr1 = RandomForestRegressor(random_state=42, n_estimators=400, min_samples_split=7)\n",
        "rfr1.fit(X_train_scaled, y_train.ravel())"
      ],
      "execution_count": null,
      "outputs": [
        {
          "output_type": "execute_result",
          "data": {
            "text/plain": [
              "RandomForestRegressor(bootstrap=True, ccp_alpha=0.0, criterion='mse',\n",
              "                      max_depth=None, max_features='auto', max_leaf_nodes=None,\n",
              "                      max_samples=None, min_impurity_decrease=0.0,\n",
              "                      min_impurity_split=None, min_samples_leaf=1,\n",
              "                      min_samples_split=7, min_weight_fraction_leaf=0.0,\n",
              "                      n_estimators=400, n_jobs=None, oob_score=False,\n",
              "                      random_state=42, verbose=0, warm_start=False)"
            ]
          },
          "metadata": {
            "tags": []
          },
          "execution_count": 150
        }
      ]
    },
    {
      "cell_type": "code",
      "metadata": {
        "id": "9LRSFwjvDpMu"
      },
      "source": [
        "y_predRF = rfr1.predict(X_test_scaled)"
      ],
      "execution_count": null,
      "outputs": []
    },
    {
      "cell_type": "code",
      "metadata": {
        "colab": {
          "base_uri": "https://localhost:8080/"
        },
        "id": "9b5lrQCoDpMw",
        "outputId": "2adbeffb-a179-4bca-a8ff-8b74b3734d0d"
      },
      "source": [
        "print('Mean Absolute Error: ', round(metrics.mean_absolute_error(y_test, y_predRF), 3))\n",
        "print('Mean Squared Error: ', round(metrics.mean_squared_error(y_test, y_predRF), 3))\n",
        "print('Root Mean Squared Error: ', round(np.sqrt(metrics.mean_squared_error(y_test, y_predRF)), 3))\n",
        "print('R2 score: ', round(r2_score(y_test, y_predRF), 3))"
      ],
      "execution_count": null,
      "outputs": [
        {
          "output_type": "stream",
          "text": [
            "Mean Absolute Error:  545419.185\n",
            "Mean Squared Error:  567550461688.558\n",
            "Root Mean Squared Error:  753359.451\n",
            "R2 score:  0.736\n"
          ],
          "name": "stdout"
        }
      ]
    },
    {
      "cell_type": "code",
      "metadata": {
        "colab": {
          "base_uri": "https://localhost:8080/"
        },
        "id": "mFcO8dmPDpMw",
        "outputId": "509ae192-1468-4590-867f-b0a413b710b5"
      },
      "source": [
        "evaluate(rfr1, X_train_scaled, y_train)\n",
        "evaluate(rfr1, X_test_scaled, y_test)"
      ],
      "execution_count": null,
      "outputs": [
        {
          "output_type": "stream",
          "text": [
            "Model Performance\n",
            "Accuracy = 83.17%.\n",
            "Model Performance\n",
            "Accuracy = 65.71%.\n"
          ],
          "name": "stdout"
        },
        {
          "output_type": "execute_result",
          "data": {
            "text/plain": [
              "65.70987157417133"
            ]
          },
          "metadata": {
            "tags": []
          },
          "execution_count": 153
        }
      ]
    },
    {
      "cell_type": "code",
      "metadata": {
        "colab": {
          "base_uri": "https://localhost:8080/"
        },
        "id": "aGNNq4cmDpMy",
        "outputId": "3e2f2a38-2dd3-4310-c6d1-b81e3e23ac87"
      },
      "source": [
        "from sklearn.model_selection import RandomizedSearchCV\n",
        "\n",
        "n_estimators = [int(x) for x in np.linspace(start = 200, stop = 2000, num = 10)]\n",
        "max_features = ['auto', 'sqrt']\n",
        "max_depth = [int(x) for x in np.linspace(10, 110, num = 11)]\n",
        "max_depth.append(None)\n",
        "min_samples_split = [2, 5, 10, 20, 40]\n",
        "min_samples_leaf = [1, 2, 4, 6, 12, 24]\n",
        "bootstrap = [True, False]\n",
        "\n",
        "# Create the random grid\n",
        "random_grid = {'n_estimators': n_estimators,\n",
        "               'max_features': max_features,\n",
        "               'max_depth': max_depth,\n",
        "               'min_samples_split': min_samples_split,\n",
        "               'min_samples_leaf': min_samples_leaf,\n",
        "               'bootstrap': bootstrap}\n",
        "\n",
        "# Use the random grid to search for best hyperparameters\n",
        "# First create the base model to tune\n",
        "rf = RandomForestRegressor()\n",
        "# Random search of parameters, using 2 fold cross validation, \n",
        "# search across 100 different combinations\n",
        "rf_random = RandomizedSearchCV(estimator = rf, param_distributions = random_grid, n_iter = 100, cv = 2, verbose=2, random_state=42, n_jobs = -1)\n",
        "# Fit the random search model\n",
        "rf_random.fit(X_train_scaled, y_train)\n",
        "\n",
        "# Results from Randomized Search\n",
        "print(\"\\n========================================================\")\n",
        "print(\" Results from Randomized Search \" )\n",
        "print(\"========================================================\")    \n",
        "    \n",
        "print(\"\\n The best estimator across ALL searched params:\\n\",\n",
        "          rf_random.best_estimator_)\n",
        "    \n",
        "print(\"\\n The best score across ALL searched params:\\n\",\n",
        "          rf_random.best_score_)\n",
        "    \n",
        "print(\"\\n The best parameters across ALL searched params:\\n\",\n",
        "          rf_random.best_params_)"
      ],
      "execution_count": null,
      "outputs": [
        {
          "output_type": "stream",
          "text": [
            "Fitting 2 folds for each of 100 candidates, totalling 200 fits\n"
          ],
          "name": "stdout"
        },
        {
          "output_type": "stream",
          "text": [
            "[Parallel(n_jobs=-1)]: Using backend LokyBackend with 2 concurrent workers.\n",
            "[Parallel(n_jobs=-1)]: Done  37 tasks      | elapsed:  1.2min\n",
            "[Parallel(n_jobs=-1)]: Done 158 tasks      | elapsed:  5.6min\n",
            "[Parallel(n_jobs=-1)]: Done 200 out of 200 | elapsed:  7.0min finished\n"
          ],
          "name": "stderr"
        },
        {
          "output_type": "stream",
          "text": [
            "\n",
            "========================================================\n",
            " Results from Randomized Search \n",
            "========================================================\n",
            "\n",
            " The best estimator across ALL searched params:\n",
            " RandomForestRegressor(bootstrap=True, ccp_alpha=0.0, criterion='mse',\n",
            "                      max_depth=60, max_features='auto', max_leaf_nodes=None,\n",
            "                      max_samples=None, min_impurity_decrease=0.0,\n",
            "                      min_impurity_split=None, min_samples_leaf=1,\n",
            "                      min_samples_split=2, min_weight_fraction_leaf=0.0,\n",
            "                      n_estimators=1200, n_jobs=None, oob_score=False,\n",
            "                      random_state=None, verbose=0, warm_start=False)\n",
            "\n",
            " The best score across ALL searched params:\n",
            " 0.6539252681648922\n",
            "\n",
            " The best parameters across ALL searched params:\n",
            " {'n_estimators': 1200, 'min_samples_split': 2, 'min_samples_leaf': 1, 'max_features': 'auto', 'max_depth': 60, 'bootstrap': True}\n"
          ],
          "name": "stdout"
        }
      ]
    },
    {
      "cell_type": "code",
      "metadata": {
        "colab": {
          "base_uri": "https://localhost:8080/"
        },
        "id": "4_mz5uQ6DpMz",
        "outputId": "d0491092-d011-4fee-f609-2d87576c25f3"
      },
      "source": [
        "# using the best parameters gotten from the randomized search\n",
        "rfr2 = RandomForestRegressor(random_state=42, n_estimators=1200, min_samples_split=2, min_samples_leaf=1, max_depth=60)\n",
        "rfr2.fit(X_train_scaled, y_train.ravel())"
      ],
      "execution_count": null,
      "outputs": [
        {
          "output_type": "execute_result",
          "data": {
            "text/plain": [
              "RandomForestRegressor(bootstrap=True, ccp_alpha=0.0, criterion='mse',\n",
              "                      max_depth=60, max_features='auto', max_leaf_nodes=None,\n",
              "                      max_samples=None, min_impurity_decrease=0.0,\n",
              "                      min_impurity_split=None, min_samples_leaf=1,\n",
              "                      min_samples_split=2, min_weight_fraction_leaf=0.0,\n",
              "                      n_estimators=1200, n_jobs=None, oob_score=False,\n",
              "                      random_state=42, verbose=0, warm_start=False)"
            ]
          },
          "metadata": {
            "tags": []
          },
          "execution_count": 155
        }
      ]
    },
    {
      "cell_type": "code",
      "metadata": {
        "id": "yjGUaKJgDpM0"
      },
      "source": [
        "y_predRF = rfr2.predict(X_test_scaled)"
      ],
      "execution_count": null,
      "outputs": []
    },
    {
      "cell_type": "code",
      "metadata": {
        "colab": {
          "base_uri": "https://localhost:8080/"
        },
        "id": "CqkvdQtrDpM0",
        "outputId": "d7ee63dc-532b-449e-bf80-053f83bb8072"
      },
      "source": [
        "print('Mean Absolute Error: ', round(metrics.mean_absolute_error(y_test, y_predRF), 3))\n",
        "print('Mean Squared Error: ', round(metrics.mean_squared_error(y_test, y_predRF), 3))\n",
        "print('Root Mean Squared Error: ', round(np.sqrt(metrics.mean_squared_error(y_test, y_predRF)), 3))\n",
        "print('R2 score: ', round(r2_score(y_test, y_predRF), 3))"
      ],
      "execution_count": null,
      "outputs": [
        {
          "output_type": "stream",
          "text": [
            "Mean Absolute Error:  538487.082\n",
            "Mean Squared Error:  558446965722.571\n",
            "Root Mean Squared Error:  747293.092\n",
            "R2 score:  0.74\n"
          ],
          "name": "stdout"
        }
      ]
    },
    {
      "cell_type": "code",
      "metadata": {
        "colab": {
          "base_uri": "https://localhost:8080/"
        },
        "id": "GU90gUYWDpM1",
        "outputId": "77f1aa80-0d0a-427b-e62b-27be340f9a06"
      },
      "source": [
        "evaluate(rfr2, X_train_scaled, y_train)\n",
        "evaluate(rfr2, X_test_scaled, y_test)"
      ],
      "execution_count": null,
      "outputs": [
        {
          "output_type": "stream",
          "text": [
            "Model Performance\n",
            "Accuracy = 88.50%.\n",
            "Model Performance\n",
            "Accuracy = 66.12%.\n"
          ],
          "name": "stdout"
        },
        {
          "output_type": "execute_result",
          "data": {
            "text/plain": [
              "66.12256099440617"
            ]
          },
          "metadata": {
            "tags": []
          },
          "execution_count": 158
        }
      ]
    },
    {
      "cell_type": "markdown",
      "metadata": {
        "id": "pebDF2YvDpM2"
      },
      "source": [
        "######**Extra Trees Regressor**"
      ]
    },
    {
      "cell_type": "code",
      "metadata": {
        "colab": {
          "base_uri": "https://localhost:8080/"
        },
        "id": "FtctGRUaDpM2",
        "outputId": "b92c2327-4a4c-442f-bfa4-441559f566e3"
      },
      "source": [
        "et = ExtraTreesRegressor(n_estimators=400, random_state=42)\n",
        "et.fit(X_train_scaled, y_train.ravel())"
      ],
      "execution_count": null,
      "outputs": [
        {
          "output_type": "execute_result",
          "data": {
            "text/plain": [
              "ExtraTreesRegressor(bootstrap=False, ccp_alpha=0.0, criterion='mse',\n",
              "                    max_depth=None, max_features='auto', max_leaf_nodes=None,\n",
              "                    max_samples=None, min_impurity_decrease=0.0,\n",
              "                    min_impurity_split=None, min_samples_leaf=1,\n",
              "                    min_samples_split=2, min_weight_fraction_leaf=0.0,\n",
              "                    n_estimators=400, n_jobs=None, oob_score=False,\n",
              "                    random_state=42, verbose=0, warm_start=False)"
            ]
          },
          "metadata": {
            "tags": []
          },
          "execution_count": 160
        }
      ]
    },
    {
      "cell_type": "code",
      "metadata": {
        "id": "sfJGDyw2DpM2"
      },
      "source": [
        "y_predET = et.predict(X_test_scaled)"
      ],
      "execution_count": null,
      "outputs": []
    },
    {
      "cell_type": "code",
      "metadata": {
        "colab": {
          "base_uri": "https://localhost:8080/"
        },
        "id": "MUTfJumhvIqE",
        "outputId": "0c4b7a68-e9bf-4336-df49-ed70aaf43bbd"
      },
      "source": [
        "print('Mean Absolute Error: ', round(metrics.mean_absolute_error(y_test, y_predET), 3))\n",
        "print('Mean Squared Error: ', round(metrics.mean_squared_error(y_test, y_predET), 3))\n",
        "print('Root Mean Squared Error: ', round(np.sqrt(metrics.mean_squared_error(y_test, y_predET)), 3))\n",
        "print('R2 score: ', round(r2_score(y_test, y_predET), 3))"
      ],
      "execution_count": null,
      "outputs": [
        {
          "output_type": "stream",
          "text": [
            "Mean Absolute Error:  602741.9\n",
            "Mean Squared Error:  710104077155.388\n",
            "Root Mean Squared Error:  842676.733\n",
            "R2 score:  0.67\n"
          ],
          "name": "stdout"
        }
      ]
    },
    {
      "cell_type": "code",
      "metadata": {
        "colab": {
          "base_uri": "https://localhost:8080/"
        },
        "id": "F0eCgJ37DpM3",
        "outputId": "4d62cc0b-e26b-45d6-c182-e3a9f2513b63"
      },
      "source": [
        "evaluate(et, X_train_scaled, y_train)\n",
        "evaluate(et, X_test_scaled, y_test)"
      ],
      "execution_count": null,
      "outputs": [
        {
          "output_type": "stream",
          "text": [
            "Model Performance\n",
            "Accuracy = 100.00%.\n",
            "Model Performance\n",
            "Accuracy = 63.58%.\n"
          ],
          "name": "stdout"
        },
        {
          "output_type": "execute_result",
          "data": {
            "text/plain": [
              "63.57936788920714"
            ]
          },
          "metadata": {
            "tags": []
          },
          "execution_count": 163
        }
      ]
    },
    {
      "cell_type": "markdown",
      "metadata": {
        "id": "UJZQb31UDpM4"
      },
      "source": [
        "######**ADA BOOST REGRESSOR**"
      ]
    },
    {
      "cell_type": "code",
      "metadata": {
        "colab": {
          "base_uri": "https://localhost:8080/"
        },
        "id": "OUHDzgNJDpM4",
        "outputId": "98401113-3b9f-4b0b-84d2-1f6da2e227aa"
      },
      "source": [
        "ada = AdaBoostRegressor(DecisionTreeRegressor(), n_estimators=600, random_state=42)\n",
        "ada.fit(X_train_scaled, y_train.ravel())"
      ],
      "execution_count": null,
      "outputs": [
        {
          "output_type": "execute_result",
          "data": {
            "text/plain": [
              "AdaBoostRegressor(base_estimator=DecisionTreeRegressor(ccp_alpha=0.0,\n",
              "                                                       criterion='mse',\n",
              "                                                       max_depth=None,\n",
              "                                                       max_features=None,\n",
              "                                                       max_leaf_nodes=None,\n",
              "                                                       min_impurity_decrease=0.0,\n",
              "                                                       min_impurity_split=None,\n",
              "                                                       min_samples_leaf=1,\n",
              "                                                       min_samples_split=2,\n",
              "                                                       min_weight_fraction_leaf=0.0,\n",
              "                                                       presort='deprecated',\n",
              "                                                       random_state=None,\n",
              "                                                       splitter='best'),\n",
              "                  learning_rate=1.0, loss='linear', n_estimators=600,\n",
              "                  random_state=42)"
            ]
          },
          "metadata": {
            "tags": []
          },
          "execution_count": 165
        }
      ]
    },
    {
      "cell_type": "code",
      "metadata": {
        "id": "eM1j9EsLDpM4"
      },
      "source": [
        "y_predADA = ada.predict(X_test_scaled)"
      ],
      "execution_count": null,
      "outputs": []
    },
    {
      "cell_type": "code",
      "metadata": {
        "colab": {
          "base_uri": "https://localhost:8080/"
        },
        "id": "ZlpD8eS8x2lk",
        "outputId": "9bea1f16-17d1-47db-90dd-1cc0b5d3438d"
      },
      "source": [
        "print('Mean Absolute Error: ', round(metrics.mean_absolute_error(y_test, y_predADA), 3))\n",
        "print('Mean Squared Error: ', round(metrics.mean_squared_error(y_test, y_predADA), 3))\n",
        "print('Root Mean Squared Error: ', round(np.sqrt(metrics.mean_squared_error(y_test, y_predADA)), 3))\n",
        "print('R2 score: ', round(r2_score(y_test, y_predADA), 3))"
      ],
      "execution_count": null,
      "outputs": [
        {
          "output_type": "stream",
          "text": [
            "Mean Absolute Error:  511625.48\n",
            "Mean Squared Error:  519281355876.655\n",
            "Root Mean Squared Error:  720611.793\n",
            "R2 score:  0.758\n"
          ],
          "name": "stdout"
        }
      ]
    },
    {
      "cell_type": "code",
      "metadata": {
        "colab": {
          "base_uri": "https://localhost:8080/"
        },
        "id": "hKlfrC82xz_s",
        "outputId": "5c508473-3f81-4128-d582-6d7b285b79e5"
      },
      "source": [
        "evaluate(ada, X_train_scaled, y_train)\n",
        "evaluate(ada, X_test_scaled, y_test)"
      ],
      "execution_count": null,
      "outputs": [
        {
          "output_type": "stream",
          "text": [
            "Model Performance\n",
            "Accuracy = 96.69%.\n",
            "Model Performance\n",
            "Accuracy = 69.76%.\n"
          ],
          "name": "stdout"
        },
        {
          "output_type": "execute_result",
          "data": {
            "text/plain": [
              "69.7639212029077"
            ]
          },
          "metadata": {
            "tags": []
          },
          "execution_count": 168
        }
      ]
    },
    {
      "cell_type": "markdown",
      "metadata": {
        "id": "ilOS7URCDpM8"
      },
      "source": [
        "######**XGBRegressor**"
      ]
    },
    {
      "cell_type": "code",
      "metadata": {
        "colab": {
          "base_uri": "https://localhost:8080/"
        },
        "id": "yTpqoA3lDpM8",
        "outputId": "35e8d892-02a7-42cd-fec0-2ff4668af5bb"
      },
      "source": [
        "xgb = XGBRegressor(n_estimators=1000, random_state=42)\n",
        "xgb.fit(X_train_scaled, y_train.ravel())"
      ],
      "execution_count": null,
      "outputs": [
        {
          "output_type": "stream",
          "text": [
            "[23:03:16] WARNING: /workspace/src/objective/regression_obj.cu:152: reg:linear is now deprecated in favor of reg:squarederror.\n"
          ],
          "name": "stdout"
        },
        {
          "output_type": "execute_result",
          "data": {
            "text/plain": [
              "XGBRegressor(base_score=0.5, booster='gbtree', colsample_bylevel=1,\n",
              "             colsample_bynode=1, colsample_bytree=1, gamma=0,\n",
              "             importance_type='gain', learning_rate=0.1, max_delta_step=0,\n",
              "             max_depth=3, min_child_weight=1, missing=None, n_estimators=1000,\n",
              "             n_jobs=1, nthread=None, objective='reg:linear', random_state=42,\n",
              "             reg_alpha=0, reg_lambda=1, scale_pos_weight=1, seed=None,\n",
              "             silent=None, subsample=1, verbosity=1)"
            ]
          },
          "metadata": {
            "tags": []
          },
          "execution_count": 187
        }
      ]
    },
    {
      "cell_type": "code",
      "metadata": {
        "id": "gSUcYV0UDpM8"
      },
      "source": [
        "y_predXGB = xgb.predict(X_test_scaled)"
      ],
      "execution_count": null,
      "outputs": []
    },
    {
      "cell_type": "code",
      "metadata": {
        "colab": {
          "base_uri": "https://localhost:8080/"
        },
        "id": "ZkllOMqMDpM9",
        "outputId": "c2fe2109-2243-448f-8e44-9a649966fda5"
      },
      "source": [
        "print('Mean Absolute Error: ', round(metrics.mean_absolute_error(y_test, y_predXGB), 3))\n",
        "print('Mean Squared Error: ', round(metrics.mean_squared_error(y_test, y_predXGB), 3))\n",
        "print('Root Mean Squared Error: ', round(np.sqrt(metrics.mean_squared_error(y_test, y_predXGB)), 3))\n",
        "print('R2 score: ', round(r2_score(y_test, y_predXGB), 3))"
      ],
      "execution_count": null,
      "outputs": [
        {
          "output_type": "stream",
          "text": [
            "Mean Absolute Error:  501294.316\n",
            "Mean Squared Error:  495518516127.192\n",
            "Root Mean Squared Error:  703930.761\n",
            "R2 score:  0.769\n"
          ],
          "name": "stdout"
        }
      ]
    },
    {
      "cell_type": "code",
      "metadata": {
        "colab": {
          "base_uri": "https://localhost:8080/"
        },
        "id": "QPHQF1UQ2TVT",
        "outputId": "2fcf4c6b-1c09-4506-b583-4a0ecbbe349d"
      },
      "source": [
        "evaluate(xgb, X_train_scaled, y_train)\n",
        "evaluate(xgb, X_test_scaled, y_test)"
      ],
      "execution_count": null,
      "outputs": [
        {
          "output_type": "stream",
          "text": [
            "Model Performance\n",
            "Accuracy = 85.25%.\n",
            "Model Performance\n",
            "Accuracy = 70.63%.\n"
          ],
          "name": "stdout"
        },
        {
          "output_type": "execute_result",
          "data": {
            "text/plain": [
              "70.63452965827922"
            ]
          },
          "metadata": {
            "tags": []
          },
          "execution_count": 190
        }
      ]
    },
    {
      "cell_type": "markdown",
      "metadata": {
        "id": "E4LTU2JfDpM-"
      },
      "source": [
        "######**XGBRFRegressor**"
      ]
    },
    {
      "cell_type": "code",
      "metadata": {
        "colab": {
          "base_uri": "https://localhost:8080/"
        },
        "id": "iFS-8txyDpM-",
        "outputId": "48542044-cc73-4e0e-c6b6-7eecbc8c40f6"
      },
      "source": [
        "xgbrf = XGBRFRegressor(n_estimators=500, random_state=42)\n",
        "xgbrf.fit(X_train_scaled, y_train.ravel())"
      ],
      "execution_count": null,
      "outputs": [
        {
          "output_type": "stream",
          "text": [
            "[23:04:00] WARNING: /workspace/src/objective/regression_obj.cu:152: reg:linear is now deprecated in favor of reg:squarederror.\n"
          ],
          "name": "stdout"
        },
        {
          "output_type": "execute_result",
          "data": {
            "text/plain": [
              "XGBRFRegressor(base_score=0.5, colsample_bylevel=1, colsample_bynode=0.8,\n",
              "               colsample_bytree=1, gamma=0, learning_rate=1, max_delta_step=0,\n",
              "               max_depth=3, min_child_weight=1, missing=None, n_estimators=500,\n",
              "               n_jobs=1, nthread=None, objective='reg:linear', random_state=42,\n",
              "               reg_alpha=0, reg_lambda=1, scale_pos_weight=1, seed=None,\n",
              "               silent=None, subsample=0.8, verbosity=1)"
            ]
          },
          "metadata": {
            "tags": []
          },
          "execution_count": 192
        }
      ]
    },
    {
      "cell_type": "code",
      "metadata": {
        "id": "MY7BWW3lDpM-"
      },
      "source": [
        "y_predXGBRF = xgbrf.predict(X_test_scaled)"
      ],
      "execution_count": null,
      "outputs": []
    },
    {
      "cell_type": "code",
      "metadata": {
        "colab": {
          "base_uri": "https://localhost:8080/"
        },
        "id": "nbHZNe9mDpM-",
        "outputId": "327b252d-8a68-4b05-8cfb-398bf52692b2"
      },
      "source": [
        "print('Mean Absolute Error: ', round(metrics.mean_absolute_error(y_test, y_predXGBRF), 3))\n",
        "print('Mean Squared Error: ', round(metrics.mean_squared_error(y_test, y_predXGBRF), 3))\n",
        "print('Root Mean Squared Error: ', round(np.sqrt(metrics.mean_squared_error(y_test, y_predXGBRF)), 3))\n",
        "print('R2 score: ', round(r2_score(y_test, y_predXGBRF), 3))"
      ],
      "execution_count": null,
      "outputs": [
        {
          "output_type": "stream",
          "text": [
            "Mean Absolute Error:  754670.875\n",
            "Mean Squared Error:  956047469833.201\n",
            "Root Mean Squared Error:  977776.8\n",
            "R2 score:  0.555\n"
          ],
          "name": "stdout"
        }
      ]
    },
    {
      "cell_type": "code",
      "metadata": {
        "colab": {
          "base_uri": "https://localhost:8080/"
        },
        "id": "r9vhhsTeDpM_",
        "outputId": "a8071b4b-7dfc-487a-ce9c-69d1f131f834"
      },
      "source": [
        "evaluate(xgbrf, X_train_scaled, y_train)\n",
        "evaluate(xgbrf, X_test_scaled, y_test)"
      ],
      "execution_count": null,
      "outputs": [
        {
          "output_type": "stream",
          "text": [
            "Model Performance\n",
            "Accuracy = 53.75%.\n",
            "Model Performance\n",
            "Accuracy = 47.25%.\n"
          ],
          "name": "stdout"
        },
        {
          "output_type": "execute_result",
          "data": {
            "text/plain": [
              "47.25401529024798"
            ]
          },
          "metadata": {
            "tags": []
          },
          "execution_count": 195
        }
      ]
    },
    {
      "cell_type": "markdown",
      "metadata": {
        "id": "BRungX5kDpM_"
      },
      "source": [
        "######**LGBMRegressor**"
      ]
    },
    {
      "cell_type": "code",
      "metadata": {
        "colab": {
          "base_uri": "https://localhost:8080/"
        },
        "id": "UjBL_tBWDpM_",
        "outputId": "a14336ff-a978-4d17-e23c-67bfd5bb356f"
      },
      "source": [
        "lgbm = LGBMRegressor(n_estimators=100, random_state=42)\n",
        "lgbm.fit(X_train_scaled, y_train.ravel())"
      ],
      "execution_count": null,
      "outputs": [
        {
          "output_type": "execute_result",
          "data": {
            "text/plain": [
              "LGBMRegressor(boosting_type='gbdt', class_weight=None, colsample_bytree=1.0,\n",
              "              importance_type='split', learning_rate=0.1, max_depth=-1,\n",
              "              min_child_samples=20, min_child_weight=0.001, min_split_gain=0.0,\n",
              "              n_estimators=100, n_jobs=-1, num_leaves=31, objective=None,\n",
              "              random_state=42, reg_alpha=0.0, reg_lambda=0.0, silent=True,\n",
              "              subsample=1.0, subsample_for_bin=200000, subsample_freq=0)"
            ]
          },
          "metadata": {
            "tags": []
          },
          "execution_count": 196
        }
      ]
    },
    {
      "cell_type": "code",
      "metadata": {
        "id": "7HrM4713DpM_"
      },
      "source": [
        "y_predLGBM = lgbm.predict(X_test_scaled)"
      ],
      "execution_count": null,
      "outputs": []
    },
    {
      "cell_type": "code",
      "metadata": {
        "colab": {
          "base_uri": "https://localhost:8080/"
        },
        "id": "3PjZzVidyGGQ",
        "outputId": "b773171d-0e70-49aa-d66e-a3c7f2bfc1f4"
      },
      "source": [
        "print('Mean Absolute Error: ', round(metrics.mean_absolute_error(y_test, y_predLGBM), 3))\n",
        "print('Mean Squared Error: ', round(metrics.mean_squared_error(y_test, y_predLGBM), 3))\n",
        "print('Root Mean Squared Error: ', round(np.sqrt(metrics.mean_squared_error(y_test, y_predLGBM)), 3))\n",
        "print('R2 score: ', round(r2_score(y_test, y_predLGBM), 3))"
      ],
      "execution_count": null,
      "outputs": [
        {
          "output_type": "stream",
          "text": [
            "Mean Absolute Error:  481862.136\n",
            "Mean Squared Error:  469178207270.943\n",
            "Root Mean Squared Error:  684965.844\n",
            "R2 score:  0.782\n"
          ],
          "name": "stdout"
        }
      ]
    },
    {
      "cell_type": "code",
      "metadata": {
        "colab": {
          "base_uri": "https://localhost:8080/"
        },
        "id": "0GiB9ezHdFUP",
        "outputId": "99b061d2-b327-46d0-cea7-4802f1c943ea"
      },
      "source": [
        "evaluate(lgbm, X_train_scaled, y_train)\n",
        "evaluate(lgbm, X_test_scaled, y_test)"
      ],
      "execution_count": null,
      "outputs": [
        {
          "output_type": "stream",
          "text": [
            "Model Performance\n",
            "Accuracy = 81.98%.\n",
            "Model Performance\n",
            "Accuracy = 72.28%.\n"
          ],
          "name": "stdout"
        },
        {
          "output_type": "execute_result",
          "data": {
            "text/plain": [
              "72.28047329599998"
            ]
          },
          "metadata": {
            "tags": []
          },
          "execution_count": 199
        }
      ]
    },
    {
      "cell_type": "markdown",
      "metadata": {
        "id": "KsLInTgfBzmj"
      },
      "source": [
        "######**GRADIENT BOOST REGRESSOR**"
      ]
    },
    {
      "cell_type": "code",
      "metadata": {
        "colab": {
          "base_uri": "https://localhost:8080/"
        },
        "id": "9yiBu7nkBzmk",
        "outputId": "7dfcfd95-39df-4d38-9547-d99c51743d94"
      },
      "source": [
        "param_grid = {\"learning_rate\"    : [0.01, 0.1, 0.3, 0.5,0.9, 1.2, 1.5],\n",
        "              \"subsample\"        : [0.5, 1.0],\n",
        "              \"max_depth\"        : [3, 4, 5, 10, 15, 20],\n",
        "              \"max_features\"     : ['auto', 'sqrt'],\n",
        "              \"min_samples_split\": [5, 10, 20, 40],\n",
        "              \"min_samples_leaf\" : [2, 6, 12, 24]\n",
        "             }\n",
        "grad_reg = RandomizedSearchCV(GradientBoostingRegressor(), param_distributions = param_grid, n_iter = 100, verbose = 2, n_jobs = -1)\n",
        "grad_reg.fit(X_train_scaled, y_train)\n",
        "\n",
        "# Results from Randomized Search\n",
        "print(\"\\n========================================================\")\n",
        "print(\" Results from Randomized Search \" )\n",
        "print(\"========================================================\")    \n",
        "    \n",
        "print(\"\\n The best estimator across ALL searched params:\\n\",\n",
        "          grad_reg.best_estimator_)\n",
        "    \n",
        "print(\"\\n The best score across ALL searched params:\\n\",\n",
        "          grad_reg.best_score_)\n",
        "    \n",
        "print(\"\\n The best parameters across ALL searched params:\\n\",\n",
        "          grad_reg.best_params_)"
      ],
      "execution_count": null,
      "outputs": [
        {
          "output_type": "stream",
          "text": [
            "Fitting 5 folds for each of 100 candidates, totalling 500 fits\n"
          ],
          "name": "stdout"
        },
        {
          "output_type": "stream",
          "text": [
            "[Parallel(n_jobs=-1)]: Using backend LokyBackend with 2 concurrent workers.\n",
            "[Parallel(n_jobs=-1)]: Done  37 tasks      | elapsed:    8.0s\n",
            "[Parallel(n_jobs=-1)]: Done 158 tasks      | elapsed:   27.6s\n",
            "[Parallel(n_jobs=-1)]: Done 361 tasks      | elapsed:  1.1min\n",
            "[Parallel(n_jobs=-1)]: Done 500 out of 500 | elapsed:  1.5min finished\n"
          ],
          "name": "stderr"
        },
        {
          "output_type": "stream",
          "text": [
            "\n",
            "========================================================\n",
            " Results from Randomized Search \n",
            "========================================================\n",
            "\n",
            " The best estimator across ALL searched params:\n",
            " GradientBoostingRegressor(alpha=0.9, ccp_alpha=0.0, criterion='friedman_mse',\n",
            "                          init=None, learning_rate=0.1, loss='ls', max_depth=5,\n",
            "                          max_features='auto', max_leaf_nodes=None,\n",
            "                          min_impurity_decrease=0.0, min_impurity_split=None,\n",
            "                          min_samples_leaf=6, min_samples_split=10,\n",
            "                          min_weight_fraction_leaf=0.0, n_estimators=100,\n",
            "                          n_iter_no_change=None, presort='deprecated',\n",
            "                          random_state=None, subsample=1.0, tol=0.0001,\n",
            "                          validation_fraction=0.1, verbose=0, warm_start=False)\n",
            "\n",
            " The best score across ALL searched params:\n",
            " 0.7325262689338405\n",
            "\n",
            " The best parameters across ALL searched params:\n",
            " {'subsample': 1.0, 'min_samples_split': 10, 'min_samples_leaf': 6, 'max_features': 'auto', 'max_depth': 5, 'learning_rate': 0.1}\n"
          ],
          "name": "stdout"
        }
      ]
    },
    {
      "cell_type": "code",
      "metadata": {
        "colab": {
          "base_uri": "https://localhost:8080/"
        },
        "id": "WnrYjJwTBzml",
        "outputId": "e3130c9e-83a7-4f97-e15a-d7fbd4f46606"
      },
      "source": [
        "grad_reg = GradientBoostingRegressor(n_estimators=200, subsample=1, min_samples_split=10, min_samples_leaf=6, max_features='auto', max_depth=5, random_state=42)\n",
        "grad_reg.fit(X_train_scaled, y_train)"
      ],
      "execution_count": null,
      "outputs": [
        {
          "output_type": "execute_result",
          "data": {
            "text/plain": [
              "GradientBoostingRegressor(alpha=0.9, ccp_alpha=0.0, criterion='friedman_mse',\n",
              "                          init=None, learning_rate=0.1, loss='ls', max_depth=5,\n",
              "                          max_features='auto', max_leaf_nodes=None,\n",
              "                          min_impurity_decrease=0.0, min_impurity_split=None,\n",
              "                          min_samples_leaf=6, min_samples_split=10,\n",
              "                          min_weight_fraction_leaf=0.0, n_estimators=200,\n",
              "                          n_iter_no_change=None, presort='deprecated',\n",
              "                          random_state=42, subsample=1, tol=0.0001,\n",
              "                          validation_fraction=0.1, verbose=0, warm_start=False)"
            ]
          },
          "metadata": {
            "tags": []
          },
          "execution_count": 231
        }
      ]
    },
    {
      "cell_type": "code",
      "metadata": {
        "id": "ALyWICYmBzml"
      },
      "source": [
        "y_predGRAD = grad_reg.predict(X_test_scaled)"
      ],
      "execution_count": null,
      "outputs": []
    },
    {
      "cell_type": "code",
      "metadata": {
        "colab": {
          "base_uri": "https://localhost:8080/"
        },
        "id": "LNf6mNVTBzmm",
        "outputId": "6bc0c33e-c2e1-47bf-c4d7-ac6e5bce57f2"
      },
      "source": [
        "print('Mean Absolute Error: ', round(metrics.mean_absolute_error(y_test, y_predGRAD), 3))\n",
        "print('Mean Squared Error: ', round(metrics.mean_squared_error(y_test, y_predGRAD), 3))\n",
        "print('Root Mean Squared Error: ', round(np.sqrt(metrics.mean_squared_error(y_test, y_predGRAD)), 3))\n",
        "print('R2 score: ', round(r2_score(y_test, y_predGRAD), 3))"
      ],
      "execution_count": null,
      "outputs": [
        {
          "output_type": "stream",
          "text": [
            "Mean Absolute Error:  494123.545\n",
            "Mean Squared Error:  477868260947.161\n",
            "Root Mean Squared Error:  691280.161\n",
            "R2 score:  0.778\n"
          ],
          "name": "stdout"
        }
      ]
    },
    {
      "cell_type": "code",
      "metadata": {
        "colab": {
          "base_uri": "https://localhost:8080/"
        },
        "id": "fPHeJplkBzmm",
        "outputId": "55c95be7-a2b1-4392-9bf9-fc93df06352b"
      },
      "source": [
        "evaluate(grad_reg, X_train_scaled, y_train)\n",
        "evaluate(grad_reg, X_test_scaled, y_test)"
      ],
      "execution_count": null,
      "outputs": [
        {
          "output_type": "stream",
          "text": [
            "Model Performance\n",
            "Accuracy = 83.88%.\n",
            "Model Performance\n",
            "Accuracy = 71.19%.\n"
          ],
          "name": "stdout"
        },
        {
          "output_type": "execute_result",
          "data": {
            "text/plain": [
              "71.1936654739811"
            ]
          },
          "metadata": {
            "tags": []
          },
          "execution_count": 234
        }
      ]
    },
    {
      "cell_type": "markdown",
      "metadata": {
        "id": "wJAI4_PrDpNC"
      },
      "source": [
        "######**CATBOOST REGRESSOR**"
      ]
    },
    {
      "cell_type": "code",
      "metadata": {
        "colab": {
          "base_uri": "https://localhost:8080/"
        },
        "id": "X3L5-FwSDpND",
        "outputId": "9e8e1409-389e-4074-8326-207204e0fea9"
      },
      "source": [
        "# to find the best parameters for catboost\n",
        "model = CatBoostRegressor()\n",
        "parameters = {'depth'         : [6,8,10,12,14,16,18,20],\n",
        "              'learning_rate' : [0.01, 0.05, 0.1, 0.5, 1],\n",
        "              'iterations'    : [30, 50, 100]\n",
        "              }\n",
        "grid = GridSearchCV(model, parameters, cv = 2, n_jobs=-1)\n",
        "gs = grid.fit(X_train_scaled, y_train)    \n",
        "\n",
        "# Results from Grid Search\n",
        "print(\"\\n========================================================\")\n",
        "print(\" Results from Grid Search \" )\n",
        "print(\"========================================================\")    \n",
        "    \n",
        "print(\"\\n The best estimator across ALL searched params:\\n\",\n",
        "          gs.best_estimator_)\n",
        "    \n",
        "print(\"\\n The best score across ALL searched params:\\n\",\n",
        "          gs.best_score_)\n",
        "    \n",
        "print(\"\\n The best parameters across ALL searched params:\\n\",\n",
        "          gs.best_params_)"
      ],
      "execution_count": null,
      "outputs": [
        {
          "output_type": "stream",
          "text": [
            "/usr/local/lib/python3.7/dist-packages/joblib/externals/loky/process_executor.py:691: UserWarning: A worker stopped while some jobs were given to the executor. This can be caused by a too short worker timeout or by a memory leak.\n",
            "  \"timeout or by a memory leak.\", UserWarning\n"
          ],
          "name": "stderr"
        },
        {
          "output_type": "stream",
          "text": [
            "0:\tlearn: 1244826.3688470\ttotal: 54.7ms\tremaining: 2.68s\n",
            "1:\tlearn: 1100056.2381017\ttotal: 57.4ms\tremaining: 1.38s\n",
            "2:\tlearn: 1014663.1292207\ttotal: 60.9ms\tremaining: 954ms\n",
            "3:\tlearn: 933708.4574263\ttotal: 64.7ms\tremaining: 744ms\n",
            "4:\tlearn: 879431.1864297\ttotal: 68.5ms\tremaining: 617ms\n",
            "5:\tlearn: 857011.9177344\ttotal: 72.2ms\tremaining: 530ms\n",
            "6:\tlearn: 835787.0707648\ttotal: 76.1ms\tremaining: 468ms\n",
            "7:\tlearn: 827404.6096692\ttotal: 79.9ms\tremaining: 419ms\n",
            "8:\tlearn: 814372.2727171\ttotal: 83.6ms\tremaining: 381ms\n",
            "9:\tlearn: 801426.5079775\ttotal: 87.2ms\tremaining: 349ms\n",
            "10:\tlearn: 793259.4693040\ttotal: 91.2ms\tremaining: 323ms\n",
            "11:\tlearn: 776218.3785022\ttotal: 95.4ms\tremaining: 302ms\n",
            "12:\tlearn: 765173.2180239\ttotal: 99.6ms\tremaining: 284ms\n",
            "13:\tlearn: 748957.7305029\ttotal: 104ms\tremaining: 266ms\n",
            "14:\tlearn: 742539.0032598\ttotal: 107ms\tremaining: 251ms\n",
            "15:\tlearn: 738740.9224924\ttotal: 111ms\tremaining: 237ms\n",
            "16:\tlearn: 729402.8567963\ttotal: 115ms\tremaining: 223ms\n",
            "17:\tlearn: 726399.1509962\ttotal: 119ms\tremaining: 211ms\n",
            "18:\tlearn: 717493.1503802\ttotal: 123ms\tremaining: 201ms\n",
            "19:\tlearn: 701196.9551766\ttotal: 126ms\tremaining: 189ms\n",
            "20:\tlearn: 698323.7252500\ttotal: 130ms\tremaining: 180ms\n",
            "21:\tlearn: 696453.5415218\ttotal: 134ms\tremaining: 170ms\n",
            "22:\tlearn: 688080.0703105\ttotal: 138ms\tremaining: 162ms\n",
            "23:\tlearn: 681747.5049668\ttotal: 142ms\tremaining: 153ms\n",
            "24:\tlearn: 674791.8057590\ttotal: 145ms\tremaining: 145ms\n",
            "25:\tlearn: 674293.4630622\ttotal: 149ms\tremaining: 137ms\n",
            "26:\tlearn: 668382.7527218\ttotal: 152ms\tremaining: 130ms\n",
            "27:\tlearn: 659782.8831064\ttotal: 156ms\tremaining: 123ms\n",
            "28:\tlearn: 651174.2716088\ttotal: 160ms\tremaining: 116ms\n",
            "29:\tlearn: 641014.1997831\ttotal: 166ms\tremaining: 111ms\n",
            "30:\tlearn: 638377.8671091\ttotal: 170ms\tremaining: 104ms\n",
            "31:\tlearn: 634644.4096383\ttotal: 173ms\tremaining: 97.1ms\n",
            "32:\tlearn: 628114.2496414\ttotal: 176ms\tremaining: 90.9ms\n",
            "33:\tlearn: 623829.1473337\ttotal: 180ms\tremaining: 84.9ms\n",
            "34:\tlearn: 618731.5305467\ttotal: 184ms\tremaining: 79ms\n",
            "35:\tlearn: 608166.8003555\ttotal: 188ms\tremaining: 73.2ms\n",
            "36:\tlearn: 600590.8683187\ttotal: 192ms\tremaining: 67.4ms\n",
            "37:\tlearn: 595635.7291350\ttotal: 196ms\tremaining: 61.8ms\n",
            "38:\tlearn: 593994.1784096\ttotal: 200ms\tremaining: 56.4ms\n",
            "39:\tlearn: 589694.3289542\ttotal: 203ms\tremaining: 50.8ms\n",
            "40:\tlearn: 586296.7368304\ttotal: 207ms\tremaining: 45.4ms\n",
            "41:\tlearn: 584392.5680565\ttotal: 210ms\tremaining: 40.1ms\n",
            "42:\tlearn: 578402.2513186\ttotal: 214ms\tremaining: 34.8ms\n",
            "43:\tlearn: 573937.9153237\ttotal: 218ms\tremaining: 29.7ms\n",
            "44:\tlearn: 570098.1451236\ttotal: 221ms\tremaining: 24.6ms\n",
            "45:\tlearn: 568965.9763334\ttotal: 225ms\tremaining: 19.6ms\n",
            "46:\tlearn: 568186.3094340\ttotal: 229ms\tremaining: 14.6ms\n",
            "47:\tlearn: 565747.2365627\ttotal: 236ms\tremaining: 9.85ms\n",
            "48:\tlearn: 565530.8241519\ttotal: 239ms\tremaining: 4.88ms\n",
            "49:\tlearn: 561173.8763463\ttotal: 242ms\tremaining: 0us\n",
            "\n",
            "========================================================\n",
            " Results from Grid Search \n",
            "========================================================\n",
            "\n",
            " The best estimator across ALL searched params:\n",
            " <catboost.core.CatBoostRegressor object at 0x7f2afde98750>\n",
            "\n",
            " The best score across ALL searched params:\n",
            " 0.7037776260464288\n",
            "\n",
            " The best parameters across ALL searched params:\n",
            " {'depth': 6, 'iterations': 50, 'learning_rate': 0.5}\n"
          ],
          "name": "stdout"
        }
      ]
    },
    {
      "cell_type": "code",
      "metadata": {
        "colab": {
          "base_uri": "https://localhost:8080/"
        },
        "id": "OeX7mYneDpNE",
        "outputId": "153af6f1-ea2a-4a0a-b0c0-1abc28c278fb"
      },
      "source": [
        "#using the best parameters gotten above\n",
        "cat_reg = CatBoostRegressor(depth=4, iterations=600, learning_rate=0.1, random_state=42)\n",
        "cat_reg.fit(X_train_scaled, y_train.ravel())"
      ],
      "execution_count": null,
      "outputs": [
        {
          "output_type": "stream",
          "text": [
            "0:\tlearn: 1498451.6298831\ttotal: 760us\tremaining: 455ms\n",
            "1:\tlearn: 1443897.4896173\ttotal: 2.21ms\tremaining: 662ms\n",
            "2:\tlearn: 1391775.6303487\ttotal: 3.11ms\tremaining: 619ms\n",
            "3:\tlearn: 1344732.1376179\ttotal: 3.99ms\tremaining: 594ms\n",
            "4:\tlearn: 1301470.7365607\ttotal: 5.18ms\tremaining: 617ms\n",
            "5:\tlearn: 1262000.6692141\ttotal: 6.29ms\tremaining: 622ms\n",
            "6:\tlearn: 1230429.0464305\ttotal: 7.31ms\tremaining: 619ms\n",
            "7:\tlearn: 1198788.1094709\ttotal: 8.32ms\tremaining: 615ms\n",
            "8:\tlearn: 1170525.1357650\ttotal: 9.31ms\tremaining: 611ms\n",
            "9:\tlearn: 1149606.3374846\ttotal: 10.3ms\tremaining: 608ms\n",
            "10:\tlearn: 1128439.2127565\ttotal: 11.3ms\tremaining: 608ms\n",
            "11:\tlearn: 1107389.9756288\ttotal: 12.3ms\tremaining: 604ms\n",
            "12:\tlearn: 1093509.3973207\ttotal: 13.3ms\tremaining: 603ms\n",
            "13:\tlearn: 1078260.9887939\ttotal: 14.3ms\tremaining: 599ms\n",
            "14:\tlearn: 1065285.6486770\ttotal: 15.3ms\tremaining: 597ms\n",
            "15:\tlearn: 1053758.5171304\ttotal: 16.3ms\tremaining: 595ms\n",
            "16:\tlearn: 1041477.5971047\ttotal: 17.3ms\tremaining: 593ms\n",
            "17:\tlearn: 1029364.1709970\ttotal: 18.3ms\tremaining: 592ms\n",
            "18:\tlearn: 1020779.2780383\ttotal: 19.3ms\tremaining: 590ms\n",
            "19:\tlearn: 1014949.2165991\ttotal: 20.3ms\tremaining: 589ms\n",
            "20:\tlearn: 1007396.1108216\ttotal: 21.3ms\tremaining: 588ms\n",
            "21:\tlearn: 999647.1811554\ttotal: 22.3ms\tremaining: 586ms\n",
            "22:\tlearn: 990562.8141714\ttotal: 23.3ms\tremaining: 585ms\n",
            "23:\tlearn: 983322.3301985\ttotal: 24.3ms\tremaining: 583ms\n",
            "24:\tlearn: 976997.2858080\ttotal: 25.3ms\tremaining: 581ms\n",
            "25:\tlearn: 971398.2308317\ttotal: 26.2ms\tremaining: 579ms\n",
            "26:\tlearn: 963834.9748030\ttotal: 27.2ms\tremaining: 578ms\n",
            "27:\tlearn: 955333.0827910\ttotal: 28.2ms\tremaining: 576ms\n",
            "28:\tlearn: 950038.7234955\ttotal: 29.2ms\tremaining: 575ms\n",
            "29:\tlearn: 945866.4224884\ttotal: 30.2ms\tremaining: 573ms\n",
            "30:\tlearn: 941027.6289555\ttotal: 31.1ms\tremaining: 572ms\n",
            "31:\tlearn: 933284.1480570\ttotal: 32.1ms\tremaining: 570ms\n",
            "32:\tlearn: 925610.4467543\ttotal: 33.1ms\tremaining: 569ms\n",
            "33:\tlearn: 922888.9940104\ttotal: 34.1ms\tremaining: 568ms\n",
            "34:\tlearn: 917615.2986971\ttotal: 35.1ms\tremaining: 567ms\n",
            "35:\tlearn: 914575.6557705\ttotal: 36.2ms\tremaining: 566ms\n",
            "36:\tlearn: 911222.8524183\ttotal: 37.2ms\tremaining: 565ms\n",
            "37:\tlearn: 906470.5886226\ttotal: 38.2ms\tremaining: 565ms\n",
            "38:\tlearn: 904106.8031748\ttotal: 39.2ms\tremaining: 563ms\n",
            "39:\tlearn: 901035.4419704\ttotal: 40ms\tremaining: 560ms\n",
            "40:\tlearn: 899109.7458204\ttotal: 41ms\tremaining: 559ms\n",
            "41:\tlearn: 895356.2071549\ttotal: 41.8ms\tremaining: 556ms\n",
            "42:\tlearn: 892691.2949276\ttotal: 42.8ms\tremaining: 554ms\n",
            "43:\tlearn: 891052.2280703\ttotal: 43.8ms\tremaining: 553ms\n",
            "44:\tlearn: 887064.2395584\ttotal: 44.8ms\tremaining: 552ms\n",
            "45:\tlearn: 885756.1521420\ttotal: 45.5ms\tremaining: 548ms\n",
            "46:\tlearn: 883340.5602944\ttotal: 46.5ms\tremaining: 547ms\n",
            "47:\tlearn: 877162.3937111\ttotal: 47.5ms\tremaining: 547ms\n",
            "48:\tlearn: 875271.9340650\ttotal: 48.5ms\tremaining: 546ms\n",
            "49:\tlearn: 872067.8890563\ttotal: 49.5ms\tremaining: 545ms\n",
            "50:\tlearn: 868666.8844111\ttotal: 50.5ms\tremaining: 544ms\n",
            "51:\tlearn: 865918.9325459\ttotal: 51.5ms\tremaining: 542ms\n",
            "52:\tlearn: 864636.6073387\ttotal: 52.4ms\tremaining: 541ms\n",
            "53:\tlearn: 859625.5270948\ttotal: 53.5ms\tremaining: 541ms\n",
            "54:\tlearn: 858125.8509136\ttotal: 54.5ms\tremaining: 540ms\n",
            "55:\tlearn: 855012.9015302\ttotal: 55.5ms\tremaining: 539ms\n",
            "56:\tlearn: 852350.3720905\ttotal: 56.5ms\tremaining: 538ms\n",
            "57:\tlearn: 851132.7899674\ttotal: 57.4ms\tremaining: 537ms\n",
            "58:\tlearn: 849949.9215884\ttotal: 58.4ms\tremaining: 535ms\n",
            "59:\tlearn: 848098.1261608\ttotal: 59.3ms\tremaining: 534ms\n",
            "60:\tlearn: 847469.3112741\ttotal: 60.3ms\tremaining: 532ms\n",
            "61:\tlearn: 845567.6912493\ttotal: 61.3ms\tremaining: 532ms\n",
            "62:\tlearn: 841932.3055671\ttotal: 62.4ms\tremaining: 532ms\n",
            "63:\tlearn: 841249.4434319\ttotal: 63.2ms\tremaining: 530ms\n",
            "64:\tlearn: 836444.3582618\ttotal: 64.3ms\tremaining: 529ms\n",
            "65:\tlearn: 835503.7652161\ttotal: 65.3ms\tremaining: 528ms\n",
            "66:\tlearn: 833626.3296592\ttotal: 66.3ms\tremaining: 527ms\n",
            "67:\tlearn: 828463.9896388\ttotal: 67.3ms\tremaining: 526ms\n",
            "68:\tlearn: 825843.4190988\ttotal: 68.4ms\tremaining: 527ms\n",
            "69:\tlearn: 824164.8279345\ttotal: 69.4ms\tremaining: 526ms\n",
            "70:\tlearn: 820916.0808456\ttotal: 70.4ms\tremaining: 525ms\n",
            "71:\tlearn: 819560.3799047\ttotal: 71.4ms\tremaining: 524ms\n",
            "72:\tlearn: 817705.1119225\ttotal: 72.4ms\tremaining: 523ms\n",
            "73:\tlearn: 817020.6220863\ttotal: 73.4ms\tremaining: 522ms\n",
            "74:\tlearn: 816788.1091357\ttotal: 74.3ms\tremaining: 520ms\n",
            "75:\tlearn: 813920.8221627\ttotal: 75.2ms\tremaining: 519ms\n",
            "76:\tlearn: 811097.3830984\ttotal: 76.3ms\tremaining: 518ms\n",
            "77:\tlearn: 809584.3154504\ttotal: 77.3ms\tremaining: 517ms\n",
            "78:\tlearn: 808773.9761119\ttotal: 78.2ms\tremaining: 516ms\n",
            "79:\tlearn: 807403.6243333\ttotal: 79.2ms\tremaining: 515ms\n",
            "80:\tlearn: 805020.5413822\ttotal: 80ms\tremaining: 512ms\n",
            "81:\tlearn: 804653.5957339\ttotal: 80.9ms\tremaining: 511ms\n",
            "82:\tlearn: 804306.2650847\ttotal: 81.7ms\tremaining: 509ms\n",
            "83:\tlearn: 801081.3064377\ttotal: 82.7ms\tremaining: 508ms\n",
            "84:\tlearn: 798491.6021577\ttotal: 83.7ms\tremaining: 507ms\n",
            "85:\tlearn: 795838.9071534\ttotal: 84.7ms\tremaining: 506ms\n",
            "86:\tlearn: 795527.8255103\ttotal: 85.4ms\tremaining: 504ms\n",
            "87:\tlearn: 794695.7125728\ttotal: 86.4ms\tremaining: 503ms\n",
            "88:\tlearn: 792392.5693539\ttotal: 87.4ms\tremaining: 502ms\n",
            "89:\tlearn: 790536.2463346\ttotal: 88.4ms\tremaining: 501ms\n",
            "90:\tlearn: 789016.2220858\ttotal: 89.3ms\tremaining: 500ms\n",
            "91:\tlearn: 788538.0293165\ttotal: 90.3ms\tremaining: 499ms\n",
            "92:\tlearn: 787221.2122780\ttotal: 91.1ms\tremaining: 497ms\n",
            "93:\tlearn: 786068.3588420\ttotal: 92.1ms\tremaining: 496ms\n",
            "94:\tlearn: 785706.7939134\ttotal: 93ms\tremaining: 494ms\n",
            "95:\tlearn: 785223.1822558\ttotal: 93.9ms\tremaining: 493ms\n",
            "96:\tlearn: 782725.3200156\ttotal: 94.9ms\tremaining: 492ms\n",
            "97:\tlearn: 781373.0075420\ttotal: 95.8ms\tremaining: 491ms\n",
            "98:\tlearn: 779992.7216242\ttotal: 96.8ms\tremaining: 490ms\n",
            "99:\tlearn: 779882.2278854\ttotal: 97.7ms\tremaining: 488ms\n",
            "100:\tlearn: 778669.8195307\ttotal: 98.7ms\tremaining: 487ms\n",
            "101:\tlearn: 778071.6248936\ttotal: 99.6ms\tremaining: 486ms\n",
            "102:\tlearn: 776654.5206303\ttotal: 101ms\tremaining: 485ms\n",
            "103:\tlearn: 776482.5423852\ttotal: 101ms\tremaining: 484ms\n",
            "104:\tlearn: 776111.8177562\ttotal: 102ms\tremaining: 483ms\n",
            "105:\tlearn: 773117.4570750\ttotal: 103ms\tremaining: 482ms\n",
            "106:\tlearn: 771104.8211020\ttotal: 104ms\tremaining: 481ms\n",
            "107:\tlearn: 770243.9187306\ttotal: 105ms\tremaining: 480ms\n",
            "108:\tlearn: 769386.8855040\ttotal: 106ms\tremaining: 479ms\n",
            "109:\tlearn: 768838.0033589\ttotal: 107ms\tremaining: 478ms\n",
            "110:\tlearn: 768692.7243256\ttotal: 108ms\tremaining: 476ms\n",
            "111:\tlearn: 767621.7341182\ttotal: 109ms\tremaining: 475ms\n",
            "112:\tlearn: 766953.8320893\ttotal: 110ms\tremaining: 474ms\n",
            "113:\tlearn: 764036.6280768\ttotal: 111ms\tremaining: 473ms\n",
            "114:\tlearn: 763401.9955799\ttotal: 112ms\tremaining: 472ms\n",
            "115:\tlearn: 763201.5063698\ttotal: 113ms\tremaining: 471ms\n",
            "116:\tlearn: 763073.5294716\ttotal: 114ms\tremaining: 469ms\n",
            "117:\tlearn: 761990.8999452\ttotal: 115ms\tremaining: 469ms\n",
            "118:\tlearn: 761892.8663680\ttotal: 116ms\tremaining: 467ms\n",
            "119:\tlearn: 761469.2237383\ttotal: 117ms\tremaining: 466ms\n",
            "120:\tlearn: 759849.6737007\ttotal: 118ms\tremaining: 465ms\n",
            "121:\tlearn: 758776.7538963\ttotal: 118ms\tremaining: 464ms\n",
            "122:\tlearn: 757557.6181084\ttotal: 120ms\tremaining: 464ms\n",
            "123:\tlearn: 754934.7575884\ttotal: 121ms\tremaining: 463ms\n",
            "124:\tlearn: 754241.3674122\ttotal: 122ms\tremaining: 462ms\n",
            "125:\tlearn: 754139.1946570\ttotal: 122ms\tremaining: 461ms\n",
            "126:\tlearn: 751702.8801512\ttotal: 123ms\tremaining: 460ms\n",
            "127:\tlearn: 750676.8404383\ttotal: 124ms\tremaining: 459ms\n",
            "128:\tlearn: 748839.1532497\ttotal: 125ms\tremaining: 458ms\n",
            "129:\tlearn: 748667.0098793\ttotal: 126ms\tremaining: 457ms\n",
            "130:\tlearn: 747619.3957398\ttotal: 127ms\tremaining: 456ms\n",
            "131:\tlearn: 746962.1794030\ttotal: 128ms\tremaining: 455ms\n",
            "132:\tlearn: 746053.2559138\ttotal: 129ms\tremaining: 454ms\n",
            "133:\tlearn: 744194.4406847\ttotal: 130ms\tremaining: 453ms\n",
            "134:\tlearn: 742661.6259482\ttotal: 131ms\tremaining: 452ms\n",
            "135:\tlearn: 741648.5369045\ttotal: 132ms\tremaining: 451ms\n",
            "136:\tlearn: 740092.2349316\ttotal: 133ms\tremaining: 450ms\n",
            "137:\tlearn: 739444.6360606\ttotal: 134ms\tremaining: 449ms\n",
            "138:\tlearn: 738853.9977761\ttotal: 135ms\tremaining: 448ms\n",
            "139:\tlearn: 736300.9651066\ttotal: 136ms\tremaining: 447ms\n",
            "140:\tlearn: 735377.3488688\ttotal: 137ms\tremaining: 446ms\n",
            "141:\tlearn: 734909.9232606\ttotal: 138ms\tremaining: 445ms\n",
            "142:\tlearn: 733491.4665743\ttotal: 139ms\tremaining: 444ms\n",
            "143:\tlearn: 731280.5473165\ttotal: 140ms\tremaining: 443ms\n",
            "144:\tlearn: 729841.9795570\ttotal: 141ms\tremaining: 442ms\n",
            "145:\tlearn: 728600.2001174\ttotal: 143ms\tremaining: 444ms\n",
            "146:\tlearn: 727469.0491846\ttotal: 144ms\tremaining: 443ms\n",
            "147:\tlearn: 726247.2979694\ttotal: 145ms\tremaining: 442ms\n",
            "148:\tlearn: 725228.3398893\ttotal: 146ms\tremaining: 441ms\n",
            "149:\tlearn: 724147.8254679\ttotal: 147ms\tremaining: 440ms\n",
            "150:\tlearn: 722870.7832718\ttotal: 148ms\tremaining: 439ms\n",
            "151:\tlearn: 721710.9591966\ttotal: 149ms\tremaining: 438ms\n",
            "152:\tlearn: 720087.7160948\ttotal: 150ms\tremaining: 437ms\n",
            "153:\tlearn: 718633.6054778\ttotal: 151ms\tremaining: 436ms\n",
            "154:\tlearn: 718035.5664330\ttotal: 152ms\tremaining: 435ms\n",
            "155:\tlearn: 716979.6842799\ttotal: 153ms\tremaining: 434ms\n",
            "156:\tlearn: 716038.3515547\ttotal: 153ms\tremaining: 433ms\n",
            "157:\tlearn: 715050.7707711\ttotal: 154ms\tremaining: 432ms\n",
            "158:\tlearn: 714583.2134567\ttotal: 155ms\tremaining: 431ms\n",
            "159:\tlearn: 713883.2598460\ttotal: 156ms\tremaining: 430ms\n",
            "160:\tlearn: 712849.0871600\ttotal: 157ms\tremaining: 429ms\n",
            "161:\tlearn: 712088.6658171\ttotal: 158ms\tremaining: 428ms\n",
            "162:\tlearn: 711348.9012233\ttotal: 159ms\tremaining: 427ms\n",
            "163:\tlearn: 711284.3955633\ttotal: 160ms\tremaining: 426ms\n",
            "164:\tlearn: 710496.5000045\ttotal: 161ms\tremaining: 424ms\n",
            "165:\tlearn: 709471.5544050\ttotal: 162ms\tremaining: 424ms\n",
            "166:\tlearn: 708848.3795621\ttotal: 163ms\tremaining: 422ms\n",
            "167:\tlearn: 707657.6051127\ttotal: 164ms\tremaining: 421ms\n",
            "168:\tlearn: 707070.5583993\ttotal: 165ms\tremaining: 420ms\n",
            "169:\tlearn: 706618.6897158\ttotal: 166ms\tremaining: 419ms\n",
            "170:\tlearn: 706082.1089640\ttotal: 167ms\tremaining: 418ms\n",
            "171:\tlearn: 705634.6823670\ttotal: 167ms\tremaining: 417ms\n",
            "172:\tlearn: 704925.9139315\ttotal: 168ms\tremaining: 416ms\n",
            "173:\tlearn: 704181.7294928\ttotal: 169ms\tremaining: 415ms\n",
            "174:\tlearn: 703678.8473391\ttotal: 171ms\tremaining: 414ms\n",
            "175:\tlearn: 703272.9875984\ttotal: 171ms\tremaining: 413ms\n",
            "176:\tlearn: 702325.2199668\ttotal: 172ms\tremaining: 412ms\n",
            "177:\tlearn: 701847.7773983\ttotal: 173ms\tremaining: 411ms\n",
            "178:\tlearn: 701766.7931614\ttotal: 174ms\tremaining: 410ms\n",
            "179:\tlearn: 700653.6496697\ttotal: 175ms\tremaining: 409ms\n",
            "180:\tlearn: 698588.3011120\ttotal: 177ms\tremaining: 411ms\n",
            "181:\tlearn: 697410.8266944\ttotal: 178ms\tremaining: 410ms\n",
            "182:\tlearn: 696286.9502704\ttotal: 179ms\tremaining: 409ms\n",
            "183:\tlearn: 695444.9406670\ttotal: 184ms\tremaining: 416ms\n",
            "184:\tlearn: 695099.9491814\ttotal: 185ms\tremaining: 415ms\n",
            "185:\tlearn: 694594.5406861\ttotal: 186ms\tremaining: 414ms\n",
            "186:\tlearn: 694273.1630536\ttotal: 187ms\tremaining: 413ms\n",
            "187:\tlearn: 693644.4144897\ttotal: 188ms\tremaining: 412ms\n",
            "188:\tlearn: 693136.5489105\ttotal: 189ms\tremaining: 411ms\n",
            "189:\tlearn: 691376.2125387\ttotal: 190ms\tremaining: 410ms\n",
            "190:\tlearn: 690152.9176855\ttotal: 191ms\tremaining: 409ms\n",
            "191:\tlearn: 689233.4727989\ttotal: 192ms\tremaining: 408ms\n",
            "192:\tlearn: 688712.3596449\ttotal: 193ms\tremaining: 406ms\n",
            "193:\tlearn: 688058.9163458\ttotal: 194ms\tremaining: 405ms\n",
            "194:\tlearn: 687476.3650370\ttotal: 194ms\tremaining: 404ms\n",
            "195:\tlearn: 687399.4225925\ttotal: 195ms\tremaining: 403ms\n",
            "196:\tlearn: 686973.3995852\ttotal: 197ms\tremaining: 402ms\n",
            "197:\tlearn: 686933.9522619\ttotal: 197ms\tremaining: 401ms\n",
            "198:\tlearn: 686453.8431709\ttotal: 198ms\tremaining: 400ms\n",
            "199:\tlearn: 685425.5049412\ttotal: 199ms\tremaining: 399ms\n",
            "200:\tlearn: 684914.1946567\ttotal: 200ms\tremaining: 398ms\n",
            "201:\tlearn: 684066.2579722\ttotal: 201ms\tremaining: 397ms\n",
            "202:\tlearn: 683624.5843891\ttotal: 202ms\tremaining: 396ms\n",
            "203:\tlearn: 682509.5984288\ttotal: 203ms\tremaining: 395ms\n",
            "204:\tlearn: 681727.3289133\ttotal: 204ms\tremaining: 394ms\n",
            "205:\tlearn: 681145.9658976\ttotal: 205ms\tremaining: 393ms\n",
            "206:\tlearn: 680740.9874523\ttotal: 206ms\tremaining: 392ms\n",
            "207:\tlearn: 679285.6485522\ttotal: 207ms\tremaining: 390ms\n",
            "208:\tlearn: 678442.0372725\ttotal: 208ms\tremaining: 389ms\n",
            "209:\tlearn: 677974.5561924\ttotal: 209ms\tremaining: 389ms\n",
            "210:\tlearn: 677927.9800093\ttotal: 210ms\tremaining: 387ms\n",
            "211:\tlearn: 676906.2971585\ttotal: 211ms\tremaining: 386ms\n",
            "212:\tlearn: 675176.0181835\ttotal: 212ms\tremaining: 385ms\n",
            "213:\tlearn: 675138.6378619\ttotal: 213ms\tremaining: 384ms\n",
            "214:\tlearn: 675086.7048480\ttotal: 214ms\tremaining: 383ms\n",
            "215:\tlearn: 674432.3698478\ttotal: 215ms\tremaining: 382ms\n",
            "216:\tlearn: 673962.6920588\ttotal: 216ms\tremaining: 381ms\n",
            "217:\tlearn: 673649.9611142\ttotal: 217ms\tremaining: 380ms\n",
            "218:\tlearn: 672904.7415960\ttotal: 218ms\tremaining: 379ms\n",
            "219:\tlearn: 672455.0159562\ttotal: 219ms\tremaining: 378ms\n",
            "220:\tlearn: 670833.6405127\ttotal: 220ms\tremaining: 377ms\n",
            "221:\tlearn: 669832.7405356\ttotal: 221ms\tremaining: 376ms\n",
            "222:\tlearn: 669433.3331815\ttotal: 222ms\tremaining: 375ms\n",
            "223:\tlearn: 669160.1845354\ttotal: 223ms\tremaining: 374ms\n",
            "224:\tlearn: 668844.6774109\ttotal: 224ms\tremaining: 373ms\n",
            "225:\tlearn: 668504.5891865\ttotal: 225ms\tremaining: 372ms\n",
            "226:\tlearn: 668219.6989715\ttotal: 226ms\tremaining: 371ms\n",
            "227:\tlearn: 667770.5129789\ttotal: 227ms\tremaining: 370ms\n",
            "228:\tlearn: 666808.4251604\ttotal: 228ms\tremaining: 369ms\n",
            "229:\tlearn: 666226.9061904\ttotal: 229ms\tremaining: 368ms\n",
            "230:\tlearn: 665962.1406081\ttotal: 230ms\tremaining: 367ms\n",
            "231:\tlearn: 665475.8810170\ttotal: 231ms\tremaining: 366ms\n",
            "232:\tlearn: 664614.1984534\ttotal: 232ms\tremaining: 365ms\n",
            "233:\tlearn: 663627.1413146\ttotal: 232ms\tremaining: 364ms\n",
            "234:\tlearn: 663322.2615068\ttotal: 233ms\tremaining: 363ms\n",
            "235:\tlearn: 663082.7267655\ttotal: 234ms\tremaining: 362ms\n",
            "236:\tlearn: 662699.5421565\ttotal: 235ms\tremaining: 361ms\n",
            "237:\tlearn: 662179.1812160\ttotal: 236ms\tremaining: 360ms\n",
            "238:\tlearn: 661907.7669275\ttotal: 237ms\tremaining: 358ms\n",
            "239:\tlearn: 661424.8890083\ttotal: 238ms\tremaining: 357ms\n",
            "240:\tlearn: 660366.8307768\ttotal: 239ms\tremaining: 357ms\n",
            "241:\tlearn: 659734.5873579\ttotal: 240ms\tremaining: 356ms\n",
            "242:\tlearn: 659212.1197583\ttotal: 241ms\tremaining: 354ms\n",
            "243:\tlearn: 658955.8151740\ttotal: 242ms\tremaining: 353ms\n",
            "244:\tlearn: 658040.1951527\ttotal: 243ms\tremaining: 352ms\n",
            "245:\tlearn: 657661.9318056\ttotal: 244ms\tremaining: 351ms\n",
            "246:\tlearn: 656905.2723149\ttotal: 245ms\tremaining: 350ms\n",
            "247:\tlearn: 655745.1021202\ttotal: 246ms\tremaining: 349ms\n",
            "248:\tlearn: 655183.4726073\ttotal: 247ms\tremaining: 348ms\n",
            "249:\tlearn: 653841.0558113\ttotal: 248ms\tremaining: 347ms\n",
            "250:\tlearn: 653353.0984136\ttotal: 249ms\tremaining: 346ms\n",
            "251:\tlearn: 652949.3010105\ttotal: 250ms\tremaining: 345ms\n",
            "252:\tlearn: 651642.4920729\ttotal: 251ms\tremaining: 344ms\n",
            "253:\tlearn: 650809.5685586\ttotal: 252ms\tremaining: 343ms\n",
            "254:\tlearn: 649881.8361964\ttotal: 253ms\tremaining: 342ms\n",
            "255:\tlearn: 649414.5849513\ttotal: 254ms\tremaining: 341ms\n",
            "256:\tlearn: 648896.9674338\ttotal: 255ms\tremaining: 340ms\n",
            "257:\tlearn: 648142.7653391\ttotal: 256ms\tremaining: 339ms\n",
            "258:\tlearn: 647323.0536841\ttotal: 257ms\tremaining: 338ms\n",
            "259:\tlearn: 646395.5050025\ttotal: 258ms\tremaining: 337ms\n",
            "260:\tlearn: 646151.2428428\ttotal: 259ms\tremaining: 336ms\n",
            "261:\tlearn: 645696.4236546\ttotal: 260ms\tremaining: 335ms\n",
            "262:\tlearn: 644862.1351073\ttotal: 261ms\tremaining: 334ms\n",
            "263:\tlearn: 644352.4791038\ttotal: 262ms\tremaining: 333ms\n",
            "264:\tlearn: 643718.5066711\ttotal: 263ms\tremaining: 332ms\n",
            "265:\tlearn: 643278.2238279\ttotal: 264ms\tremaining: 331ms\n",
            "266:\tlearn: 642852.7871038\ttotal: 265ms\tremaining: 330ms\n",
            "267:\tlearn: 642618.6918711\ttotal: 266ms\tremaining: 329ms\n",
            "268:\tlearn: 641755.1306823\ttotal: 267ms\tremaining: 328ms\n",
            "269:\tlearn: 641211.4480905\ttotal: 268ms\tremaining: 327ms\n",
            "270:\tlearn: 640585.3508878\ttotal: 268ms\tremaining: 326ms\n",
            "271:\tlearn: 640022.9200764\ttotal: 269ms\tremaining: 325ms\n",
            "272:\tlearn: 639580.8511271\ttotal: 270ms\tremaining: 324ms\n",
            "273:\tlearn: 638868.7178408\ttotal: 271ms\tremaining: 323ms\n",
            "274:\tlearn: 638442.2114990\ttotal: 272ms\tremaining: 322ms\n",
            "275:\tlearn: 637869.4293681\ttotal: 273ms\tremaining: 321ms\n",
            "276:\tlearn: 637621.3014097\ttotal: 274ms\tremaining: 320ms\n",
            "277:\tlearn: 637313.0246256\ttotal: 275ms\tremaining: 319ms\n",
            "278:\tlearn: 636778.7675485\ttotal: 276ms\tremaining: 318ms\n",
            "279:\tlearn: 636537.6433657\ttotal: 277ms\tremaining: 317ms\n",
            "280:\tlearn: 635684.1184773\ttotal: 278ms\tremaining: 316ms\n",
            "281:\tlearn: 635451.7390733\ttotal: 279ms\tremaining: 315ms\n",
            "282:\tlearn: 635070.1934705\ttotal: 280ms\tremaining: 314ms\n",
            "283:\tlearn: 634863.7295574\ttotal: 281ms\tremaining: 313ms\n",
            "284:\tlearn: 634478.0518187\ttotal: 282ms\tremaining: 312ms\n",
            "285:\tlearn: 633322.6125321\ttotal: 283ms\tremaining: 311ms\n",
            "286:\tlearn: 632946.1135919\ttotal: 284ms\tremaining: 310ms\n",
            "287:\tlearn: 632436.4769069\ttotal: 285ms\tremaining: 308ms\n",
            "288:\tlearn: 631678.6298314\ttotal: 286ms\tremaining: 307ms\n",
            "289:\tlearn: 631125.4493944\ttotal: 287ms\tremaining: 306ms\n",
            "290:\tlearn: 630906.4848417\ttotal: 287ms\tremaining: 305ms\n",
            "291:\tlearn: 630627.7842187\ttotal: 288ms\tremaining: 304ms\n",
            "292:\tlearn: 630315.6899915\ttotal: 289ms\tremaining: 303ms\n",
            "293:\tlearn: 630281.2572431\ttotal: 290ms\tremaining: 302ms\n",
            "294:\tlearn: 629778.6158925\ttotal: 291ms\tremaining: 301ms\n",
            "295:\tlearn: 628736.9591245\ttotal: 292ms\tremaining: 300ms\n",
            "296:\tlearn: 628298.8152752\ttotal: 293ms\tremaining: 299ms\n",
            "297:\tlearn: 627569.1896530\ttotal: 294ms\tremaining: 298ms\n",
            "298:\tlearn: 627026.7481809\ttotal: 295ms\tremaining: 297ms\n",
            "299:\tlearn: 626652.3222263\ttotal: 296ms\tremaining: 296ms\n",
            "300:\tlearn: 626141.2624081\ttotal: 297ms\tremaining: 295ms\n",
            "301:\tlearn: 625899.1343577\ttotal: 298ms\tremaining: 294ms\n",
            "302:\tlearn: 625454.4463908\ttotal: 299ms\tremaining: 293ms\n",
            "303:\tlearn: 624925.6478573\ttotal: 300ms\tremaining: 292ms\n",
            "304:\tlearn: 624549.5111401\ttotal: 301ms\tremaining: 291ms\n",
            "305:\tlearn: 624099.3566398\ttotal: 302ms\tremaining: 290ms\n",
            "306:\tlearn: 623648.8287894\ttotal: 303ms\tremaining: 289ms\n",
            "307:\tlearn: 623030.6927979\ttotal: 304ms\tremaining: 288ms\n",
            "308:\tlearn: 622753.3863492\ttotal: 305ms\tremaining: 287ms\n",
            "309:\tlearn: 622421.5990928\ttotal: 306ms\tremaining: 286ms\n",
            "310:\tlearn: 621842.4907118\ttotal: 307ms\tremaining: 285ms\n",
            "311:\tlearn: 621173.6467972\ttotal: 308ms\tremaining: 284ms\n",
            "312:\tlearn: 620487.2771265\ttotal: 309ms\tremaining: 283ms\n",
            "313:\tlearn: 619989.8705748\ttotal: 310ms\tremaining: 282ms\n",
            "314:\tlearn: 619531.6444148\ttotal: 311ms\tremaining: 281ms\n",
            "315:\tlearn: 619199.7493916\ttotal: 312ms\tremaining: 280ms\n",
            "316:\tlearn: 618813.0244686\ttotal: 313ms\tremaining: 279ms\n",
            "317:\tlearn: 618583.9193258\ttotal: 314ms\tremaining: 278ms\n",
            "318:\tlearn: 618249.1743808\ttotal: 315ms\tremaining: 277ms\n",
            "319:\tlearn: 618094.8280870\ttotal: 316ms\tremaining: 276ms\n",
            "320:\tlearn: 617432.6682065\ttotal: 316ms\tremaining: 275ms\n",
            "321:\tlearn: 616823.6909454\ttotal: 317ms\tremaining: 274ms\n",
            "322:\tlearn: 616603.3155248\ttotal: 318ms\tremaining: 273ms\n",
            "323:\tlearn: 616076.4999848\ttotal: 319ms\tremaining: 272ms\n",
            "324:\tlearn: 615531.6971205\ttotal: 320ms\tremaining: 271ms\n",
            "325:\tlearn: 615330.7569678\ttotal: 321ms\tremaining: 270ms\n",
            "326:\tlearn: 614428.5080766\ttotal: 322ms\tremaining: 269ms\n",
            "327:\tlearn: 613853.7211204\ttotal: 323ms\tremaining: 268ms\n",
            "328:\tlearn: 613368.1445737\ttotal: 324ms\tremaining: 267ms\n",
            "329:\tlearn: 613135.4397360\ttotal: 325ms\tremaining: 266ms\n",
            "330:\tlearn: 612826.8702081\ttotal: 326ms\tremaining: 265ms\n",
            "331:\tlearn: 612664.9175859\ttotal: 327ms\tremaining: 264ms\n",
            "332:\tlearn: 612641.4754309\ttotal: 328ms\tremaining: 263ms\n",
            "333:\tlearn: 612439.5671057\ttotal: 329ms\tremaining: 262ms\n",
            "334:\tlearn: 612216.7255984\ttotal: 330ms\tremaining: 261ms\n",
            "335:\tlearn: 611646.5775340\ttotal: 331ms\tremaining: 260ms\n",
            "336:\tlearn: 611464.1280535\ttotal: 332ms\tremaining: 259ms\n",
            "337:\tlearn: 611386.0594473\ttotal: 333ms\tremaining: 258ms\n",
            "338:\tlearn: 611244.4811743\ttotal: 334ms\tremaining: 257ms\n",
            "339:\tlearn: 610962.7991770\ttotal: 335ms\tremaining: 256ms\n",
            "340:\tlearn: 610793.4548736\ttotal: 336ms\tremaining: 255ms\n",
            "341:\tlearn: 610568.9322544\ttotal: 337ms\tremaining: 254ms\n",
            "342:\tlearn: 610331.5818698\ttotal: 338ms\tremaining: 253ms\n",
            "343:\tlearn: 610033.0283848\ttotal: 339ms\tremaining: 252ms\n",
            "344:\tlearn: 609796.3747355\ttotal: 339ms\tremaining: 251ms\n",
            "345:\tlearn: 609601.1597668\ttotal: 340ms\tremaining: 250ms\n",
            "346:\tlearn: 609293.1736507\ttotal: 341ms\tremaining: 249ms\n",
            "347:\tlearn: 608932.4903092\ttotal: 342ms\tremaining: 248ms\n",
            "348:\tlearn: 608526.0279539\ttotal: 343ms\tremaining: 247ms\n",
            "349:\tlearn: 608206.2001584\ttotal: 344ms\tremaining: 246ms\n",
            "350:\tlearn: 608002.7887274\ttotal: 345ms\tremaining: 245ms\n",
            "351:\tlearn: 607478.2434446\ttotal: 346ms\tremaining: 244ms\n",
            "352:\tlearn: 606554.9808671\ttotal: 347ms\tremaining: 243ms\n",
            "353:\tlearn: 606328.6622225\ttotal: 348ms\tremaining: 242ms\n",
            "354:\tlearn: 606139.6817958\ttotal: 349ms\tremaining: 241ms\n",
            "355:\tlearn: 605918.6524961\ttotal: 350ms\tremaining: 240ms\n",
            "356:\tlearn: 605670.5911987\ttotal: 351ms\tremaining: 239ms\n",
            "357:\tlearn: 605172.4006200\ttotal: 352ms\tremaining: 238ms\n",
            "358:\tlearn: 604975.4309325\ttotal: 353ms\tremaining: 237ms\n",
            "359:\tlearn: 604442.2724904\ttotal: 354ms\tremaining: 236ms\n",
            "360:\tlearn: 603497.0984863\ttotal: 355ms\tremaining: 235ms\n",
            "361:\tlearn: 603293.5720131\ttotal: 355ms\tremaining: 234ms\n",
            "362:\tlearn: 602199.1326680\ttotal: 358ms\tremaining: 233ms\n",
            "363:\tlearn: 601692.1576353\ttotal: 359ms\tremaining: 233ms\n",
            "364:\tlearn: 601352.1990703\ttotal: 362ms\tremaining: 233ms\n",
            "365:\tlearn: 600999.1167962\ttotal: 363ms\tremaining: 232ms\n",
            "366:\tlearn: 600712.7874638\ttotal: 364ms\tremaining: 231ms\n",
            "367:\tlearn: 600431.6500848\ttotal: 365ms\tremaining: 230ms\n",
            "368:\tlearn: 600058.0729846\ttotal: 366ms\tremaining: 229ms\n",
            "369:\tlearn: 599029.9793146\ttotal: 367ms\tremaining: 228ms\n",
            "370:\tlearn: 598563.3559962\ttotal: 368ms\tremaining: 227ms\n",
            "371:\tlearn: 597957.7889632\ttotal: 369ms\tremaining: 226ms\n",
            "372:\tlearn: 597211.5177322\ttotal: 370ms\tremaining: 225ms\n",
            "373:\tlearn: 596924.6681642\ttotal: 371ms\tremaining: 224ms\n",
            "374:\tlearn: 596406.5350663\ttotal: 372ms\tremaining: 223ms\n",
            "375:\tlearn: 596240.2695523\ttotal: 373ms\tremaining: 222ms\n",
            "376:\tlearn: 595300.0471793\ttotal: 374ms\tremaining: 221ms\n",
            "377:\tlearn: 595198.5841291\ttotal: 375ms\tremaining: 220ms\n",
            "378:\tlearn: 594849.8324464\ttotal: 376ms\tremaining: 219ms\n",
            "379:\tlearn: 594498.7112887\ttotal: 377ms\tremaining: 218ms\n",
            "380:\tlearn: 594345.9639235\ttotal: 378ms\tremaining: 217ms\n",
            "381:\tlearn: 593880.3371235\ttotal: 379ms\tremaining: 216ms\n",
            "382:\tlearn: 593561.5804940\ttotal: 380ms\tremaining: 215ms\n",
            "383:\tlearn: 593412.0148200\ttotal: 381ms\tremaining: 214ms\n",
            "384:\tlearn: 593106.4482883\ttotal: 381ms\tremaining: 213ms\n",
            "385:\tlearn: 592739.4957817\ttotal: 383ms\tremaining: 212ms\n",
            "386:\tlearn: 592609.4009494\ttotal: 384ms\tremaining: 211ms\n",
            "387:\tlearn: 592212.2241740\ttotal: 385ms\tremaining: 210ms\n",
            "388:\tlearn: 592118.4458001\ttotal: 386ms\tremaining: 209ms\n",
            "389:\tlearn: 591784.2236707\ttotal: 387ms\tremaining: 208ms\n",
            "390:\tlearn: 591636.3273070\ttotal: 388ms\tremaining: 207ms\n",
            "391:\tlearn: 591199.6305468\ttotal: 389ms\tremaining: 206ms\n",
            "392:\tlearn: 590821.7034345\ttotal: 389ms\tremaining: 205ms\n",
            "393:\tlearn: 590549.4516751\ttotal: 390ms\tremaining: 204ms\n",
            "394:\tlearn: 590090.1817534\ttotal: 391ms\tremaining: 203ms\n",
            "395:\tlearn: 589832.1914196\ttotal: 392ms\tremaining: 202ms\n",
            "396:\tlearn: 589729.6390716\ttotal: 393ms\tremaining: 201ms\n",
            "397:\tlearn: 589126.6832369\ttotal: 394ms\tremaining: 200ms\n",
            "398:\tlearn: 588970.3816573\ttotal: 395ms\tremaining: 199ms\n",
            "399:\tlearn: 588837.0174769\ttotal: 396ms\tremaining: 198ms\n",
            "400:\tlearn: 588733.1707540\ttotal: 397ms\tremaining: 197ms\n",
            "401:\tlearn: 588266.0912865\ttotal: 398ms\tremaining: 196ms\n",
            "402:\tlearn: 587865.5366253\ttotal: 399ms\tremaining: 195ms\n",
            "403:\tlearn: 587315.7438745\ttotal: 400ms\tremaining: 194ms\n",
            "404:\tlearn: 587076.3334725\ttotal: 401ms\tremaining: 193ms\n",
            "405:\tlearn: 586841.8243067\ttotal: 402ms\tremaining: 192ms\n",
            "406:\tlearn: 586419.8783775\ttotal: 403ms\tremaining: 191ms\n",
            "407:\tlearn: 585956.7508950\ttotal: 404ms\tremaining: 190ms\n",
            "408:\tlearn: 585661.7711075\ttotal: 405ms\tremaining: 189ms\n",
            "409:\tlearn: 585319.7390968\ttotal: 406ms\tremaining: 188ms\n",
            "410:\tlearn: 585158.6390036\ttotal: 407ms\tremaining: 187ms\n",
            "411:\tlearn: 584989.4994580\ttotal: 408ms\tremaining: 186ms\n",
            "412:\tlearn: 584713.7594694\ttotal: 409ms\tremaining: 185ms\n",
            "413:\tlearn: 584414.9986170\ttotal: 410ms\tremaining: 184ms\n",
            "414:\tlearn: 584118.7466409\ttotal: 411ms\tremaining: 183ms\n",
            "415:\tlearn: 583726.7306493\ttotal: 412ms\tremaining: 182ms\n",
            "416:\tlearn: 582989.7869658\ttotal: 413ms\tremaining: 181ms\n",
            "417:\tlearn: 582803.9962765\ttotal: 414ms\tremaining: 180ms\n",
            "418:\tlearn: 582568.1984939\ttotal: 414ms\tremaining: 179ms\n",
            "419:\tlearn: 581914.4216673\ttotal: 415ms\tremaining: 178ms\n",
            "420:\tlearn: 581298.0987489\ttotal: 417ms\tremaining: 177ms\n",
            "421:\tlearn: 581221.8004177\ttotal: 418ms\tremaining: 176ms\n",
            "422:\tlearn: 581092.4060177\ttotal: 419ms\tremaining: 175ms\n",
            "423:\tlearn: 581002.7151619\ttotal: 419ms\tremaining: 174ms\n",
            "424:\tlearn: 580782.4382125\ttotal: 420ms\tremaining: 173ms\n",
            "425:\tlearn: 580558.5386980\ttotal: 421ms\tremaining: 172ms\n",
            "426:\tlearn: 580018.5518586\ttotal: 423ms\tremaining: 171ms\n",
            "427:\tlearn: 579374.3441012\ttotal: 424ms\tremaining: 170ms\n",
            "428:\tlearn: 578885.6587916\ttotal: 425ms\tremaining: 169ms\n",
            "429:\tlearn: 578681.6676909\ttotal: 426ms\tremaining: 168ms\n",
            "430:\tlearn: 578184.8391659\ttotal: 427ms\tremaining: 167ms\n",
            "431:\tlearn: 577966.2616009\ttotal: 428ms\tremaining: 166ms\n",
            "432:\tlearn: 577493.4717651\ttotal: 429ms\tremaining: 165ms\n",
            "433:\tlearn: 577104.1529538\ttotal: 430ms\tremaining: 164ms\n",
            "434:\tlearn: 576910.4370256\ttotal: 431ms\tremaining: 163ms\n",
            "435:\tlearn: 576447.9882796\ttotal: 432ms\tremaining: 162ms\n",
            "436:\tlearn: 576082.8088473\ttotal: 433ms\tremaining: 161ms\n",
            "437:\tlearn: 575814.5821247\ttotal: 434ms\tremaining: 160ms\n",
            "438:\tlearn: 575661.7893006\ttotal: 435ms\tremaining: 159ms\n",
            "439:\tlearn: 575600.9435130\ttotal: 436ms\tremaining: 158ms\n",
            "440:\tlearn: 575450.5523375\ttotal: 436ms\tremaining: 157ms\n",
            "441:\tlearn: 575294.4926602\ttotal: 437ms\tremaining: 156ms\n",
            "442:\tlearn: 575071.4612539\ttotal: 438ms\tremaining: 155ms\n",
            "443:\tlearn: 574799.7653679\ttotal: 439ms\tremaining: 154ms\n",
            "444:\tlearn: 574258.9706859\ttotal: 440ms\tremaining: 153ms\n",
            "445:\tlearn: 573884.7067945\ttotal: 441ms\tremaining: 152ms\n",
            "446:\tlearn: 573023.3012096\ttotal: 442ms\tremaining: 151ms\n",
            "447:\tlearn: 572873.3467173\ttotal: 443ms\tremaining: 150ms\n",
            "448:\tlearn: 572491.7621417\ttotal: 444ms\tremaining: 149ms\n",
            "449:\tlearn: 572220.7425848\ttotal: 445ms\tremaining: 148ms\n",
            "450:\tlearn: 571902.9172438\ttotal: 446ms\tremaining: 147ms\n",
            "451:\tlearn: 571317.2459493\ttotal: 447ms\tremaining: 146ms\n",
            "452:\tlearn: 571159.6082761\ttotal: 448ms\tremaining: 145ms\n",
            "453:\tlearn: 570791.6112157\ttotal: 449ms\tremaining: 144ms\n",
            "454:\tlearn: 570555.2672375\ttotal: 450ms\tremaining: 143ms\n",
            "455:\tlearn: 570176.5761865\ttotal: 451ms\tremaining: 142ms\n",
            "456:\tlearn: 569918.3103916\ttotal: 452ms\tremaining: 141ms\n",
            "457:\tlearn: 569706.7517649\ttotal: 453ms\tremaining: 140ms\n",
            "458:\tlearn: 569245.6080401\ttotal: 454ms\tremaining: 139ms\n",
            "459:\tlearn: 568503.1720718\ttotal: 455ms\tremaining: 138ms\n",
            "460:\tlearn: 568361.3011588\ttotal: 456ms\tremaining: 137ms\n",
            "461:\tlearn: 567859.2985252\ttotal: 457ms\tremaining: 136ms\n",
            "462:\tlearn: 567568.2798850\ttotal: 458ms\tremaining: 135ms\n",
            "463:\tlearn: 566774.4419982\ttotal: 459ms\tremaining: 134ms\n",
            "464:\tlearn: 566530.6517302\ttotal: 460ms\tremaining: 133ms\n",
            "465:\tlearn: 566173.8723451\ttotal: 461ms\tremaining: 132ms\n",
            "466:\tlearn: 565940.3448910\ttotal: 462ms\tremaining: 131ms\n",
            "467:\tlearn: 565752.3402244\ttotal: 463ms\tremaining: 130ms\n",
            "468:\tlearn: 565579.7894858\ttotal: 463ms\tremaining: 129ms\n",
            "469:\tlearn: 565439.5182651\ttotal: 464ms\tremaining: 128ms\n",
            "470:\tlearn: 565057.3135641\ttotal: 465ms\tremaining: 127ms\n",
            "471:\tlearn: 564647.2333674\ttotal: 466ms\tremaining: 126ms\n",
            "472:\tlearn: 563815.4732477\ttotal: 467ms\tremaining: 125ms\n",
            "473:\tlearn: 563671.9640543\ttotal: 468ms\tremaining: 124ms\n",
            "474:\tlearn: 563397.0629753\ttotal: 469ms\tremaining: 123ms\n",
            "475:\tlearn: 563123.9075372\ttotal: 470ms\tremaining: 122ms\n",
            "476:\tlearn: 562716.5556537\ttotal: 471ms\tremaining: 121ms\n",
            "477:\tlearn: 562430.2065535\ttotal: 472ms\tremaining: 120ms\n",
            "478:\tlearn: 562040.0869330\ttotal: 473ms\tremaining: 119ms\n",
            "479:\tlearn: 561785.0385331\ttotal: 474ms\tremaining: 118ms\n",
            "480:\tlearn: 561636.1868404\ttotal: 475ms\tremaining: 117ms\n",
            "481:\tlearn: 561260.5641150\ttotal: 476ms\tremaining: 117ms\n",
            "482:\tlearn: 560914.0591472\ttotal: 477ms\tremaining: 116ms\n",
            "483:\tlearn: 560479.4702355\ttotal: 478ms\tremaining: 115ms\n",
            "484:\tlearn: 560082.6543572\ttotal: 479ms\tremaining: 114ms\n",
            "485:\tlearn: 559797.2293986\ttotal: 480ms\tremaining: 113ms\n",
            "486:\tlearn: 559465.7577165\ttotal: 481ms\tremaining: 112ms\n",
            "487:\tlearn: 558981.4190165\ttotal: 482ms\tremaining: 111ms\n",
            "488:\tlearn: 558698.4444564\ttotal: 483ms\tremaining: 110ms\n",
            "489:\tlearn: 558380.4103058\ttotal: 484ms\tremaining: 109ms\n",
            "490:\tlearn: 558283.0687389\ttotal: 485ms\tremaining: 108ms\n",
            "491:\tlearn: 558100.6757045\ttotal: 486ms\tremaining: 107ms\n",
            "492:\tlearn: 557780.2890024\ttotal: 487ms\tremaining: 106ms\n",
            "493:\tlearn: 557457.9160682\ttotal: 488ms\tremaining: 105ms\n",
            "494:\tlearn: 557064.2235811\ttotal: 489ms\tremaining: 104ms\n",
            "495:\tlearn: 556934.5495188\ttotal: 490ms\tremaining: 103ms\n",
            "496:\tlearn: 556611.9628076\ttotal: 490ms\tremaining: 102ms\n",
            "497:\tlearn: 556466.9912942\ttotal: 491ms\tremaining: 101ms\n",
            "498:\tlearn: 556071.9866316\ttotal: 492ms\tremaining: 99.6ms\n",
            "499:\tlearn: 555872.7065828\ttotal: 493ms\tremaining: 98.6ms\n",
            "500:\tlearn: 555428.6389432\ttotal: 494ms\tremaining: 97.7ms\n",
            "501:\tlearn: 554345.1143620\ttotal: 496ms\tremaining: 96.8ms\n",
            "502:\tlearn: 553696.9270120\ttotal: 497ms\tremaining: 95.8ms\n",
            "503:\tlearn: 553119.7390420\ttotal: 498ms\tremaining: 94.8ms\n",
            "504:\tlearn: 552800.5070478\ttotal: 499ms\tremaining: 93.8ms\n",
            "505:\tlearn: 552134.8692510\ttotal: 499ms\tremaining: 92.8ms\n",
            "506:\tlearn: 551964.0080794\ttotal: 500ms\tremaining: 91.8ms\n",
            "507:\tlearn: 551668.8784125\ttotal: 501ms\tremaining: 90.8ms\n",
            "508:\tlearn: 551168.9423171\ttotal: 502ms\tremaining: 89.8ms\n",
            "509:\tlearn: 550892.8787749\ttotal: 503ms\tremaining: 88.8ms\n",
            "510:\tlearn: 550465.4192699\ttotal: 504ms\tremaining: 87.8ms\n",
            "511:\tlearn: 550290.0460237\ttotal: 506ms\tremaining: 87ms\n",
            "512:\tlearn: 550159.6799056\ttotal: 507ms\tremaining: 86ms\n",
            "513:\tlearn: 549844.9217858\ttotal: 508ms\tremaining: 85ms\n",
            "514:\tlearn: 549531.2515876\ttotal: 509ms\tremaining: 84ms\n",
            "515:\tlearn: 549223.8052711\ttotal: 510ms\tremaining: 83ms\n",
            "516:\tlearn: 548995.3437881\ttotal: 511ms\tremaining: 82ms\n",
            "517:\tlearn: 548808.2696499\ttotal: 512ms\tremaining: 81ms\n",
            "518:\tlearn: 548641.0859543\ttotal: 513ms\tremaining: 80ms\n",
            "519:\tlearn: 548494.9065824\ttotal: 514ms\tremaining: 79ms\n",
            "520:\tlearn: 548185.7552783\ttotal: 514ms\tremaining: 78ms\n",
            "521:\tlearn: 547964.5762019\ttotal: 515ms\tremaining: 77ms\n",
            "522:\tlearn: 547676.8957952\ttotal: 517ms\tremaining: 76ms\n",
            "523:\tlearn: 547422.3948009\ttotal: 517ms\tremaining: 75ms\n",
            "524:\tlearn: 547265.8920458\ttotal: 518ms\tremaining: 74ms\n",
            "525:\tlearn: 547126.2905874\ttotal: 519ms\tremaining: 73ms\n",
            "526:\tlearn: 546999.7581752\ttotal: 520ms\tremaining: 72.1ms\n",
            "527:\tlearn: 546839.3514188\ttotal: 521ms\tremaining: 71ms\n",
            "528:\tlearn: 546523.9312910\ttotal: 522ms\tremaining: 70.1ms\n",
            "529:\tlearn: 546342.8336603\ttotal: 523ms\tremaining: 69.1ms\n",
            "530:\tlearn: 546087.1542610\ttotal: 524ms\tremaining: 68.1ms\n",
            "531:\tlearn: 545892.2100501\ttotal: 525ms\tremaining: 67.1ms\n",
            "532:\tlearn: 545401.3228921\ttotal: 526ms\tremaining: 66.1ms\n",
            "533:\tlearn: 545160.3497073\ttotal: 527ms\tremaining: 65.1ms\n",
            "534:\tlearn: 544711.5098042\ttotal: 528ms\tremaining: 64.1ms\n",
            "535:\tlearn: 544275.4575409\ttotal: 529ms\tremaining: 63.1ms\n",
            "536:\tlearn: 544131.5967925\ttotal: 530ms\tremaining: 62.2ms\n",
            "537:\tlearn: 543756.5770133\ttotal: 531ms\tremaining: 61.2ms\n",
            "538:\tlearn: 543529.5694617\ttotal: 533ms\tremaining: 60.3ms\n",
            "539:\tlearn: 542756.8874910\ttotal: 535ms\tremaining: 59.5ms\n",
            "540:\tlearn: 542331.0413048\ttotal: 536ms\tremaining: 58.5ms\n",
            "541:\tlearn: 542002.5768276\ttotal: 537ms\tremaining: 57.5ms\n",
            "542:\tlearn: 541799.4747962\ttotal: 538ms\tremaining: 56.5ms\n",
            "543:\tlearn: 541626.8015081\ttotal: 539ms\tremaining: 55.5ms\n",
            "544:\tlearn: 541187.0563973\ttotal: 542ms\tremaining: 54.7ms\n",
            "545:\tlearn: 541078.5083294\ttotal: 543ms\tremaining: 53.7ms\n",
            "546:\tlearn: 540822.8736451\ttotal: 544ms\tremaining: 52.7ms\n",
            "547:\tlearn: 540199.0108762\ttotal: 545ms\tremaining: 51.7ms\n",
            "548:\tlearn: 539909.2905686\ttotal: 546ms\tremaining: 50.7ms\n",
            "549:\tlearn: 539850.6568309\ttotal: 547ms\tremaining: 49.7ms\n",
            "550:\tlearn: 539665.7901856\ttotal: 548ms\tremaining: 48.7ms\n",
            "551:\tlearn: 539483.4152596\ttotal: 549ms\tremaining: 47.7ms\n",
            "552:\tlearn: 539104.8702848\ttotal: 550ms\tremaining: 46.7ms\n",
            "553:\tlearn: 538793.3287246\ttotal: 551ms\tremaining: 45.7ms\n",
            "554:\tlearn: 538567.3541111\ttotal: 552ms\tremaining: 44.7ms\n",
            "555:\tlearn: 538254.8103301\ttotal: 553ms\tremaining: 43.7ms\n",
            "556:\tlearn: 537753.3362227\ttotal: 554ms\tremaining: 42.7ms\n",
            "557:\tlearn: 537636.3219260\ttotal: 555ms\tremaining: 41.7ms\n",
            "558:\tlearn: 537130.7423376\ttotal: 556ms\tremaining: 40.8ms\n",
            "559:\tlearn: 536865.5995686\ttotal: 557ms\tremaining: 39.8ms\n",
            "560:\tlearn: 536756.0215598\ttotal: 557ms\tremaining: 38.8ms\n",
            "561:\tlearn: 536609.8559345\ttotal: 558ms\tremaining: 37.8ms\n",
            "562:\tlearn: 536291.2285314\ttotal: 559ms\tremaining: 36.8ms\n",
            "563:\tlearn: 536272.5270073\ttotal: 560ms\tremaining: 35.8ms\n",
            "564:\tlearn: 535844.1475997\ttotal: 561ms\tremaining: 34.8ms\n",
            "565:\tlearn: 535405.4468175\ttotal: 562ms\tremaining: 33.8ms\n",
            "566:\tlearn: 535211.7406713\ttotal: 563ms\tremaining: 32.8ms\n",
            "567:\tlearn: 535082.6116932\ttotal: 564ms\tremaining: 31.8ms\n",
            "568:\tlearn: 534836.6311585\ttotal: 565ms\tremaining: 30.8ms\n",
            "569:\tlearn: 534446.8241439\ttotal: 566ms\tremaining: 29.8ms\n",
            "570:\tlearn: 534247.4557919\ttotal: 567ms\tremaining: 28.8ms\n",
            "571:\tlearn: 533800.2059832\ttotal: 568ms\tremaining: 27.8ms\n",
            "572:\tlearn: 533350.9335052\ttotal: 569ms\tremaining: 26.8ms\n",
            "573:\tlearn: 533171.0912156\ttotal: 570ms\tremaining: 25.8ms\n",
            "574:\tlearn: 533021.0894281\ttotal: 571ms\tremaining: 24.8ms\n",
            "575:\tlearn: 532928.2986863\ttotal: 571ms\tremaining: 23.8ms\n",
            "576:\tlearn: 532557.8309794\ttotal: 572ms\tremaining: 22.8ms\n",
            "577:\tlearn: 532539.8548822\ttotal: 573ms\tremaining: 21.8ms\n",
            "578:\tlearn: 532107.2990796\ttotal: 574ms\tremaining: 20.8ms\n",
            "579:\tlearn: 531783.6406284\ttotal: 575ms\tremaining: 19.8ms\n",
            "580:\tlearn: 531506.9780400\ttotal: 576ms\tremaining: 18.8ms\n",
            "581:\tlearn: 531378.2916585\ttotal: 577ms\tremaining: 17.9ms\n",
            "582:\tlearn: 531272.3480711\ttotal: 578ms\tremaining: 16.9ms\n",
            "583:\tlearn: 531057.0681096\ttotal: 579ms\tremaining: 15.9ms\n",
            "584:\tlearn: 530731.9225506\ttotal: 580ms\tremaining: 14.9ms\n",
            "585:\tlearn: 530568.6392235\ttotal: 581ms\tremaining: 13.9ms\n",
            "586:\tlearn: 530551.7864521\ttotal: 582ms\tremaining: 12.9ms\n",
            "587:\tlearn: 530220.8107249\ttotal: 583ms\tremaining: 11.9ms\n",
            "588:\tlearn: 529865.1760682\ttotal: 584ms\tremaining: 10.9ms\n",
            "589:\tlearn: 529475.6123594\ttotal: 585ms\tremaining: 9.91ms\n",
            "590:\tlearn: 529283.6761850\ttotal: 586ms\tremaining: 8.92ms\n",
            "591:\tlearn: 529100.3250024\ttotal: 587ms\tremaining: 7.93ms\n",
            "592:\tlearn: 529040.4488438\ttotal: 588ms\tremaining: 6.94ms\n",
            "593:\tlearn: 528870.0932783\ttotal: 589ms\tremaining: 5.95ms\n",
            "594:\tlearn: 528555.8537067\ttotal: 590ms\tremaining: 4.96ms\n",
            "595:\tlearn: 528365.3762503\ttotal: 591ms\tremaining: 3.96ms\n",
            "596:\tlearn: 528094.3871476\ttotal: 592ms\tremaining: 2.97ms\n",
            "597:\tlearn: 527948.7086499\ttotal: 593ms\tremaining: 1.98ms\n",
            "598:\tlearn: 527787.5046144\ttotal: 594ms\tremaining: 991us\n",
            "599:\tlearn: 527641.5062551\ttotal: 595ms\tremaining: 0us\n"
          ],
          "name": "stdout"
        },
        {
          "output_type": "execute_result",
          "data": {
            "text/plain": [
              "<catboost.core.CatBoostRegressor at 0x7f839b0ee910>"
            ]
          },
          "metadata": {
            "tags": []
          },
          "execution_count": 211
        }
      ]
    },
    {
      "cell_type": "code",
      "metadata": {
        "id": "9vTC_Zw1DpNE"
      },
      "source": [
        "y_predCAT = cat_reg.predict(X_test_scaled)"
      ],
      "execution_count": null,
      "outputs": []
    },
    {
      "cell_type": "code",
      "metadata": {
        "colab": {
          "base_uri": "https://localhost:8080/"
        },
        "id": "atCbwjU1vhBA",
        "outputId": "116ca1db-da43-4b9d-c66d-93f7ca81be12"
      },
      "source": [
        "print('Mean Absolute Error: ', round(metrics.mean_absolute_error(y_test, y_predCAT), 3))\n",
        "print('Mean Squared Error: ', round(metrics.mean_squared_error(y_test, y_predCAT), 3))\n",
        "print('Root Mean Squared Error: ', round(np.sqrt(metrics.mean_squared_error(y_test, y_predCAT)), 3))\n",
        "print('R2 score: ', round(r2_score(y_test, y_predCAT), 3))"
      ],
      "execution_count": null,
      "outputs": [
        {
          "output_type": "stream",
          "text": [
            "Mean Absolute Error:  466340.166\n",
            "Mean Squared Error:  444810986852.11\n",
            "Root Mean Squared Error:  666941.517\n",
            "R2 score:  0.793\n"
          ],
          "name": "stdout"
        }
      ]
    },
    {
      "cell_type": "code",
      "metadata": {
        "colab": {
          "base_uri": "https://localhost:8080/"
        },
        "id": "G3vqIVPt8iLU",
        "outputId": "6ee67d70-ca9a-40bd-ce25-b301c1161fa7"
      },
      "source": [
        "evaluate(cat_reg, X_train_scaled, y_train)\n",
        "evaluate(cat_reg, X_test_scaled, y_test)"
      ],
      "execution_count": null,
      "outputs": [
        {
          "output_type": "stream",
          "text": [
            "Model Performance\n",
            "Accuracy = 80.05%.\n",
            "Model Performance\n",
            "Accuracy = 72.86%.\n"
          ],
          "name": "stdout"
        },
        {
          "output_type": "execute_result",
          "data": {
            "text/plain": [
              "72.86189334123736"
            ]
          },
          "metadata": {
            "tags": []
          },
          "execution_count": 204
        }
      ]
    },
    {
      "cell_type": "code",
      "metadata": {
        "colab": {
          "base_uri": "https://localhost:8080/",
          "height": 396
        },
        "id": "tTdE0vvCDpNF",
        "outputId": "40e03e90-c7aa-48b8-8359-bda14bd2a18f"
      },
      "source": [
        "n_c = []\n",
        "imp_c = []\n",
        "for name, importance in zip(df_n1.columns[:-1], cat_reg.feature_importances_):\n",
        "  print(name, \"=\", importance)\n",
        "  n_c.append(name)\n",
        "  imp_c.append(importance)\n",
        "\n",
        "plt.figure(figsize=(20,7))  \n",
        "plt.bar(n_c, imp_c)\n",
        "plt.show()\n"
      ],
      "execution_count": null,
      "outputs": [
        {
          "output_type": "stream",
          "text": [
            "year = 35.2224843168079\n",
            "manufacturer = 22.51942912110763\n",
            "model = 17.57919886549668\n",
            "fuel = 0.1793536996585259\n",
            "mileage = 6.494141691013669\n",
            "grade = 4.7245703612455685\n",
            "transmission = 2.956961162539811\n",
            "selling_condition = 8.444362792749734\n",
            "color = 1.879497989380473\n"
          ],
          "name": "stdout"
        },
        {
          "output_type": "display_data",
          "data": {
            "image/png": "[encoded data removed]",
            "text/plain": [
              "<Figure size 1440x504 with 1 Axes>"
            ]
          },
          "metadata": {
            "tags": [],
            "needs_background": "light"
          }
        }
      ]
    },
    {
      "cell_type": "markdown",
      "metadata": {
        "id": "hlbLGxcv3EyL"
      },
      "source": [
        "From the observations of all the models that have been trained, the *Cat Boost Regressor* performed the best with R2 score of 0.793.\n",
        "\n",
        "From the feature importance plot, we can see that the *fuel* and *color* feature have the least effect/importance on the models price prediction so we would drop those features and retrain all the models"
      ]
    },
    {
      "cell_type": "markdown",
      "metadata": {
        "id": "Yp2PYf9Te3K0"
      },
      "source": [
        "#####With Feature Selection(Removed *Fuel* and *Color* features)"
      ]
    },
    {
      "cell_type": "code",
      "metadata": {
        "id": "3Cq9gnlsfJyY"
      },
      "source": [
        "# rearrange columns for simplicity\n",
        "df_n1 = df_n[['year','manufacturer','model','mileage', 'grade', 'transmission', 'selling_condition', 'price']]"
      ],
      "execution_count": null,
      "outputs": []
    },
    {
      "cell_type": "code",
      "metadata": {
        "id": "o2thKP1OPb0V"
      },
      "source": [
        "# selecting features, X\n",
        "X = df_n1.iloc[:, :-1].values\n",
        "# selecting labels, y\n",
        "y = df_n1.iloc[:, -1].values"
      ],
      "execution_count": null,
      "outputs": []
    },
    {
      "cell_type": "code",
      "metadata": {
        "colab": {
          "base_uri": "https://localhost:8080/"
        },
        "id": "OrBeh2J-gPQd",
        "outputId": "f91cf2ca-c8e2-4fd0-cecf-a7c56a2c0f68"
      },
      "source": [
        "# to split the data\n",
        "# split into train and test\n",
        "X_train, X_test, y_train, y_test = train_test_split(X, y, test_size=0.2, random_state=42)\n",
        "print('Train set: ', X_train.shape, y_train.shape)\n",
        "print('Test set: ', X_test.shape, y_test.shape)"
      ],
      "execution_count": null,
      "outputs": [
        {
          "output_type": "stream",
          "text": [
            "Train set:  (2004, 7) (2004,)\n",
            "Test set:  (502, 7) (502,)\n"
          ],
          "name": "stdout"
        }
      ]
    },
    {
      "cell_type": "code",
      "metadata": {
        "id": "WOcgCuAqgh_n"
      },
      "source": [
        "# define scaler\n",
        "scaler_std = StandardScaler()\n",
        "scaler_minmax = MinMaxScaler()\n",
        "# fit scaler on the training dataset\n",
        "scaler_std.fit(X_train)\n",
        "# save the scaler\n",
        "pickle.dump(scaler_std, open('standard_scaler.pkl', 'wb'))\n",
        "# transform the training dataset\n",
        "X_train_scaled = scaler_std.transform(X_train)\n",
        "# transform the test dataset\n",
        "X_test_scaled = scaler_std.transform(X_test)"
      ],
      "execution_count": null,
      "outputs": []
    },
    {
      "cell_type": "code",
      "metadata": {
        "id": "0ZJtkaIldUKo"
      },
      "source": [
        "# copy to drive\n",
        "! cp '/content/standard_scaler.pkl' '/content/drive/MyDrive/models_features-fuel&color_scaled'"
      ],
      "execution_count": null,
      "outputs": []
    },
    {
      "cell_type": "code",
      "metadata": {
        "colab": {
          "base_uri": "https://localhost:8080/"
        },
        "id": "_DMZ_aJMhvZK",
        "outputId": "4c237ac0-2dfe-445f-e652-666e9aa7eabb"
      },
      "source": [
        "X_test[0]"
      ],
      "execution_count": null,
      "outputs": [
        {
          "output_type": "execute_result",
          "data": {
            "text/plain": [
              "array([  2012,     14,     30, 103412,      1,      0,      1])"
            ]
          },
          "metadata": {
            "tags": []
          },
          "execution_count": 130
        }
      ]
    },
    {
      "cell_type": "code",
      "metadata": {
        "colab": {
          "base_uri": "https://localhost:8080/"
        },
        "id": "qIgSW02Fhgu6",
        "outputId": "64ec433b-b7c1-491d-995b-6d3533dcd443"
      },
      "source": [
        "X_test_scaled[0]"
      ],
      "execution_count": null,
      "outputs": [
        {
          "output_type": "execute_result",
          "data": {
            "text/plain": [
              "array([ 1.15182318, -1.04327073, -1.26450474, -0.65242525, -1.09843943,\n",
              "       -0.29904409,  0.59425564])"
            ]
          },
          "metadata": {
            "tags": []
          },
          "execution_count": 131
        }
      ]
    },
    {
      "cell_type": "markdown",
      "metadata": {
        "id": "mcN5MNUwAt3Q"
      },
      "source": [
        "***For prediction purposes*: The data must be arranged in the same order it was arranged when scaling and it must be a 2d array**"
      ]
    },
    {
      "cell_type": "code",
      "metadata": {
        "id": "Wy6y2puZh4Kk"
      },
      "source": [
        "v = [[2000,0,46,1,344345,2,1,0,17]] # must be a 2D array\n",
        "v_s = scaler.transform(v)"
      ],
      "execution_count": null,
      "outputs": []
    },
    {
      "cell_type": "code",
      "metadata": {
        "colab": {
          "base_uri": "https://localhost:8080/"
        },
        "id": "GoRu9fYlkoa4",
        "outputId": "10993ef2-8e20-41ec-ac11-37802353045a"
      },
      "source": [
        "v_s"
      ],
      "execution_count": null,
      "outputs": [
        {
          "output_type": "execute_result",
          "data": {
            "text/plain": [
              "array([[0.33333333, 0.        , 0.13981763, 0.2       , 0.99615244,\n",
              "        0.5       , 0.33333333, 0.        , 0.94444444]])"
            ]
          },
          "metadata": {
            "tags": []
          },
          "execution_count": 175
        }
      ]
    },
    {
      "cell_type": "markdown",
      "metadata": {
        "id": "1mxdWZknlJ_V"
      },
      "source": [
        "######**Linear Regression**"
      ]
    },
    {
      "cell_type": "code",
      "metadata": {
        "id": "c2C7nlbOpvxf"
      },
      "source": [
        "def evaluate(model, test_features, test_labels, set_type):\n",
        "    predictions = model.predict(test_features)\n",
        "    errors = abs(predictions - test_labels)\n",
        "    mape = 100 * np.mean(errors / test_labels)\n",
        "    accuracy = 100 - mape\n",
        "    if set_type == 'train':\n",
        "      print('Model Train Performance')\n",
        "    else:\n",
        "      print('Model Test Performance')\n",
        "    print('Accuracy = {:0.2f}%.'.format(accuracy))"
      ],
      "execution_count": null,
      "outputs": []
    },
    {
      "cell_type": "code",
      "metadata": {
        "colab": {
          "base_uri": "https://localhost:8080/"
        },
        "id": "co2lmgMYkxb3",
        "outputId": "727f3bf5-290d-4aa1-8195-5922bd067706"
      },
      "source": [
        "# to create the linear reg model\n",
        "lin_reg = LinearRegression()\n",
        "lin_reg.fit(X_train_scaled, y_train)  # fit the model to train set"
      ],
      "execution_count": null,
      "outputs": [
        {
          "output_type": "execute_result",
          "data": {
            "text/plain": [
              "LinearRegression(copy_X=True, fit_intercept=True, n_jobs=None, normalize=False)"
            ]
          },
          "metadata": {
            "tags": []
          },
          "execution_count": 132
        }
      ]
    },
    {
      "cell_type": "code",
      "metadata": {
        "id": "hvYVaDd5lPo_"
      },
      "source": [
        "# to evaluate test set values\n",
        "y_pred = lin_reg.predict(X_test_scaled)"
      ],
      "execution_count": null,
      "outputs": []
    },
    {
      "cell_type": "code",
      "metadata": {
        "colab": {
          "base_uri": "https://localhost:8080/"
        },
        "id": "1u3wnP71t4-v",
        "outputId": "0e2f1001-c2aa-4e42-b55f-dd5226a4bb21"
      },
      "source": [
        "print('Mean Absolute Error: ', round(metrics.mean_absolute_error(y_test, y_pred), 3))\n",
        "print('Mean Squared Error: ', round(metrics.mean_squared_error(y_test, y_pred), 3))\n",
        "print('Root Mean Squared Error: ', round(np.sqrt(metrics.mean_squared_error(y_test, y_pred)), 3))\n",
        "print('R2 score: ', round(r2_score(y_test, y_pred), 3))"
      ],
      "execution_count": null,
      "outputs": [
        {
          "output_type": "stream",
          "text": [
            "Mean Absolute Error:  756188.831\n",
            "Mean Squared Error:  960560509817.591\n",
            "Root Mean Squared Error:  980081.889\n",
            "R2 score:  0.553\n"
          ],
          "name": "stdout"
        }
      ]
    },
    {
      "cell_type": "code",
      "metadata": {
        "colab": {
          "base_uri": "https://localhost:8080/"
        },
        "id": "HkZeM4Q2qhWl",
        "outputId": "5d558eb3-8648-4a9f-b68b-4c60ecff58b9"
      },
      "source": [
        "evaluate(lin_reg, X_train_scaled, y_train, 'train')\n",
        "evaluate(lin_reg, X_test_scaled, y_test, 'test')"
      ],
      "execution_count": null,
      "outputs": [
        {
          "output_type": "stream",
          "text": [
            "Model Train Performance\n",
            "Accuracy = 53.42%.\n",
            "Model Test Performance\n",
            "Accuracy = 51.69%.\n"
          ],
          "name": "stdout"
        }
      ]
    },
    {
      "cell_type": "markdown",
      "metadata": {
        "id": "HxiC9xbhYN8n"
      },
      "source": [
        "######**Polynomial regression**"
      ]
    },
    {
      "cell_type": "code",
      "metadata": {
        "id": "QidqZE1sYSP3"
      },
      "source": [
        "from sklearn.preprocessing import PolynomialFeatures\n",
        "# Polynomial transformation of degree 2\n",
        "poly_features = PolynomialFeatures(degree = 2)\n",
        "# Returns a transformed version of X with new features\n",
        "poly_features.fit(X_train_scaled)\n",
        "X_train_scaled_poly = poly_features.transform(X_train_scaled)\n",
        "# save the scaler\n",
        "pickle.dump(poly_features, open('poly_feature.pkl', 'wb'))\n",
        "# transform test\n",
        "X_test_scaled_poly = poly_features.transform(X_test_scaled)\n"
      ],
      "execution_count": null,
      "outputs": []
    },
    {
      "cell_type": "code",
      "metadata": {
        "colab": {
          "base_uri": "https://localhost:8080/"
        },
        "id": "9gFyMbkEaA4V",
        "outputId": "00052f80-339b-450a-beb7-c7c65c3bce3e"
      },
      "source": [
        "poly_reg = LinearRegression()\n",
        "poly_reg_score = cross_val_score(poly_reg, X_train_scaled_poly, y_train, verbose = 2)\n",
        "poly_reg_score"
      ],
      "execution_count": null,
      "outputs": [
        {
          "output_type": "stream",
          "text": [
            "[CV]  ................................................................\n",
            "[CV] ................................................. , total=   0.0s\n",
            "[CV]  ................................................................\n",
            "[CV] ................................................. , total=   0.0s\n",
            "[CV]  ................................................................\n",
            "[CV] ................................................. , total=   0.0s\n",
            "[CV]  ................................................................\n",
            "[CV] ................................................. , total=   0.0s\n",
            "[CV]  ................................................................\n",
            "[CV] ................................................. , total=   0.0s\n"
          ],
          "name": "stdout"
        },
        {
          "output_type": "stream",
          "text": [
            "[Parallel(n_jobs=1)]: Using backend SequentialBackend with 1 concurrent workers.\n",
            "[Parallel(n_jobs=1)]: Done   1 out of   1 | elapsed:    0.0s remaining:    0.0s\n",
            "[Parallel(n_jobs=1)]: Done   5 out of   5 | elapsed:    0.0s finished\n"
          ],
          "name": "stderr"
        },
        {
          "output_type": "execute_result",
          "data": {
            "text/plain": [
              "array([0.55697365, 0.63224451, 0.56987173, 0.57861949, 0.53072104])"
            ]
          },
          "metadata": {
            "tags": []
          },
          "execution_count": 139
        }
      ]
    },
    {
      "cell_type": "code",
      "metadata": {
        "colab": {
          "base_uri": "https://localhost:8080/"
        },
        "id": "R3gAV1__buVa",
        "outputId": "0ce82010-f638-48f8-ba57-eb74ed5d25fb"
      },
      "source": [
        "poly_reg.fit(X_train_scaled_poly, y_train)\n",
        "y_pred_poly = poly_reg.predict(X_test_scaled_poly)\n",
        "poly_reg.score(X_test_scaled_poly, y_test)"
      ],
      "execution_count": null,
      "outputs": [
        {
          "output_type": "execute_result",
          "data": {
            "text/plain": [
              "0.5864576755268884"
            ]
          },
          "metadata": {
            "tags": []
          },
          "execution_count": 140
        }
      ]
    },
    {
      "cell_type": "code",
      "metadata": {
        "colab": {
          "base_uri": "https://localhost:8080/"
        },
        "id": "mRuZzR5Pcmpn",
        "outputId": "716f2519-c9af-48e2-99ee-24764f9acdf7"
      },
      "source": [
        "print('Mean Absolute Error: ', round(metrics.mean_absolute_error(y_test, y_pred_poly), 3))\n",
        "print('Mean Squared Error: ', round(metrics.mean_squared_error(y_test, y_pred_poly), 3))\n",
        "print('Root Mean Squared Error: ', round(np.sqrt(metrics.mean_squared_error(y_test, y_pred_poly)), 3))\n",
        "print('R2 score: ', round(r2_score(y_test, y_pred_poly), 3))"
      ],
      "execution_count": null,
      "outputs": [
        {
          "output_type": "stream",
          "text": [
            "Mean Absolute Error:  699129.797\n",
            "Mean Squared Error:  888713241609.155\n",
            "Root Mean Squared Error:  942715.886\n",
            "R2 score:  0.586\n"
          ],
          "name": "stdout"
        }
      ]
    },
    {
      "cell_type": "markdown",
      "metadata": {
        "id": "A1C8pBZTlk_e"
      },
      "source": [
        "######**Decision Trees**"
      ]
    },
    {
      "cell_type": "code",
      "metadata": {
        "colab": {
          "base_uri": "https://localhost:8080/"
        },
        "id": "EzvBXtKJlXDR",
        "outputId": "168847c0-696c-4857-ab38-a6437961c1e8"
      },
      "source": [
        "dec_tree = DecisionTreeRegressor(random_state=42)\n",
        "dec_tree.fit(X_train_scaled, y_train.ravel())"
      ],
      "execution_count": null,
      "outputs": [
        {
          "output_type": "execute_result",
          "data": {
            "text/plain": [
              "DecisionTreeRegressor(ccp_alpha=0.0, criterion='mse', max_depth=None,\n",
              "                      max_features=None, max_leaf_nodes=None,\n",
              "                      min_impurity_decrease=0.0, min_impurity_split=None,\n",
              "                      min_samples_leaf=1, min_samples_split=2,\n",
              "                      min_weight_fraction_leaf=0.0, presort='deprecated',\n",
              "                      random_state=42, splitter='best')"
            ]
          },
          "metadata": {
            "tags": []
          },
          "execution_count": 142
        }
      ]
    },
    {
      "cell_type": "code",
      "metadata": {
        "id": "CUtL1luwluFI"
      },
      "source": [
        "y_predDT = dec_tree.predict(X_test_scaled)"
      ],
      "execution_count": null,
      "outputs": []
    },
    {
      "cell_type": "code",
      "metadata": {
        "colab": {
          "base_uri": "https://localhost:8080/"
        },
        "id": "azBxLc1Qu3BE",
        "outputId": "15962900-ea4f-44cc-ef31-0ec0676aff28"
      },
      "source": [
        "print('Mean Absolute Error: ', round(metrics.mean_absolute_error(y_test, y_predDT), 3))\n",
        "print('Mean Squared Error: ', round(metrics.mean_squared_error(y_test, y_predDT), 3))\n",
        "print('Root Mean Squared Error: ', round(np.sqrt(metrics.mean_squared_error(y_test, y_predDT)), 3))\n",
        "print('R2 score: ', round(r2_score(y_test, y_predDT), 3))"
      ],
      "execution_count": null,
      "outputs": [
        {
          "output_type": "stream",
          "text": [
            "Mean Absolute Error:  670758.833\n",
            "Mean Squared Error:  1016665600294.733\n",
            "Root Mean Squared Error:  1008298.369\n",
            "R2 score:  0.527\n"
          ],
          "name": "stdout"
        }
      ]
    },
    {
      "cell_type": "code",
      "metadata": {
        "colab": {
          "base_uri": "https://localhost:8080/"
        },
        "id": "VtLCdI48lMFP",
        "outputId": "d428d45e-d5c9-4ca0-f302-58440979895b"
      },
      "source": [
        "evaluate(dec_tree, X_train_scaled, y_train, 'train')\n",
        "evaluate(dec_tree, X_test_scaled, y_test, 'test')"
      ],
      "execution_count": null,
      "outputs": [
        {
          "output_type": "stream",
          "text": [
            "Model Train Performance\n",
            "Accuracy = 100.00%.\n",
            "Model Test Performance\n",
            "Accuracy = 62.12%.\n"
          ],
          "name": "stdout"
        }
      ]
    },
    {
      "cell_type": "code",
      "metadata": {
        "colab": {
          "base_uri": "https://localhost:8080/"
        },
        "id": "6M8XYc51diny",
        "outputId": "2b11f77b-6203-4834-a938-f00a11c6a6cf"
      },
      "source": [
        "param_grid = {'max_features': ['auto', 'sqrt'],\n",
        "              'max_depth': np.arange(5, 36, 5),\n",
        "              'min_samples_split': [5, 10, 20, 40],\n",
        "              'min_samples_leaf': [2, 6, 12, 24],\n",
        "             }\n",
        "tree_reg = RandomizedSearchCV(estimator = DecisionTreeRegressor(), param_distributions = param_grid, n_iter = 100, verbose = 2, n_jobs = -1)\n",
        "tree_reg.fit(X_train_scaled, y_train)\n",
        "\n",
        "# Results from Randomized Search\n",
        "print(\"\\n========================================================\")\n",
        "print(\" Results from Randomized Search \" )\n",
        "print(\"========================================================\")    \n",
        "    \n",
        "print(\"\\n The best estimator across ALL searched params:\\n\",\n",
        "          tree_reg.best_estimator_)\n",
        "    \n",
        "print(\"\\n The best score across ALL searched params:\\n\",\n",
        "          tree_reg.best_score_)\n",
        "    \n",
        "print(\"\\n The best parameters across ALL searched params:\\n\",\n",
        "          tree_reg.best_params_)"
      ],
      "execution_count": null,
      "outputs": [
        {
          "output_type": "stream",
          "text": [
            "Fitting 5 folds for each of 100 candidates, totalling 500 fits\n"
          ],
          "name": "stdout"
        },
        {
          "output_type": "stream",
          "text": [
            "[Parallel(n_jobs=-1)]: Using backend LokyBackend with 2 concurrent workers.\n",
            "[Parallel(n_jobs=-1)]: Done 296 tasks      | elapsed:    2.4s\n"
          ],
          "name": "stderr"
        },
        {
          "output_type": "stream",
          "text": [
            "\n",
            "========================================================\n",
            " Results from Randomized Search \n",
            "========================================================\n",
            "\n",
            " The best estimator across ALL searched params:\n",
            " DecisionTreeRegressor(ccp_alpha=0.0, criterion='mse', max_depth=30,\n",
            "                      max_features='auto', max_leaf_nodes=None,\n",
            "                      min_impurity_decrease=0.0, min_impurity_split=None,\n",
            "                      min_samples_leaf=6, min_samples_split=5,\n",
            "                      min_weight_fraction_leaf=0.0, presort='deprecated',\n",
            "                      random_state=None, splitter='best')\n",
            "\n",
            " The best score across ALL searched params:\n",
            " 0.5888759975217136\n",
            "\n",
            " The best parameters across ALL searched params:\n",
            " {'min_samples_split': 5, 'min_samples_leaf': 6, 'max_features': 'auto', 'max_depth': 30}\n"
          ],
          "name": "stdout"
        },
        {
          "output_type": "stream",
          "text": [
            "[Parallel(n_jobs=-1)]: Done 500 out of 500 | elapsed:    3.1s finished\n"
          ],
          "name": "stderr"
        }
      ]
    },
    {
      "cell_type": "code",
      "metadata": {
        "colab": {
          "base_uri": "https://localhost:8080/"
        },
        "id": "q1-v45vBf4Nb",
        "outputId": "c78c333f-f5f2-4694-d14a-0f81303fb85a"
      },
      "source": [
        "new_dec_tree = DecisionTreeRegressor(min_samples_split=5, min_samples_leaf=6, max_features='auto', max_depth=30, random_state=42)\n",
        "new_dec_tree.fit(X_train_scaled, y_train)"
      ],
      "execution_count": null,
      "outputs": [
        {
          "output_type": "execute_result",
          "data": {
            "text/plain": [
              "DecisionTreeRegressor(ccp_alpha=0.0, criterion='mse', max_depth=30,\n",
              "                      max_features='auto', max_leaf_nodes=None,\n",
              "                      min_impurity_decrease=0.0, min_impurity_split=None,\n",
              "                      min_samples_leaf=6, min_samples_split=5,\n",
              "                      min_weight_fraction_leaf=0.0, presort='deprecated',\n",
              "                      random_state=42, splitter='best')"
            ]
          },
          "metadata": {
            "tags": []
          },
          "execution_count": 147
        }
      ]
    },
    {
      "cell_type": "code",
      "metadata": {
        "colab": {
          "base_uri": "https://localhost:8080/"
        },
        "id": "uoRcl-O8gXA8",
        "outputId": "4c588f99-4d30-4845-aa15-44b7fead8f2a"
      },
      "source": [
        "y_predDT = new_dec_tree.predict(X_test_scaled)\n",
        "print('Mean Absolute Error: ', round(metrics.mean_absolute_error(y_test, y_predDT), 3))\n",
        "print('Mean Squared Error: ', round(metrics.mean_squared_error(y_test, y_predDT), 3))\n",
        "print('Root Mean Squared Error: ', round(np.sqrt(metrics.mean_squared_error(y_test, y_predDT)), 3))\n",
        "print('R2 score: ', round(r2_score(y_test, y_predDT), 3))"
      ],
      "execution_count": null,
      "outputs": [
        {
          "output_type": "stream",
          "text": [
            "Mean Absolute Error:  657875.24\n",
            "Mean Squared Error:  906639170511.147\n",
            "Root Mean Squared Error:  952176.019\n",
            "R2 score:  0.578\n"
          ],
          "name": "stdout"
        }
      ]
    },
    {
      "cell_type": "code",
      "metadata": {
        "colab": {
          "base_uri": "https://localhost:8080/"
        },
        "id": "PZTSxEuggm64",
        "outputId": "ffbc956b-dc75-44d2-c7ec-519522c22a79"
      },
      "source": [
        "evaluate(new_dec_tree, X_train_scaled, y_train, 'train')\n",
        "evaluate(new_dec_tree, X_test_scaled, y_test, 'test')"
      ],
      "execution_count": null,
      "outputs": [
        {
          "output_type": "stream",
          "text": [
            "Model Train Performance\n",
            "Accuracy = 76.18%.\n",
            "Model Test Performance\n",
            "Accuracy = 60.76%.\n"
          ],
          "name": "stdout"
        }
      ]
    },
    {
      "cell_type": "markdown",
      "metadata": {
        "id": "Y_U0AiARkqE3"
      },
      "source": [
        "######**Random Forest Regressor**"
      ]
    },
    {
      "cell_type": "code",
      "metadata": {
        "colab": {
          "base_uri": "https://localhost:8080/"
        },
        "id": "sK70Vdc6l6lr",
        "outputId": "81402e6a-b0a2-4088-a4cb-1ad944885e68"
      },
      "source": [
        "rfr = RandomForestRegressor(random_state=42, n_estimators=800)\n",
        "rfr.fit(X_train_scaled, y_train.ravel())"
      ],
      "execution_count": null,
      "outputs": [
        {
          "output_type": "execute_result",
          "data": {
            "text/plain": [
              "RandomForestRegressor(bootstrap=True, ccp_alpha=0.0, criterion='mse',\n",
              "                      max_depth=None, max_features='auto', max_leaf_nodes=None,\n",
              "                      max_samples=None, min_impurity_decrease=0.0,\n",
              "                      min_impurity_split=None, min_samples_leaf=1,\n",
              "                      min_samples_split=2, min_weight_fraction_leaf=0.0,\n",
              "                      n_estimators=800, n_jobs=None, oob_score=False,\n",
              "                      random_state=42, verbose=0, warm_start=False)"
            ]
          },
          "metadata": {
            "tags": []
          },
          "execution_count": 150
        }
      ]
    },
    {
      "cell_type": "code",
      "metadata": {
        "id": "eZIcI9F4mdNh"
      },
      "source": [
        "y_predRF = rfr.predict(X_test_scaled)"
      ],
      "execution_count": null,
      "outputs": []
    },
    {
      "cell_type": "code",
      "metadata": {
        "colab": {
          "base_uri": "https://localhost:8080/"
        },
        "id": "QO_axtrw0ADn",
        "outputId": "007e2ed4-4444-4138-bdc9-8554c4b6e928"
      },
      "source": [
        "print('Mean Absolute Error: ', round(metrics.mean_absolute_error(y_test, y_predRF), 3))\n",
        "print('Mean Squared Error: ', round(metrics.mean_squared_error(y_test, y_predRF), 3))\n",
        "print('Root Mean Squared Error: ', round(np.sqrt(metrics.mean_squared_error(y_test, y_predRF)), 3))\n",
        "print('R2 score: ', round(r2_score(y_test, y_predRF), 3))"
      ],
      "execution_count": null,
      "outputs": [
        {
          "output_type": "stream",
          "text": [
            "Mean Absolute Error:  530208.749\n",
            "Mean Squared Error:  546807801930.65\n",
            "Root Mean Squared Error:  739464.537\n",
            "R2 score:  0.746\n"
          ],
          "name": "stdout"
        }
      ]
    },
    {
      "cell_type": "code",
      "metadata": {
        "colab": {
          "base_uri": "https://localhost:8080/"
        },
        "id": "Y1ceyvgNG0pn",
        "outputId": "16abbd9d-ae3c-4453-9d3d-641e56137a5d"
      },
      "source": [
        "evaluate(rfr, X_train_scaled, y_train, 'train')\n",
        "evaluate(rfr, X_test_scaled, y_test, 'test')"
      ],
      "execution_count": null,
      "outputs": [
        {
          "output_type": "stream",
          "text": [
            "Model Train Performance\n",
            "Accuracy = 88.65%.\n",
            "Model Test Performance\n",
            "Accuracy = 66.95%.\n"
          ],
          "name": "stdout"
        }
      ]
    },
    {
      "cell_type": "code",
      "metadata": {
        "id": "qf6_yTLksyST"
      },
      "source": [
        "# save the rf boost model\n",
        "pickle.dump(rfr, open('random_forest_model.pkl', 'wb'))"
      ],
      "execution_count": null,
      "outputs": []
    },
    {
      "cell_type": "code",
      "metadata": {
        "id": "ZPo2sYJoJXZa"
      },
      "source": [
        "! cp '/content/random_forest_model.pkl' '/content/drive/MyDrive/models_features-fuel&color_scaled'"
      ],
      "execution_count": null,
      "outputs": []
    },
    {
      "cell_type": "code",
      "metadata": {
        "colab": {
          "base_uri": "https://localhost:8080/"
        },
        "id": "cNnOKJPemkk9",
        "outputId": "915f25b0-822e-4b4e-941e-ddd8ddca06af"
      },
      "source": [
        "# to find the best parameters for random forest\n",
        "\n",
        "model = RandomForestRegressor()\n",
        "n_estimators = [10, 50, 100, 250, 400, 1000]\n",
        "min_samples_split = [2, 3, 5, 7, 9]\n",
        "min_samples_leaf = [1, 2, 4, 6, 8]\n",
        "max_features = ['auto', 'sqrt', 'log2', None]\n",
        "\n",
        "parameters = {'n_estimators': n_estimators,\n",
        "              'min_samples_leaf': min_samples_leaf,\n",
        "              'min_samples_split': min_samples_split,\n",
        "              'max_features': max_features}\n",
        "\n",
        "grid = GridSearchCV(model, parameters, cv = 2, n_jobs=-1)\n",
        "gs = grid.fit(X_train_scaled, y_train)    \n",
        "\n",
        "# Results from Grid Search\n",
        "print(\"\\n========================================================\")\n",
        "print(\" Results from Grid Search \" )\n",
        "print(\"========================================================\")    \n",
        "    \n",
        "print(\"\\n The best estimator across ALL searched params:\\n\",\n",
        "          gs.best_estimator_)\n",
        "    \n",
        "print(\"\\n The best score across ALL searched params:\\n\",\n",
        "          gs.best_score_)\n",
        "    \n",
        "print(\"\\n The best parameters across ALL searched params:\\n\",\n",
        "          gs.best_params_)"
      ],
      "execution_count": null,
      "outputs": [
        {
          "output_type": "stream",
          "text": [
            "\n",
            "========================================================\n",
            " Results from Grid Search \n",
            "========================================================\n",
            "\n",
            " The best estimator across ALL searched params:\n",
            " RandomForestRegressor(bootstrap=True, ccp_alpha=0.0, criterion='mse',\n",
            "                      max_depth=None, max_features='auto', max_leaf_nodes=None,\n",
            "                      max_samples=None, min_impurity_decrease=0.0,\n",
            "                      min_impurity_split=None, min_samples_leaf=1,\n",
            "                      min_samples_split=5, min_weight_fraction_leaf=0.0,\n",
            "                      n_estimators=50, n_jobs=None, oob_score=False,\n",
            "                      random_state=None, verbose=0, warm_start=False)\n",
            "\n",
            " The best score across ALL searched params:\n",
            " 0.6445208836094247\n",
            "\n",
            " The best parameters across ALL searched params:\n",
            " {'max_features': 'auto', 'min_samples_leaf': 1, 'min_samples_split': 5, 'n_estimators': 50}\n"
          ],
          "name": "stdout"
        }
      ]
    },
    {
      "cell_type": "code",
      "metadata": {
        "colab": {
          "base_uri": "https://localhost:8080/"
        },
        "id": "kiJgKJIOny32",
        "outputId": "e59c2d88-1d1d-4b0f-938b-2acb7e17a021"
      },
      "source": [
        "# using best parameters from grid search\n",
        "rfr1 = RandomForestRegressor(random_state=42, n_estimators=900, min_samples_split=5)\n",
        "rfr1.fit(X_train_scaled, y_train.ravel())"
      ],
      "execution_count": null,
      "outputs": [
        {
          "output_type": "execute_result",
          "data": {
            "text/plain": [
              "RandomForestRegressor(bootstrap=True, ccp_alpha=0.0, criterion='mse',\n",
              "                      max_depth=None, max_features='auto', max_leaf_nodes=None,\n",
              "                      max_samples=None, min_impurity_decrease=0.0,\n",
              "                      min_impurity_split=None, min_samples_leaf=1,\n",
              "                      min_samples_split=5, min_weight_fraction_leaf=0.0,\n",
              "                      n_estimators=900, n_jobs=None, oob_score=False,\n",
              "                      random_state=42, verbose=0, warm_start=False)"
            ]
          },
          "metadata": {
            "tags": []
          },
          "execution_count": 155
        }
      ]
    },
    {
      "cell_type": "code",
      "metadata": {
        "id": "PsMj6_b8ny34"
      },
      "source": [
        "y_predRF = rfr1.predict(X_test_scaled)"
      ],
      "execution_count": null,
      "outputs": []
    },
    {
      "cell_type": "code",
      "metadata": {
        "colab": {
          "base_uri": "https://localhost:8080/"
        },
        "id": "bd5LWmX-ny34",
        "outputId": "dd6de5b7-807b-4e37-c199-6d1472574892"
      },
      "source": [
        "print('Mean Absolute Error: ', round(metrics.mean_absolute_error(y_test, y_predRF), 3))\n",
        "print('Mean Squared Error: ', round(metrics.mean_squared_error(y_test, y_predRF), 3))\n",
        "print('Root Mean Squared Error: ', round(np.sqrt(metrics.mean_squared_error(y_test, y_predRF)), 3))\n",
        "print('R2 score: ', round(r2_score(y_test, y_predRF), 3))"
      ],
      "execution_count": null,
      "outputs": [
        {
          "output_type": "stream",
          "text": [
            "Mean Absolute Error:  530887.424\n",
            "Mean Squared Error:  546424908088.946\n",
            "Root Mean Squared Error:  739205.593\n",
            "R2 score:  0.746\n"
          ],
          "name": "stdout"
        }
      ]
    },
    {
      "cell_type": "code",
      "metadata": {
        "colab": {
          "base_uri": "https://localhost:8080/"
        },
        "id": "gXZuD1Isny35",
        "outputId": "59fdf9ce-9f81-4d50-e69c-68cf7bea34b5"
      },
      "source": [
        "evaluate(rfr1, X_train_scaled, y_train, 'train')\n",
        "evaluate(rfr1, X_test_scaled, y_test, 'test')"
      ],
      "execution_count": null,
      "outputs": [
        {
          "output_type": "stream",
          "text": [
            "Model Train Performance\n",
            "Accuracy = 85.11%.\n",
            "Model Test Performance\n",
            "Accuracy = 66.76%.\n"
          ],
          "name": "stdout"
        }
      ]
    },
    {
      "cell_type": "code",
      "metadata": {
        "colab": {
          "base_uri": "https://localhost:8080/"
        },
        "id": "pxWz56asnGcI",
        "outputId": "8a429049-f9a5-4376-cebb-6700d5e90bba"
      },
      "source": [
        "from sklearn.model_selection import RandomizedSearchCV\n",
        "\n",
        "n_estimators = [int(x) for x in np.linspace(start = 200, stop = 2000, num = 10)]\n",
        "max_features = ['auto', 'sqrt']\n",
        "max_depth = [int(x) for x in np.linspace(10, 110, num = 11)]\n",
        "max_depth.append(None)\n",
        "min_samples_split = [2, 5, 10, 20, 40]\n",
        "min_samples_leaf = [1, 2, 4, 6, 12, 24]\n",
        "bootstrap = [True, False]\n",
        "\n",
        "# Create the random grid\n",
        "random_grid = {'n_estimators': n_estimators,\n",
        "               'max_features': max_features,\n",
        "               'max_depth': max_depth,\n",
        "               'min_samples_split': min_samples_split,\n",
        "               'min_samples_leaf': min_samples_leaf,\n",
        "               'bootstrap': bootstrap}\n",
        "\n",
        "# Use the random grid to search for best hyperparameters\n",
        "# First create the base model to tune\n",
        "rf = RandomForestRegressor()\n",
        "# Random search of parameters, using 2 fold cross validation, \n",
        "# search across 100 different combinations\n",
        "rf_random = RandomizedSearchCV(estimator = rf, param_distributions = random_grid, n_iter = 100, cv = 2, verbose=2, random_state=42, n_jobs = -1)\n",
        "# Fit the random search model\n",
        "rf_random.fit(X_train_scaled, y_train)\n",
        "\n",
        "# Results from Randomized Search\n",
        "print(\"\\n========================================================\")\n",
        "print(\" Results from Grid Search \" )\n",
        "print(\"========================================================\")    \n",
        "    \n",
        "print(\"\\n The best estimator across ALL searched params:\\n\",\n",
        "          rf_random.best_estimator_)\n",
        "    \n",
        "print(\"\\n The best score across ALL searched params:\\n\",\n",
        "          rf_random.best_score_)\n",
        "    \n",
        "print(\"\\n The best parameters across ALL searched params:\\n\",\n",
        "          rf_random.best_params_)"
      ],
      "execution_count": null,
      "outputs": [
        {
          "output_type": "stream",
          "text": [
            "Fitting 2 folds for each of 100 candidates, totalling 200 fits\n"
          ],
          "name": "stdout"
        },
        {
          "output_type": "stream",
          "text": [
            "[Parallel(n_jobs=-1)]: Using backend LokyBackend with 2 concurrent workers.\n",
            "[Parallel(n_jobs=-1)]: Done  37 tasks      | elapsed:  1.1min\n",
            "[Parallel(n_jobs=-1)]: Done 158 tasks      | elapsed:  5.1min\n",
            "[Parallel(n_jobs=-1)]: Done 200 out of 200 | elapsed:  6.4min finished\n"
          ],
          "name": "stderr"
        },
        {
          "output_type": "stream",
          "text": [
            "\n",
            "========================================================\n",
            " Results from Grid Search \n",
            "========================================================\n",
            "\n",
            " The best estimator across ALL searched params:\n",
            " RandomForestRegressor(bootstrap=True, ccp_alpha=0.0, criterion='mse',\n",
            "                      max_depth=30, max_features='auto', max_leaf_nodes=None,\n",
            "                      max_samples=None, min_impurity_decrease=0.0,\n",
            "                      min_impurity_split=None, min_samples_leaf=2,\n",
            "                      min_samples_split=5, min_weight_fraction_leaf=0.0,\n",
            "                      n_estimators=1600, n_jobs=None, oob_score=False,\n",
            "                      random_state=None, verbose=0, warm_start=False)\n",
            "\n",
            " The best score across ALL searched params:\n",
            " 0.657654445506191\n",
            "\n",
            " The best parameters across ALL searched params:\n",
            " {'n_estimators': 1600, 'min_samples_split': 5, 'min_samples_leaf': 2, 'max_features': 'auto', 'max_depth': 30, 'bootstrap': True}\n"
          ],
          "name": "stdout"
        }
      ]
    },
    {
      "cell_type": "code",
      "metadata": {
        "colab": {
          "base_uri": "https://localhost:8080/"
        },
        "id": "XvI4ysEksHpW",
        "outputId": "0a494301-82e3-4d9c-b212-60c904810da3"
      },
      "source": [
        "# using best parameters from randomized search\n",
        "rfr2 = RandomForestRegressor(random_state=42, n_estimators=1000, min_samples_split=2, min_samples_leaf=2, max_depth=30)\n",
        "rfr2.fit(X_train_scaled, y_train.ravel())"
      ],
      "execution_count": null,
      "outputs": [
        {
          "output_type": "execute_result",
          "data": {
            "text/plain": [
              "RandomForestRegressor(bootstrap=True, ccp_alpha=0.0, criterion='mse',\n",
              "                      max_depth=30, max_features='auto', max_leaf_nodes=None,\n",
              "                      max_samples=None, min_impurity_decrease=0.0,\n",
              "                      min_impurity_split=None, min_samples_leaf=2,\n",
              "                      min_samples_split=2, min_weight_fraction_leaf=0.0,\n",
              "                      n_estimators=1000, n_jobs=None, oob_score=False,\n",
              "                      random_state=42, verbose=0, warm_start=False)"
            ]
          },
          "metadata": {
            "tags": []
          },
          "execution_count": 160
        }
      ]
    },
    {
      "cell_type": "code",
      "metadata": {
        "id": "lorIL1JxsHpY"
      },
      "source": [
        "y_predRF = rfr2.predict(X_test_scaled)"
      ],
      "execution_count": null,
      "outputs": []
    },
    {
      "cell_type": "code",
      "metadata": {
        "colab": {
          "base_uri": "https://localhost:8080/"
        },
        "id": "-cAL1QP3sHpZ",
        "outputId": "cd32d8d5-7e8e-432a-9da5-76146e270ea3"
      },
      "source": [
        "print('Mean Absolute Error: ', round(metrics.mean_absolute_error(y_test, y_predRF), 3))\n",
        "print('Mean Squared Error: ', round(metrics.mean_squared_error(y_test, y_predRF), 3))\n",
        "print('Root Mean Squared Error: ', round(np.sqrt(metrics.mean_squared_error(y_test, y_predRF)), 3))\n",
        "print('R2 score: ', round(r2_score(y_test, y_predRF), 3))"
      ],
      "execution_count": null,
      "outputs": [
        {
          "output_type": "stream",
          "text": [
            "Mean Absolute Error:  528712.744\n",
            "Mean Squared Error:  551136040539.684\n",
            "Root Mean Squared Error:  742385.372\n",
            "R2 score:  0.744\n"
          ],
          "name": "stdout"
        }
      ]
    },
    {
      "cell_type": "code",
      "metadata": {
        "colab": {
          "base_uri": "https://localhost:8080/"
        },
        "id": "rmLratTYsHpZ",
        "outputId": "05211b98-ecec-446f-aeff-19c14d6887d2"
      },
      "source": [
        "evaluate(rfr2, X_train_scaled, y_train, 'train')\n",
        "evaluate(rfr2, X_test_scaled, y_test, 'test')"
      ],
      "execution_count": null,
      "outputs": [
        {
          "output_type": "stream",
          "text": [
            "Model Train Performance\n",
            "Accuracy = 84.22%.\n",
            "Model Test Performance\n",
            "Accuracy = 67.25%.\n"
          ],
          "name": "stdout"
        }
      ]
    },
    {
      "cell_type": "markdown",
      "metadata": {
        "id": "DCDBQlPoewqS"
      },
      "source": [
        "######**Extra Trees Regressor**"
      ]
    },
    {
      "cell_type": "code",
      "metadata": {
        "colab": {
          "base_uri": "https://localhost:8080/"
        },
        "id": "OMgkUcO3v28b",
        "outputId": "427f5b15-4f53-4164-ae67-85aa1463c121"
      },
      "source": [
        "et = ExtraTreesRegressor(n_estimators=800, random_state=42)\n",
        "et.fit(X_train_scaled, y_train.ravel())"
      ],
      "execution_count": null,
      "outputs": [
        {
          "output_type": "execute_result",
          "data": {
            "text/plain": [
              "ExtraTreesRegressor(bootstrap=False, ccp_alpha=0.0, criterion='mse',\n",
              "                    max_depth=None, max_features='auto', max_leaf_nodes=None,\n",
              "                    max_samples=None, min_impurity_decrease=0.0,\n",
              "                    min_impurity_split=None, min_samples_leaf=1,\n",
              "                    min_samples_split=2, min_weight_fraction_leaf=0.0,\n",
              "                    n_estimators=800, n_jobs=None, oob_score=False,\n",
              "                    random_state=42, verbose=0, warm_start=False)"
            ]
          },
          "metadata": {
            "tags": []
          },
          "execution_count": 165
        }
      ]
    },
    {
      "cell_type": "code",
      "metadata": {
        "id": "_R8cny0swUrC"
      },
      "source": [
        "y_predET = et.predict(X_test_scaled)"
      ],
      "execution_count": null,
      "outputs": []
    },
    {
      "cell_type": "code",
      "metadata": {
        "colab": {
          "base_uri": "https://localhost:8080/"
        },
        "id": "hZVR6AZT3uJ5",
        "outputId": "a1101f42-5bee-488d-df6b-781ce1495b7d"
      },
      "source": [
        "print('Mean Absolute Error: ', round(metrics.mean_absolute_error(y_test, y_predET), 3))\n",
        "print('Mean Squared Error: ', round(metrics.mean_squared_error(y_test, y_predET), 3))\n",
        "print('Root Mean Squared Error: ', round(np.sqrt(metrics.mean_squared_error(y_test, y_predET)), 3))\n",
        "print('R2 score: ', round(r2_score(y_test, y_predET), 3))"
      ],
      "execution_count": null,
      "outputs": [
        {
          "output_type": "stream",
          "text": [
            "Mean Absolute Error:  582473.896\n",
            "Mean Squared Error:  674174841292.232\n",
            "Root Mean Squared Error:  821081.507\n",
            "R2 score:  0.686\n"
          ],
          "name": "stdout"
        }
      ]
    },
    {
      "cell_type": "code",
      "metadata": {
        "colab": {
          "base_uri": "https://localhost:8080/"
        },
        "id": "92fmnk9bdiY-",
        "outputId": "59d29533-6918-4425-ccfc-19b3d1518f85"
      },
      "source": [
        "evaluate(et, X_train_scaled, y_train, 'train')\n",
        "evaluate(et, X_test_scaled, y_test, 'test')"
      ],
      "execution_count": null,
      "outputs": [
        {
          "output_type": "stream",
          "text": [
            "Model Train Performance\n",
            "Accuracy = 100.00%.\n",
            "Model Test Performance\n",
            "Accuracy = 64.95%.\n"
          ],
          "name": "stdout"
        }
      ]
    },
    {
      "cell_type": "markdown",
      "metadata": {
        "id": "vFRzBdFD6xb-"
      },
      "source": [
        "######**ADA BOOST REGRESSOR**"
      ]
    },
    {
      "cell_type": "code",
      "metadata": {
        "colab": {
          "base_uri": "https://localhost:8080/"
        },
        "id": "dFycV2be7A9t",
        "outputId": "8c6a5a98-240a-47f0-cec9-e9f59f700da8"
      },
      "source": [
        "ada = AdaBoostRegressor(DecisionTreeRegressor(), n_estimators=800, learning_rate=1.5, random_state=42)\n",
        "ada.fit(X_train_scaled, y_train.ravel())"
      ],
      "execution_count": null,
      "outputs": [
        {
          "output_type": "execute_result",
          "data": {
            "text/plain": [
              "AdaBoostRegressor(base_estimator=DecisionTreeRegressor(ccp_alpha=0.0,\n",
              "                                                       criterion='mse',\n",
              "                                                       max_depth=None,\n",
              "                                                       max_features=None,\n",
              "                                                       max_leaf_nodes=None,\n",
              "                                                       min_impurity_decrease=0.0,\n",
              "                                                       min_impurity_split=None,\n",
              "                                                       min_samples_leaf=1,\n",
              "                                                       min_samples_split=2,\n",
              "                                                       min_weight_fraction_leaf=0.0,\n",
              "                                                       presort='deprecated',\n",
              "                                                       random_state=None,\n",
              "                                                       splitter='best'),\n",
              "                  learning_rate=1.5, loss='linear', n_estimators=800,\n",
              "                  random_state=42)"
            ]
          },
          "metadata": {
            "tags": []
          },
          "execution_count": 170
        }
      ]
    },
    {
      "cell_type": "code",
      "metadata": {
        "id": "Av3wOIig7A94"
      },
      "source": [
        "y_predADA = ada.predict(X_test_scaled)"
      ],
      "execution_count": null,
      "outputs": []
    },
    {
      "cell_type": "code",
      "metadata": {
        "colab": {
          "base_uri": "https://localhost:8080/"
        },
        "id": "JfDGJu2RKjgU",
        "outputId": "ecf4f543-17bb-4b6d-c0f9-a9ace447547f"
      },
      "source": [
        "print('Mean Absolute Error: ', round(metrics.mean_absolute_error(y_test, y_predADA), 3))\n",
        "print('Mean Squared Error: ', round(metrics.mean_squared_error(y_test, y_predADA), 3))\n",
        "print('Root Mean Squared Error: ', round(np.sqrt(metrics.mean_squared_error(y_test, y_predADA)), 3))\n",
        "print('R2 score: ', round(r2_score(y_test, y_predADA), 3))"
      ],
      "execution_count": null,
      "outputs": [
        {
          "output_type": "stream",
          "text": [
            "Mean Absolute Error:  488486.934\n",
            "Mean Squared Error:  470341110684.922\n",
            "Root Mean Squared Error:  685814.195\n",
            "R2 score:  0.781\n"
          ],
          "name": "stdout"
        }
      ]
    },
    {
      "cell_type": "code",
      "metadata": {
        "colab": {
          "base_uri": "https://localhost:8080/"
        },
        "id": "b8mya9sX_Wvf",
        "outputId": "569763a2-03f7-45a9-d89d-80c7038a1040"
      },
      "source": [
        "evaluate(ada, X_train_scaled, y_train, 'train')\n",
        "evaluate(ada, X_test_scaled, y_test, 'test')"
      ],
      "execution_count": null,
      "outputs": [
        {
          "output_type": "stream",
          "text": [
            "Model Train Performance\n",
            "Accuracy = 92.66%.\n",
            "Model Test Performance\n",
            "Accuracy = 70.18%.\n"
          ],
          "name": "stdout"
        }
      ]
    },
    {
      "cell_type": "code",
      "metadata": {
        "id": "tRNNmSJKLJJ3"
      },
      "source": [
        "# save the rf boost model\n",
        "pickle.dump(ada, open('adaboost_model.pkl', 'wb'))\n",
        "# copy to drive\n",
        "! cp '/content/adaboost_model.pkl' '/content/drive/MyDrive/models_features-fuel&color_scaled'"
      ],
      "execution_count": null,
      "outputs": []
    },
    {
      "cell_type": "markdown",
      "metadata": {
        "id": "kk-iqsPxw-Mt"
      },
      "source": [
        "######**XGBRegressor**"
      ]
    },
    {
      "cell_type": "code",
      "metadata": {
        "colab": {
          "base_uri": "https://localhost:8080/"
        },
        "id": "_gW4ZpmgwaS_",
        "outputId": "3909edc0-2045-45dd-fcab-e037f4a90e3b"
      },
      "source": [
        "xgb = XGBRegressor(n_estimators=1000, learning_rate=0.1, random_state=42)\n",
        "xgb.fit(X_train_scaled, y_train.ravel())"
      ],
      "execution_count": null,
      "outputs": [
        {
          "output_type": "stream",
          "text": [
            "[23:45:22] WARNING: /workspace/src/objective/regression_obj.cu:152: reg:linear is now deprecated in favor of reg:squarederror.\n"
          ],
          "name": "stdout"
        },
        {
          "output_type": "execute_result",
          "data": {
            "text/plain": [
              "XGBRegressor(base_score=0.5, booster='gbtree', colsample_bylevel=1,\n",
              "             colsample_bynode=1, colsample_bytree=1, gamma=0,\n",
              "             importance_type='gain', learning_rate=0.1, max_delta_step=0,\n",
              "             max_depth=3, min_child_weight=1, missing=None, n_estimators=1000,\n",
              "             n_jobs=1, nthread=None, objective='reg:linear', random_state=42,\n",
              "             reg_alpha=0, reg_lambda=1, scale_pos_weight=1, seed=None,\n",
              "             silent=None, subsample=1, verbosity=1)"
            ]
          },
          "metadata": {
            "tags": []
          },
          "execution_count": 194
        }
      ]
    },
    {
      "cell_type": "code",
      "metadata": {
        "id": "M1zsg8hxxA3-"
      },
      "source": [
        "y_predXGB = xgb.predict(X_test_scaled)"
      ],
      "execution_count": null,
      "outputs": []
    },
    {
      "cell_type": "code",
      "metadata": {
        "colab": {
          "base_uri": "https://localhost:8080/"
        },
        "id": "kBa6ndimvPZ2",
        "outputId": "1ac84815-7f86-4e72-8bfd-f4882ac47f1f"
      },
      "source": [
        "print('Mean Absolute Error: ', round(metrics.mean_absolute_error(y_test, y_predXGB), 3))\n",
        "print('Mean Squared Error: ', round(metrics.mean_squared_error(y_test, y_predXGB), 3))\n",
        "print('Root Mean Squared Error: ', round(np.sqrt(metrics.mean_squared_error(y_test, y_predXGB)), 3))\n",
        "print('R2 score: ', round(r2_score(y_test, y_predXGB), 3))"
      ],
      "execution_count": null,
      "outputs": [
        {
          "output_type": "stream",
          "text": [
            "Mean Absolute Error:  489606.09\n",
            "Mean Squared Error:  475481168858.431\n",
            "Root Mean Squared Error:  689551.426\n",
            "R2 score:  0.779\n"
          ],
          "name": "stdout"
        }
      ]
    },
    {
      "cell_type": "code",
      "metadata": {
        "colab": {
          "base_uri": "https://localhost:8080/"
        },
        "id": "dQcUEf_R-XMD",
        "outputId": "a4a77348-3ee9-4f6a-93a3-9ab228e05b1a"
      },
      "source": [
        "evaluate(xgb, X_train_scaled, y_train, 'train')\n",
        "evaluate(xgb, X_test_scaled, y_test, 'test')"
      ],
      "execution_count": null,
      "outputs": [
        {
          "output_type": "stream",
          "text": [
            "Model Train Performance\n",
            "Accuracy = 84.95%.\n",
            "Model Test Performance\n",
            "Accuracy = 71.40%.\n"
          ],
          "name": "stdout"
        }
      ]
    },
    {
      "cell_type": "code",
      "metadata": {
        "id": "suL6cZhmtvat"
      },
      "source": [
        "# save the xgboost model\n",
        "pickle.dump(xgb, open('xgbregressor_model.pkl', 'wb'))\n",
        "# copy to drive\n",
        "! cp '/content/xgbregressor_model.pkl' '/content/drive/MyDrive/models_features-fuel&color_scaled'"
      ],
      "execution_count": null,
      "outputs": []
    },
    {
      "cell_type": "markdown",
      "metadata": {
        "id": "VDZaZZDcxvYr"
      },
      "source": [
        "######**XGBRFRegressor**"
      ]
    },
    {
      "cell_type": "code",
      "metadata": {
        "colab": {
          "base_uri": "https://localhost:8080/"
        },
        "id": "lpDA_qbAxIPN",
        "outputId": "50b34783-4330-4bdb-b2d8-9c546591f9bd"
      },
      "source": [
        "xgbrf = XGBRFRegressor(n_estimators=100, random_state=42)\n",
        "xgbrf.fit(X_train_scaled, y_train.ravel())"
      ],
      "execution_count": null,
      "outputs": [
        {
          "output_type": "stream",
          "text": [
            "[23:47:42] WARNING: /workspace/src/objective/regression_obj.cu:152: reg:linear is now deprecated in favor of reg:squarederror.\n"
          ],
          "name": "stdout"
        },
        {
          "output_type": "execute_result",
          "data": {
            "text/plain": [
              "XGBRFRegressor(base_score=0.5, colsample_bylevel=1, colsample_bynode=0.8,\n",
              "               colsample_bytree=1, gamma=0, learning_rate=1, max_delta_step=0,\n",
              "               max_depth=3, min_child_weight=1, missing=None, n_estimators=100,\n",
              "               n_jobs=1, nthread=None, objective='reg:linear', random_state=42,\n",
              "               reg_alpha=0, reg_lambda=1, scale_pos_weight=1, seed=None,\n",
              "               silent=None, subsample=0.8, verbosity=1)"
            ]
          },
          "metadata": {
            "tags": []
          },
          "execution_count": 202
        }
      ]
    },
    {
      "cell_type": "code",
      "metadata": {
        "id": "RakoHD1CxyK4"
      },
      "source": [
        "y_predXGBRF = xgbrf.predict(X_test_scaled)"
      ],
      "execution_count": null,
      "outputs": []
    },
    {
      "cell_type": "code",
      "metadata": {
        "colab": {
          "base_uri": "https://localhost:8080/"
        },
        "id": "9Z58RzPxx1Fj",
        "outputId": "7f833d4b-febd-4df6-bae0-0d781d59b612"
      },
      "source": [
        "print('Mean Absolute Error: ', round(metrics.mean_absolute_error(y_test, y_predXGBRF), 3))\n",
        "print('Mean Squared Error: ', round(metrics.mean_squared_error(y_test, y_predXGBRF), 3))\n",
        "print('Root Mean Squared Error: ', round(np.sqrt(metrics.mean_squared_error(y_test, y_predXGBRF)), 3))\n",
        "print('R2 score: ', round(r2_score(y_test, y_predXGBRF), 3))"
      ],
      "execution_count": null,
      "outputs": [
        {
          "output_type": "stream",
          "text": [
            "Mean Absolute Error:  756567.659\n",
            "Mean Squared Error:  957181791475.989\n",
            "Root Mean Squared Error:  978356.679\n",
            "R2 score:  0.555\n"
          ],
          "name": "stdout"
        }
      ]
    },
    {
      "cell_type": "code",
      "metadata": {
        "colab": {
          "base_uri": "https://localhost:8080/"
        },
        "id": "ip1uFsWddSit",
        "outputId": "cc33dab1-bcb5-4837-8a3f-db6bf7bd4101"
      },
      "source": [
        "evaluate(xgbrf, X_train_scaled, y_train, 'train')\n",
        "evaluate(xgbrf, X_test_scaled, y_test, 'test')"
      ],
      "execution_count": null,
      "outputs": [
        {
          "output_type": "stream",
          "text": [
            "Model Train Performance\n",
            "Accuracy = 53.85%.\n",
            "Model Test Performance\n",
            "Accuracy = 47.08%.\n"
          ],
          "name": "stdout"
        }
      ]
    },
    {
      "cell_type": "markdown",
      "metadata": {
        "id": "6fVBj-5myBtZ"
      },
      "source": [
        "######**LGBMRegressor**"
      ]
    },
    {
      "cell_type": "code",
      "metadata": {
        "colab": {
          "base_uri": "https://localhost:8080/"
        },
        "id": "ZBw3ckaIx4jN",
        "outputId": "df16b104-72f6-4cba-edea-8b72f4e0537e"
      },
      "source": [
        "lgbm = LGBMRegressor(n_estimators=200, random_state=42)\n",
        "lgbm.fit(X_train_scaled, y_train.ravel())"
      ],
      "execution_count": null,
      "outputs": [
        {
          "output_type": "execute_result",
          "data": {
            "text/plain": [
              "LGBMRegressor(boosting_type='gbdt', class_weight=None, colsample_bytree=1.0,\n",
              "              importance_type='split', learning_rate=0.1, max_depth=-1,\n",
              "              min_child_samples=20, min_child_weight=0.001, min_split_gain=0.0,\n",
              "              n_estimators=200, n_jobs=-1, num_leaves=31, objective=None,\n",
              "              random_state=42, reg_alpha=0.0, reg_lambda=0.0, silent=True,\n",
              "              subsample=1.0, subsample_for_bin=200000, subsample_freq=0)"
            ]
          },
          "metadata": {
            "tags": []
          },
          "execution_count": 207
        }
      ]
    },
    {
      "cell_type": "code",
      "metadata": {
        "id": "peerx9sxyDp4"
      },
      "source": [
        "y_predLGBM = lgbm.predict(X_test_scaled)"
      ],
      "execution_count": null,
      "outputs": []
    },
    {
      "cell_type": "code",
      "metadata": {
        "colab": {
          "base_uri": "https://localhost:8080/"
        },
        "id": "_umbX7ggA_GC",
        "outputId": "e01bdf0a-5f5f-494b-f49f-09af5f9d4d55"
      },
      "source": [
        "print('Mean Absolute Error: ', round(metrics.mean_absolute_error(y_test, y_predLGBM), 3))\n",
        "print('Mean Squared Error: ', round(metrics.mean_squared_error(y_test, y_predLGBM), 3))\n",
        "print('Root Mean Squared Error: ', round(np.sqrt(metrics.mean_squared_error(y_test, y_predLGBM)), 3))\n",
        "print('R2 score: ', round(r2_score(y_test, y_predLGBM), 3))"
      ],
      "execution_count": null,
      "outputs": [
        {
          "output_type": "stream",
          "text": [
            "Mean Absolute Error:  468096.787\n",
            "Mean Squared Error:  448422407622.148\n",
            "Root Mean Squared Error:  669643.493\n",
            "R2 score:  0.791\n"
          ],
          "name": "stdout"
        }
      ]
    },
    {
      "cell_type": "code",
      "metadata": {
        "colab": {
          "base_uri": "https://localhost:8080/"
        },
        "id": "kvcmd0wZRmnS",
        "outputId": "b9c30d8c-330c-4e14-e0ba-83989f0ea038"
      },
      "source": [
        "evaluate(lgbm, X_train_scaled, y_train, 'train')\n",
        "evaluate(lgbm, X_test_scaled, y_test, 'test')"
      ],
      "execution_count": null,
      "outputs": [
        {
          "output_type": "stream",
          "text": [
            "Model Train Performance\n",
            "Accuracy = 84.72%.\n",
            "Model Test Performance\n",
            "Accuracy = 72.57%.\n"
          ],
          "name": "stdout"
        }
      ]
    },
    {
      "cell_type": "code",
      "metadata": {
        "id": "iVPklZVZOtHm"
      },
      "source": [
        "# save the lgbm regressor model\n",
        "pickle.dump(lgbm, open('lgbmregressor_model.pkl', 'wb'))\n",
        "# copy to drive\n",
        "! cp '/content/lgbmregressor_model.pkl' '/content/drive/MyDrive/models_features-fuel&color_scaled'"
      ],
      "execution_count": null,
      "outputs": []
    },
    {
      "cell_type": "markdown",
      "metadata": {
        "id": "MhXnILlH4ITr"
      },
      "source": [
        "######**CATBOOST REGRESSOR**"
      ]
    },
    {
      "cell_type": "code",
      "metadata": {
        "colab": {
          "base_uri": "https://localhost:8080/"
        },
        "id": "1RMDWUbeynBr",
        "outputId": "4ffcf4ac-0c13-4205-b11f-69f8a179a1b4"
      },
      "source": [
        "# to find the best parameters for catboost\n",
        "from sklearn.model_selection import GridSearchCV\n",
        "model = CatBoostRegressor()\n",
        "parameters = {'depth'         : [6,8,10,12,14,16,18,20],\n",
        "              'learning_rate' : [0.01, 0.05, 0.1, 0.5, 1],\n",
        "              'iterations'    : [30, 50, 100]\n",
        "              }\n",
        "grid = GridSearchCV(model, parameters, cv = 2, n_jobs=-1)\n",
        "gs = grid.fit(X_train_scaled, y_train)    \n",
        "\n",
        "# Results from Grid Search\n",
        "print(\"\\n========================================================\")\n",
        "print(\" Results from Grid Search \" )\n",
        "print(\"========================================================\")    \n",
        "    \n",
        "print(\"\\n The best estimator across ALL searched params:\\n\",\n",
        "          gs.best_estimator_)\n",
        "    \n",
        "print(\"\\n The best score across ALL searched params:\\n\",\n",
        "          gs.best_score_)\n",
        "    \n",
        "print(\"\\n The best parameters across ALL searched params:\\n\",\n",
        "          gs.best_params_)"
      ],
      "execution_count": null,
      "outputs": [
        {
          "output_type": "stream",
          "text": [
            "/usr/local/lib/python3.7/dist-packages/joblib/externals/loky/process_executor.py:691: UserWarning: A worker stopped while some jobs were given to the executor. This can be caused by a too short worker timeout or by a memory leak.\n",
            "  \"timeout or by a memory leak.\", UserWarning\n"
          ],
          "name": "stderr"
        },
        {
          "output_type": "stream",
          "text": [
            "0:\tlearn: 1232216.0693707\ttotal: 60.3ms\tremaining: 2.96s\n",
            "1:\tlearn: 1090019.9182493\ttotal: 62.1ms\tremaining: 1.49s\n",
            "2:\tlearn: 997860.8418371\ttotal: 65.8ms\tremaining: 1.03s\n",
            "3:\tlearn: 970605.2426200\ttotal: 69.3ms\tremaining: 797ms\n",
            "4:\tlearn: 920584.4621708\ttotal: 72.9ms\tremaining: 656ms\n",
            "5:\tlearn: 856391.1478283\ttotal: 76.5ms\tremaining: 561ms\n",
            "6:\tlearn: 839196.3777955\ttotal: 79.9ms\tremaining: 491ms\n",
            "7:\tlearn: 810699.8755751\ttotal: 83.4ms\tremaining: 438ms\n",
            "8:\tlearn: 797706.8159678\ttotal: 88.4ms\tremaining: 403ms\n",
            "9:\tlearn: 792037.1273157\ttotal: 90.6ms\tremaining: 362ms\n",
            "10:\tlearn: 778037.1598854\ttotal: 93.5ms\tremaining: 332ms\n",
            "11:\tlearn: 771648.8350234\ttotal: 97.1ms\tremaining: 308ms\n",
            "12:\tlearn: 764260.9890579\ttotal: 101ms\tremaining: 287ms\n",
            "13:\tlearn: 752339.9146515\ttotal: 104ms\tremaining: 268ms\n",
            "14:\tlearn: 746377.8341925\ttotal: 108ms\tremaining: 251ms\n",
            "15:\tlearn: 741545.4527722\ttotal: 111ms\tremaining: 237ms\n",
            "16:\tlearn: 737654.4836352\ttotal: 115ms\tremaining: 223ms\n",
            "17:\tlearn: 725161.8233647\ttotal: 119ms\tremaining: 211ms\n",
            "18:\tlearn: 720954.4100689\ttotal: 122ms\tremaining: 199ms\n",
            "19:\tlearn: 705512.8332290\ttotal: 125ms\tremaining: 188ms\n",
            "20:\tlearn: 690059.6111702\ttotal: 129ms\tremaining: 178ms\n",
            "21:\tlearn: 682144.4737733\ttotal: 132ms\tremaining: 169ms\n",
            "22:\tlearn: 679880.9589168\ttotal: 136ms\tremaining: 160ms\n",
            "23:\tlearn: 678271.0638715\ttotal: 140ms\tremaining: 151ms\n",
            "24:\tlearn: 673338.1863301\ttotal: 143ms\tremaining: 143ms\n",
            "25:\tlearn: 671662.9243830\ttotal: 146ms\tremaining: 135ms\n",
            "26:\tlearn: 670071.5426183\ttotal: 149ms\tremaining: 127ms\n",
            "27:\tlearn: 663191.8710640\ttotal: 153ms\tremaining: 120ms\n",
            "28:\tlearn: 661658.2085161\ttotal: 156ms\tremaining: 113ms\n",
            "29:\tlearn: 659698.2593183\ttotal: 159ms\tremaining: 106ms\n",
            "30:\tlearn: 651747.2866704\ttotal: 163ms\tremaining: 99.7ms\n",
            "31:\tlearn: 643552.5159007\ttotal: 166ms\tremaining: 93.5ms\n",
            "32:\tlearn: 639412.5702374\ttotal: 170ms\tremaining: 87.5ms\n",
            "33:\tlearn: 633001.8277297\ttotal: 173ms\tremaining: 81.6ms\n",
            "34:\tlearn: 629080.5584870\ttotal: 177ms\tremaining: 75.8ms\n",
            "35:\tlearn: 623019.3413384\ttotal: 180ms\tremaining: 70.2ms\n",
            "36:\tlearn: 620169.0213277\ttotal: 184ms\tremaining: 64.6ms\n",
            "37:\tlearn: 612201.1921389\ttotal: 187ms\tremaining: 59.2ms\n",
            "38:\tlearn: 605066.0528952\ttotal: 191ms\tremaining: 53.9ms\n",
            "39:\tlearn: 600393.1766823\ttotal: 194ms\tremaining: 48.6ms\n",
            "40:\tlearn: 596954.6150528\ttotal: 198ms\tremaining: 43.5ms\n",
            "41:\tlearn: 593900.8963927\ttotal: 201ms\tremaining: 38.3ms\n",
            "42:\tlearn: 588797.2472941\ttotal: 205ms\tremaining: 33.3ms\n",
            "43:\tlearn: 584527.8283105\ttotal: 208ms\tremaining: 28.4ms\n",
            "44:\tlearn: 581747.6658082\ttotal: 212ms\tremaining: 23.5ms\n",
            "45:\tlearn: 580497.5192169\ttotal: 215ms\tremaining: 18.7ms\n",
            "46:\tlearn: 575682.5020271\ttotal: 218ms\tremaining: 13.9ms\n",
            "47:\tlearn: 571563.8587406\ttotal: 222ms\tremaining: 9.25ms\n",
            "48:\tlearn: 569599.1344037\ttotal: 226ms\tremaining: 4.6ms\n",
            "49:\tlearn: 569293.5224752\ttotal: 229ms\tremaining: 0us\n",
            "\n",
            "========================================================\n",
            " Results from Grid Search \n",
            "========================================================\n",
            "\n",
            " The best estimator across ALL searched params:\n",
            " <catboost.core.CatBoostRegressor object at 0x7f70cc83b5d0>\n",
            "\n",
            " The best score across ALL searched params:\n",
            " 0.7048169025804091\n",
            "\n",
            " The best parameters across ALL searched params:\n",
            " {'depth': 6, 'iterations': 50, 'learning_rate': 0.5}\n"
          ],
          "name": "stdout"
        }
      ]
    },
    {
      "cell_type": "code",
      "metadata": {
        "colab": {
          "base_uri": "https://localhost:8080/"
        },
        "id": "KeleQz-lyJKT",
        "outputId": "d9b8a934-a380-4f8f-a46b-8cbbe644ca80"
      },
      "source": [
        "#using the best parameters gotten above\n",
        "cat_reg = CatBoostRegressor(depth=6, iterations=300, learning_rate=0.2, random_state=42)\n",
        "cat_reg.fit(X_train_scaled, y_train.ravel())"
      ],
      "execution_count": null,
      "outputs": [
        {
          "output_type": "stream",
          "text": [
            "0:\tlearn: 1414377.0300534\ttotal: 48.6ms\tremaining: 14.5s\n",
            "1:\tlearn: 1310440.7996106\ttotal: 50.2ms\tremaining: 7.48s\n",
            "2:\tlearn: 1224640.9751539\ttotal: 51.5ms\tremaining: 5.1s\n",
            "3:\tlearn: 1160193.3297610\ttotal: 53ms\tremaining: 3.92s\n",
            "4:\tlearn: 1106201.5551511\ttotal: 54.2ms\tremaining: 3.2s\n",
            "5:\tlearn: 1068787.4865654\ttotal: 55.6ms\tremaining: 2.72s\n",
            "6:\tlearn: 1016673.7570898\ttotal: 56.8ms\tremaining: 2.38s\n",
            "7:\tlearn: 982917.1013096\ttotal: 58.1ms\tremaining: 2.12s\n",
            "8:\tlearn: 954404.2554952\ttotal: 59.4ms\tremaining: 1.92s\n",
            "9:\tlearn: 938014.7095513\ttotal: 60.7ms\tremaining: 1.76s\n",
            "10:\tlearn: 919275.9070522\ttotal: 62.1ms\tremaining: 1.63s\n",
            "11:\tlearn: 897963.0274123\ttotal: 63.5ms\tremaining: 1.52s\n",
            "12:\tlearn: 889505.2158141\ttotal: 64.9ms\tremaining: 1.43s\n",
            "13:\tlearn: 880868.0449003\ttotal: 66.1ms\tremaining: 1.35s\n",
            "14:\tlearn: 870347.7691667\ttotal: 67.5ms\tremaining: 1.28s\n",
            "15:\tlearn: 852093.7590971\ttotal: 69.2ms\tremaining: 1.23s\n",
            "16:\tlearn: 846423.1482442\ttotal: 70.6ms\tremaining: 1.17s\n",
            "17:\tlearn: 837840.6412946\ttotal: 72.3ms\tremaining: 1.13s\n",
            "18:\tlearn: 827280.0683397\ttotal: 73.7ms\tremaining: 1.09s\n",
            "19:\tlearn: 820606.2408537\ttotal: 75.1ms\tremaining: 1.05s\n",
            "20:\tlearn: 810237.3396118\ttotal: 76.4ms\tremaining: 1.01s\n",
            "21:\tlearn: 805094.1544528\ttotal: 77.8ms\tremaining: 984ms\n",
            "22:\tlearn: 797263.8983803\ttotal: 79.2ms\tremaining: 954ms\n",
            "23:\tlearn: 792276.1615269\ttotal: 80.5ms\tremaining: 926ms\n",
            "24:\tlearn: 788779.2442122\ttotal: 81.8ms\tremaining: 900ms\n",
            "25:\tlearn: 784663.3184443\ttotal: 83.1ms\tremaining: 876ms\n",
            "26:\tlearn: 775359.9839514\ttotal: 84.6ms\tremaining: 856ms\n",
            "27:\tlearn: 770434.9945422\ttotal: 85.9ms\tremaining: 834ms\n",
            "28:\tlearn: 765519.1835912\ttotal: 87.1ms\tremaining: 814ms\n",
            "29:\tlearn: 762720.8955975\ttotal: 88.5ms\tremaining: 797ms\n",
            "30:\tlearn: 759856.6121862\ttotal: 89.9ms\tremaining: 780ms\n",
            "31:\tlearn: 757150.2791918\ttotal: 91.2ms\tremaining: 764ms\n",
            "32:\tlearn: 752720.8002812\ttotal: 92.7ms\tremaining: 750ms\n",
            "33:\tlearn: 750117.7252527\ttotal: 93.9ms\tremaining: 735ms\n",
            "34:\tlearn: 746344.1975977\ttotal: 95.4ms\tremaining: 722ms\n",
            "35:\tlearn: 743315.8872065\ttotal: 96.7ms\tremaining: 709ms\n",
            "36:\tlearn: 737050.5422798\ttotal: 98.1ms\tremaining: 698ms\n",
            "37:\tlearn: 731444.9186384\ttotal: 99.6ms\tremaining: 686ms\n",
            "38:\tlearn: 731073.0722764\ttotal: 101ms\tremaining: 675ms\n",
            "39:\tlearn: 727122.4075679\ttotal: 102ms\tremaining: 664ms\n",
            "40:\tlearn: 724240.0921891\ttotal: 103ms\tremaining: 654ms\n",
            "41:\tlearn: 721493.6771888\ttotal: 105ms\tremaining: 644ms\n",
            "42:\tlearn: 717993.8167504\ttotal: 106ms\tremaining: 634ms\n",
            "43:\tlearn: 717672.2719894\ttotal: 107ms\tremaining: 624ms\n",
            "44:\tlearn: 715787.0341287\ttotal: 109ms\tremaining: 617ms\n",
            "45:\tlearn: 711460.0954065\ttotal: 110ms\tremaining: 609ms\n",
            "46:\tlearn: 704072.7452234\ttotal: 112ms\tremaining: 601ms\n",
            "47:\tlearn: 702936.6868253\ttotal: 113ms\tremaining: 594ms\n",
            "48:\tlearn: 699374.7835451\ttotal: 114ms\tremaining: 586ms\n",
            "49:\tlearn: 698726.2633930\ttotal: 116ms\tremaining: 578ms\n",
            "50:\tlearn: 698525.1647809\ttotal: 117ms\tremaining: 571ms\n",
            "51:\tlearn: 694859.3468736\ttotal: 118ms\tremaining: 564ms\n",
            "52:\tlearn: 693724.7476843\ttotal: 120ms\tremaining: 558ms\n",
            "53:\tlearn: 693317.5195906\ttotal: 121ms\tremaining: 551ms\n",
            "54:\tlearn: 692579.1782184\ttotal: 122ms\tremaining: 544ms\n",
            "55:\tlearn: 687963.6769890\ttotal: 123ms\tremaining: 538ms\n",
            "56:\tlearn: 686958.3438053\ttotal: 125ms\tremaining: 532ms\n",
            "57:\tlearn: 681641.5769014\ttotal: 126ms\tremaining: 526ms\n",
            "58:\tlearn: 678650.8466376\ttotal: 128ms\tremaining: 521ms\n",
            "59:\tlearn: 676091.0430122\ttotal: 129ms\tremaining: 516ms\n",
            "60:\tlearn: 671881.0881990\ttotal: 130ms\tremaining: 511ms\n",
            "61:\tlearn: 668591.6205984\ttotal: 132ms\tremaining: 505ms\n",
            "62:\tlearn: 665045.3407156\ttotal: 133ms\tremaining: 500ms\n",
            "63:\tlearn: 661026.1682777\ttotal: 134ms\tremaining: 496ms\n",
            "64:\tlearn: 660847.4483032\ttotal: 136ms\tremaining: 491ms\n",
            "65:\tlearn: 657538.1704393\ttotal: 137ms\tremaining: 486ms\n",
            "66:\tlearn: 654949.9721700\ttotal: 138ms\tremaining: 481ms\n",
            "67:\tlearn: 650598.2366439\ttotal: 140ms\tremaining: 477ms\n",
            "68:\tlearn: 648148.7924335\ttotal: 141ms\tremaining: 472ms\n",
            "69:\tlearn: 645031.7209724\ttotal: 142ms\tremaining: 467ms\n",
            "70:\tlearn: 643344.2940376\ttotal: 144ms\tremaining: 463ms\n",
            "71:\tlearn: 642716.9043767\ttotal: 145ms\tremaining: 459ms\n",
            "72:\tlearn: 642200.5580151\ttotal: 146ms\tremaining: 455ms\n",
            "73:\tlearn: 638314.9252368\ttotal: 148ms\tremaining: 451ms\n",
            "74:\tlearn: 636221.5070890\ttotal: 149ms\tremaining: 447ms\n",
            "75:\tlearn: 635521.7805531\ttotal: 150ms\tremaining: 443ms\n",
            "76:\tlearn: 635384.1184435\ttotal: 152ms\tremaining: 439ms\n",
            "77:\tlearn: 633640.9964722\ttotal: 153ms\tremaining: 435ms\n",
            "78:\tlearn: 631624.6446474\ttotal: 154ms\tremaining: 431ms\n",
            "79:\tlearn: 631391.8119657\ttotal: 155ms\tremaining: 428ms\n",
            "80:\tlearn: 630977.1934703\ttotal: 157ms\tremaining: 424ms\n",
            "81:\tlearn: 629883.6418051\ttotal: 158ms\tremaining: 420ms\n",
            "82:\tlearn: 628058.1174039\ttotal: 159ms\tremaining: 417ms\n",
            "83:\tlearn: 626770.7251466\ttotal: 161ms\tremaining: 413ms\n",
            "84:\tlearn: 625417.0491945\ttotal: 162ms\tremaining: 410ms\n",
            "85:\tlearn: 622258.9406426\ttotal: 163ms\tremaining: 406ms\n",
            "86:\tlearn: 620029.6927287\ttotal: 165ms\tremaining: 403ms\n",
            "87:\tlearn: 616671.6155981\ttotal: 166ms\tremaining: 400ms\n",
            "88:\tlearn: 615759.6359411\ttotal: 167ms\tremaining: 397ms\n",
            "89:\tlearn: 614258.0816745\ttotal: 169ms\tremaining: 394ms\n",
            "90:\tlearn: 611198.1110914\ttotal: 170ms\tremaining: 391ms\n",
            "91:\tlearn: 609629.4570624\ttotal: 172ms\tremaining: 388ms\n",
            "92:\tlearn: 607907.2775551\ttotal: 173ms\tremaining: 385ms\n",
            "93:\tlearn: 605478.8422823\ttotal: 174ms\tremaining: 382ms\n",
            "94:\tlearn: 603155.0904391\ttotal: 176ms\tremaining: 380ms\n",
            "95:\tlearn: 602324.8204573\ttotal: 177ms\tremaining: 377ms\n",
            "96:\tlearn: 602252.5997396\ttotal: 178ms\tremaining: 373ms\n",
            "97:\tlearn: 600156.6985601\ttotal: 180ms\tremaining: 371ms\n",
            "98:\tlearn: 598552.3396090\ttotal: 182ms\tremaining: 369ms\n",
            "99:\tlearn: 597937.4301885\ttotal: 183ms\tremaining: 366ms\n",
            "100:\tlearn: 596780.1840877\ttotal: 184ms\tremaining: 363ms\n",
            "101:\tlearn: 595294.1496578\ttotal: 186ms\tremaining: 360ms\n",
            "102:\tlearn: 593504.3202590\ttotal: 187ms\tremaining: 358ms\n",
            "103:\tlearn: 592157.4123737\ttotal: 188ms\tremaining: 355ms\n",
            "104:\tlearn: 590995.6100529\ttotal: 190ms\tremaining: 353ms\n",
            "105:\tlearn: 588467.1336014\ttotal: 192ms\tremaining: 352ms\n",
            "106:\tlearn: 587368.6480921\ttotal: 193ms\tremaining: 349ms\n",
            "107:\tlearn: 585086.2464917\ttotal: 195ms\tremaining: 346ms\n",
            "108:\tlearn: 581760.0005666\ttotal: 196ms\tremaining: 344ms\n",
            "109:\tlearn: 580418.6639761\ttotal: 197ms\tremaining: 341ms\n",
            "110:\tlearn: 578469.3251133\ttotal: 199ms\tremaining: 338ms\n",
            "111:\tlearn: 577713.1763831\ttotal: 200ms\tremaining: 336ms\n",
            "112:\tlearn: 577182.5843692\ttotal: 201ms\tremaining: 333ms\n",
            "113:\tlearn: 575714.9849817\ttotal: 203ms\tremaining: 331ms\n",
            "114:\tlearn: 574718.6018354\ttotal: 204ms\tremaining: 328ms\n",
            "115:\tlearn: 574199.1607954\ttotal: 205ms\tremaining: 326ms\n",
            "116:\tlearn: 573145.8902197\ttotal: 207ms\tremaining: 323ms\n",
            "117:\tlearn: 571495.0964842\ttotal: 208ms\tremaining: 321ms\n",
            "118:\tlearn: 570742.0951596\ttotal: 209ms\tremaining: 318ms\n",
            "119:\tlearn: 569573.7236424\ttotal: 211ms\tremaining: 316ms\n",
            "120:\tlearn: 568334.6458755\ttotal: 212ms\tremaining: 314ms\n",
            "121:\tlearn: 567744.9602808\ttotal: 213ms\tremaining: 311ms\n",
            "122:\tlearn: 566236.1663371\ttotal: 215ms\tremaining: 309ms\n",
            "123:\tlearn: 564205.9738702\ttotal: 216ms\tremaining: 307ms\n",
            "124:\tlearn: 563834.1491529\ttotal: 217ms\tremaining: 304ms\n",
            "125:\tlearn: 562397.3637865\ttotal: 219ms\tremaining: 302ms\n",
            "126:\tlearn: 560889.9405285\ttotal: 220ms\tremaining: 300ms\n",
            "127:\tlearn: 560007.4755163\ttotal: 221ms\tremaining: 298ms\n",
            "128:\tlearn: 559203.9120745\ttotal: 223ms\tremaining: 296ms\n",
            "129:\tlearn: 558344.9898689\ttotal: 224ms\tremaining: 293ms\n",
            "130:\tlearn: 557595.0160081\ttotal: 226ms\tremaining: 291ms\n",
            "131:\tlearn: 556437.8164819\ttotal: 227ms\tremaining: 289ms\n",
            "132:\tlearn: 554742.6972629\ttotal: 233ms\tremaining: 293ms\n",
            "133:\tlearn: 553442.8012218\ttotal: 236ms\tremaining: 292ms\n",
            "134:\tlearn: 552099.2108129\ttotal: 239ms\tremaining: 292ms\n",
            "135:\tlearn: 550447.6698052\ttotal: 240ms\tremaining: 289ms\n",
            "136:\tlearn: 549047.4395928\ttotal: 241ms\tremaining: 287ms\n",
            "137:\tlearn: 546867.7762236\ttotal: 243ms\tremaining: 285ms\n",
            "138:\tlearn: 545899.4776102\ttotal: 244ms\tremaining: 283ms\n",
            "139:\tlearn: 544691.5424766\ttotal: 246ms\tremaining: 281ms\n",
            "140:\tlearn: 543678.0812565\ttotal: 247ms\tremaining: 279ms\n",
            "141:\tlearn: 541035.1608931\ttotal: 249ms\tremaining: 277ms\n",
            "142:\tlearn: 539884.8733072\ttotal: 250ms\tremaining: 275ms\n",
            "143:\tlearn: 539707.4561681\ttotal: 251ms\tremaining: 272ms\n",
            "144:\tlearn: 538143.6142979\ttotal: 253ms\tremaining: 270ms\n",
            "145:\tlearn: 537660.7267087\ttotal: 254ms\tremaining: 268ms\n",
            "146:\tlearn: 536175.0529886\ttotal: 256ms\tremaining: 266ms\n",
            "147:\tlearn: 536059.9375981\ttotal: 257ms\tremaining: 264ms\n",
            "148:\tlearn: 535765.0361081\ttotal: 258ms\tremaining: 262ms\n",
            "149:\tlearn: 534282.7443851\ttotal: 259ms\tremaining: 259ms\n",
            "150:\tlearn: 532937.2375838\ttotal: 261ms\tremaining: 257ms\n",
            "151:\tlearn: 532166.4654841\ttotal: 262ms\tremaining: 255ms\n",
            "152:\tlearn: 531386.9456681\ttotal: 264ms\tremaining: 253ms\n",
            "153:\tlearn: 530246.4752836\ttotal: 265ms\tremaining: 251ms\n",
            "154:\tlearn: 529784.2573544\ttotal: 266ms\tremaining: 249ms\n",
            "155:\tlearn: 529300.9190653\ttotal: 268ms\tremaining: 247ms\n",
            "156:\tlearn: 528192.8581818\ttotal: 269ms\tremaining: 245ms\n",
            "157:\tlearn: 527383.1606501\ttotal: 270ms\tremaining: 243ms\n",
            "158:\tlearn: 527118.4006004\ttotal: 272ms\tremaining: 241ms\n",
            "159:\tlearn: 525088.8025802\ttotal: 273ms\tremaining: 239ms\n",
            "160:\tlearn: 524277.2395021\ttotal: 274ms\tremaining: 237ms\n",
            "161:\tlearn: 522852.6815499\ttotal: 276ms\tremaining: 235ms\n",
            "162:\tlearn: 522622.7541817\ttotal: 277ms\tremaining: 233ms\n",
            "163:\tlearn: 521049.9050811\ttotal: 278ms\tremaining: 231ms\n",
            "164:\tlearn: 520447.2877023\ttotal: 280ms\tremaining: 229ms\n",
            "165:\tlearn: 519476.8548032\ttotal: 281ms\tremaining: 227ms\n",
            "166:\tlearn: 518064.2498487\ttotal: 282ms\tremaining: 225ms\n",
            "167:\tlearn: 517672.7894169\ttotal: 283ms\tremaining: 223ms\n",
            "168:\tlearn: 516438.3751612\ttotal: 285ms\tremaining: 221ms\n",
            "169:\tlearn: 515320.5106454\ttotal: 286ms\tremaining: 219ms\n",
            "170:\tlearn: 514078.3846650\ttotal: 288ms\tremaining: 217ms\n",
            "171:\tlearn: 513028.4693096\ttotal: 289ms\tremaining: 215ms\n",
            "172:\tlearn: 511920.2454014\ttotal: 291ms\tremaining: 213ms\n",
            "173:\tlearn: 511158.4834872\ttotal: 292ms\tremaining: 212ms\n",
            "174:\tlearn: 509712.4146230\ttotal: 293ms\tremaining: 210ms\n",
            "175:\tlearn: 508906.4101863\ttotal: 295ms\tremaining: 208ms\n",
            "176:\tlearn: 507855.1025023\ttotal: 296ms\tremaining: 206ms\n",
            "177:\tlearn: 507515.3465485\ttotal: 298ms\tremaining: 204ms\n",
            "178:\tlearn: 506761.5181707\ttotal: 299ms\tremaining: 202ms\n",
            "179:\tlearn: 505243.3201516\ttotal: 300ms\tremaining: 200ms\n",
            "180:\tlearn: 504554.3157292\ttotal: 301ms\tremaining: 198ms\n",
            "181:\tlearn: 503640.3179293\ttotal: 303ms\tremaining: 197ms\n",
            "182:\tlearn: 502263.5347409\ttotal: 305ms\tremaining: 195ms\n",
            "183:\tlearn: 501175.8516059\ttotal: 306ms\tremaining: 193ms\n",
            "184:\tlearn: 500322.9294441\ttotal: 307ms\tremaining: 191ms\n",
            "185:\tlearn: 499750.7918856\ttotal: 309ms\tremaining: 189ms\n",
            "186:\tlearn: 498627.2452713\ttotal: 310ms\tremaining: 187ms\n",
            "187:\tlearn: 498066.5351442\ttotal: 311ms\tremaining: 185ms\n",
            "188:\tlearn: 497925.8085433\ttotal: 313ms\tremaining: 184ms\n",
            "189:\tlearn: 496846.9738899\ttotal: 314ms\tremaining: 182ms\n",
            "190:\tlearn: 496009.3254444\ttotal: 315ms\tremaining: 180ms\n",
            "191:\tlearn: 495704.2976037\ttotal: 317ms\tremaining: 178ms\n",
            "192:\tlearn: 494313.1347954\ttotal: 318ms\tremaining: 176ms\n",
            "193:\tlearn: 493828.9439770\ttotal: 320ms\tremaining: 175ms\n",
            "194:\tlearn: 492798.2332511\ttotal: 321ms\tremaining: 173ms\n",
            "195:\tlearn: 491945.0221835\ttotal: 323ms\tremaining: 171ms\n",
            "196:\tlearn: 490985.9482401\ttotal: 324ms\tremaining: 170ms\n",
            "197:\tlearn: 490243.6360445\ttotal: 326ms\tremaining: 168ms\n",
            "198:\tlearn: 489447.3014986\ttotal: 328ms\tremaining: 166ms\n",
            "199:\tlearn: 489091.6580417\ttotal: 329ms\tremaining: 164ms\n",
            "200:\tlearn: 488679.3482135\ttotal: 330ms\tremaining: 163ms\n",
            "201:\tlearn: 487593.3468518\ttotal: 332ms\tremaining: 161ms\n",
            "202:\tlearn: 487091.6283825\ttotal: 333ms\tremaining: 159ms\n",
            "203:\tlearn: 486020.8867158\ttotal: 334ms\tremaining: 157ms\n",
            "204:\tlearn: 484078.0251577\ttotal: 336ms\tremaining: 155ms\n",
            "205:\tlearn: 483316.6524305\ttotal: 337ms\tremaining: 154ms\n",
            "206:\tlearn: 481907.3742055\ttotal: 338ms\tremaining: 152ms\n",
            "207:\tlearn: 480918.5845323\ttotal: 340ms\tremaining: 150ms\n",
            "208:\tlearn: 480354.1756102\ttotal: 341ms\tremaining: 149ms\n",
            "209:\tlearn: 479504.4553680\ttotal: 343ms\tremaining: 147ms\n",
            "210:\tlearn: 478565.0340959\ttotal: 344ms\tremaining: 145ms\n",
            "211:\tlearn: 478292.6478641\ttotal: 346ms\tremaining: 144ms\n",
            "212:\tlearn: 478113.8709139\ttotal: 347ms\tremaining: 142ms\n",
            "213:\tlearn: 478081.8520598\ttotal: 349ms\tremaining: 140ms\n",
            "214:\tlearn: 478058.3225066\ttotal: 350ms\tremaining: 138ms\n",
            "215:\tlearn: 476642.0914839\ttotal: 351ms\tremaining: 137ms\n",
            "216:\tlearn: 475822.9244695\ttotal: 353ms\tremaining: 135ms\n",
            "217:\tlearn: 474946.5754316\ttotal: 354ms\tremaining: 133ms\n",
            "218:\tlearn: 474279.0123363\ttotal: 355ms\tremaining: 131ms\n",
            "219:\tlearn: 472926.3498031\ttotal: 357ms\tremaining: 130ms\n",
            "220:\tlearn: 471693.8997737\ttotal: 358ms\tremaining: 128ms\n",
            "221:\tlearn: 470700.8927568\ttotal: 360ms\tremaining: 126ms\n",
            "222:\tlearn: 469686.9807807\ttotal: 361ms\tremaining: 125ms\n",
            "223:\tlearn: 468745.0870763\ttotal: 362ms\tremaining: 123ms\n",
            "224:\tlearn: 467586.7328588\ttotal: 364ms\tremaining: 121ms\n",
            "225:\tlearn: 466906.8511091\ttotal: 365ms\tremaining: 119ms\n",
            "226:\tlearn: 466336.9921420\ttotal: 368ms\tremaining: 118ms\n",
            "227:\tlearn: 466128.7014397\ttotal: 372ms\tremaining: 117ms\n",
            "228:\tlearn: 464742.9682621\ttotal: 373ms\tremaining: 116ms\n",
            "229:\tlearn: 464291.4605335\ttotal: 375ms\tremaining: 114ms\n",
            "230:\tlearn: 463656.9047293\ttotal: 376ms\tremaining: 112ms\n",
            "231:\tlearn: 463121.5713315\ttotal: 378ms\tremaining: 111ms\n",
            "232:\tlearn: 462609.1973226\ttotal: 379ms\tremaining: 109ms\n",
            "233:\tlearn: 462191.8826933\ttotal: 380ms\tremaining: 107ms\n",
            "234:\tlearn: 461079.2302159\ttotal: 382ms\tremaining: 106ms\n",
            "235:\tlearn: 459947.0045762\ttotal: 383ms\tremaining: 104ms\n",
            "236:\tlearn: 459613.7019180\ttotal: 385ms\tremaining: 102ms\n",
            "237:\tlearn: 459437.8956252\ttotal: 386ms\tremaining: 101ms\n",
            "238:\tlearn: 457948.5631161\ttotal: 388ms\tremaining: 99ms\n",
            "239:\tlearn: 457126.7409422\ttotal: 389ms\tremaining: 97.3ms\n",
            "240:\tlearn: 456340.6877073\ttotal: 391ms\tremaining: 95.7ms\n",
            "241:\tlearn: 455716.5273850\ttotal: 392ms\tremaining: 94ms\n",
            "242:\tlearn: 453950.7608064\ttotal: 394ms\tremaining: 92.3ms\n",
            "243:\tlearn: 453222.8812001\ttotal: 395ms\tremaining: 90.7ms\n",
            "244:\tlearn: 452604.4014837\ttotal: 397ms\tremaining: 89ms\n",
            "245:\tlearn: 451816.3945998\ttotal: 398ms\tremaining: 87.3ms\n",
            "246:\tlearn: 450542.1502527\ttotal: 399ms\tremaining: 85.7ms\n",
            "247:\tlearn: 449814.8193782\ttotal: 401ms\tremaining: 84ms\n",
            "248:\tlearn: 448242.8214567\ttotal: 402ms\tremaining: 82.3ms\n",
            "249:\tlearn: 447928.3831656\ttotal: 403ms\tremaining: 80.7ms\n",
            "250:\tlearn: 447494.4914824\ttotal: 405ms\tremaining: 79.1ms\n",
            "251:\tlearn: 446414.3020374\ttotal: 407ms\tremaining: 77.5ms\n",
            "252:\tlearn: 445828.0810395\ttotal: 408ms\tremaining: 75.8ms\n",
            "253:\tlearn: 445287.0243814\ttotal: 410ms\tremaining: 74.2ms\n",
            "254:\tlearn: 444391.2849175\ttotal: 411ms\tremaining: 72.6ms\n",
            "255:\tlearn: 444069.8010114\ttotal: 413ms\tremaining: 70.9ms\n",
            "256:\tlearn: 442968.7889081\ttotal: 414ms\tremaining: 69.3ms\n",
            "257:\tlearn: 442301.7088567\ttotal: 416ms\tremaining: 67.8ms\n",
            "258:\tlearn: 441959.2524444\ttotal: 419ms\tremaining: 66.4ms\n",
            "259:\tlearn: 441222.6131651\ttotal: 422ms\tremaining: 65ms\n",
            "260:\tlearn: 440350.1479897\ttotal: 424ms\tremaining: 63.4ms\n",
            "261:\tlearn: 440010.1383327\ttotal: 426ms\tremaining: 61.7ms\n",
            "262:\tlearn: 439047.7809633\ttotal: 427ms\tremaining: 60.1ms\n",
            "263:\tlearn: 438531.5137055\ttotal: 428ms\tremaining: 58.4ms\n",
            "264:\tlearn: 437818.5431227\ttotal: 430ms\tremaining: 56.8ms\n",
            "265:\tlearn: 437721.0155692\ttotal: 431ms\tremaining: 55.1ms\n",
            "266:\tlearn: 436765.5620588\ttotal: 433ms\tremaining: 53.5ms\n",
            "267:\tlearn: 435952.5056785\ttotal: 434ms\tremaining: 51.8ms\n",
            "268:\tlearn: 435418.6600309\ttotal: 435ms\tremaining: 50.2ms\n",
            "269:\tlearn: 434641.0342119\ttotal: 437ms\tremaining: 48.5ms\n",
            "270:\tlearn: 433824.3334089\ttotal: 438ms\tremaining: 46.9ms\n",
            "271:\tlearn: 433233.4304909\ttotal: 440ms\tremaining: 45.3ms\n",
            "272:\tlearn: 432953.7547220\ttotal: 441ms\tremaining: 43.6ms\n",
            "273:\tlearn: 432529.3950447\ttotal: 443ms\tremaining: 42ms\n",
            "274:\tlearn: 431564.8055173\ttotal: 444ms\tremaining: 40.4ms\n",
            "275:\tlearn: 431538.3859104\ttotal: 445ms\tremaining: 38.7ms\n",
            "276:\tlearn: 431311.6379103\ttotal: 447ms\tremaining: 37.1ms\n",
            "277:\tlearn: 430385.6587306\ttotal: 448ms\tremaining: 35.5ms\n",
            "278:\tlearn: 429722.6474935\ttotal: 449ms\tremaining: 33.8ms\n",
            "279:\tlearn: 429701.8153862\ttotal: 451ms\tremaining: 32.2ms\n",
            "280:\tlearn: 429191.0016645\ttotal: 452ms\tremaining: 30.6ms\n",
            "281:\tlearn: 429178.9054648\ttotal: 453ms\tremaining: 28.9ms\n",
            "282:\tlearn: 429168.9832302\ttotal: 454ms\tremaining: 27.3ms\n",
            "283:\tlearn: 428477.1236833\ttotal: 456ms\tremaining: 25.7ms\n",
            "284:\tlearn: 427905.0879755\ttotal: 457ms\tremaining: 24.1ms\n",
            "285:\tlearn: 426806.7699137\ttotal: 458ms\tremaining: 22.4ms\n",
            "286:\tlearn: 425943.7687719\ttotal: 460ms\tremaining: 20.8ms\n",
            "287:\tlearn: 425295.5272003\ttotal: 461ms\tremaining: 19.2ms\n",
            "288:\tlearn: 424573.9871051\ttotal: 463ms\tremaining: 17.6ms\n",
            "289:\tlearn: 424529.5283567\ttotal: 464ms\tremaining: 16ms\n",
            "290:\tlearn: 424518.9823762\ttotal: 465ms\tremaining: 14.4ms\n",
            "291:\tlearn: 423903.2271967\ttotal: 467ms\tremaining: 12.8ms\n",
            "292:\tlearn: 423270.2798038\ttotal: 468ms\tremaining: 11.2ms\n",
            "293:\tlearn: 422877.9742231\ttotal: 470ms\tremaining: 9.58ms\n",
            "294:\tlearn: 422332.9913542\ttotal: 471ms\tremaining: 7.98ms\n",
            "295:\tlearn: 422088.8025598\ttotal: 472ms\tremaining: 6.38ms\n",
            "296:\tlearn: 421623.4100832\ttotal: 474ms\tremaining: 4.79ms\n",
            "297:\tlearn: 420936.5404076\ttotal: 475ms\tremaining: 3.19ms\n",
            "298:\tlearn: 420174.9862087\ttotal: 477ms\tremaining: 1.59ms\n",
            "299:\tlearn: 419744.6517684\ttotal: 478ms\tremaining: 0us\n"
          ],
          "name": "stdout"
        },
        {
          "output_type": "execute_result",
          "data": {
            "text/plain": [
              "<catboost.core.CatBoostRegressor at 0x7f7075948990>"
            ]
          },
          "metadata": {
            "tags": []
          },
          "execution_count": 213
        }
      ]
    },
    {
      "cell_type": "code",
      "metadata": {
        "id": "LyP35zUy4gW4"
      },
      "source": [
        "y_predCAT = cat_reg.predict(X_test_scaled)"
      ],
      "execution_count": null,
      "outputs": []
    },
    {
      "cell_type": "code",
      "metadata": {
        "colab": {
          "base_uri": "https://localhost:8080/"
        },
        "id": "m1teij0RXR4D",
        "outputId": "f3763ae2-152c-4c97-a4a0-7444f1e1b955"
      },
      "source": [
        "print('Mean Absolute Error: ', round(metrics.mean_absolute_error(y_test, y_predCAT), 3))\n",
        "print('Mean Squared Error: ', round(metrics.mean_squared_error(y_test, y_predCAT), 3))\n",
        "print('Root Mean Squared Error: ', round(np.sqrt(metrics.mean_squared_error(y_test, y_predCAT)), 3))\n",
        "print('R2 score: ', round(r2_score(y_test, y_predCAT), 3))"
      ],
      "execution_count": null,
      "outputs": [
        {
          "output_type": "stream",
          "text": [
            "Mean Absolute Error:  464096.467\n",
            "Mean Squared Error:  431175020118.931\n",
            "Root Mean Squared Error:  656639.186\n",
            "R2 score:  0.799\n"
          ],
          "name": "stdout"
        }
      ]
    },
    {
      "cell_type": "code",
      "metadata": {
        "colab": {
          "base_uri": "https://localhost:8080/"
        },
        "id": "5EMWrB1cW3-a",
        "outputId": "59a569f4-ba02-4ae3-b219-e9ba84088d07"
      },
      "source": [
        "evaluate(cat_reg, X_train_scaled, y_train, 'train')\n",
        "evaluate(cat_reg, X_test_scaled, y_test, 'test')"
      ],
      "execution_count": null,
      "outputs": [
        {
          "output_type": "stream",
          "text": [
            "Model Train Performance\n",
            "Accuracy = 83.95%.\n",
            "Model Test Performance\n",
            "Accuracy = 73.01%.\n"
          ],
          "name": "stdout"
        }
      ]
    },
    {
      "cell_type": "code",
      "metadata": {
        "id": "rn5TQUwdwRka"
      },
      "source": [
        "# save the cat boost model\n",
        "pickle.dump(cat_reg, open('cat_boost_model.pkl', 'wb'))\n",
        "# copy to drive\n",
        "! cp '/content/cat_boost_model.pkl' '/content/drive/MyDrive/models_features-fuel&color_scaled'"
      ],
      "execution_count": null,
      "outputs": []
    },
    {
      "cell_type": "code",
      "metadata": {
        "colab": {
          "base_uri": "https://localhost:8080/",
          "height": 475
        },
        "id": "AUdckNJ-u9kd",
        "outputId": "6c9dced4-4197-4415-bc26-8391c385bd42"
      },
      "source": [
        "# feature importance plot\n",
        "n_c = []\n",
        "imp_c = []\n",
        "for name, importance in zip(df_n1.columns[:-1], cat_reg.feature_importances_):\n",
        "  print(name, \"=\", importance)\n",
        "  n_c.append(name)\n",
        "  imp_c.append(importance)\n",
        "\n",
        "plt.figure(figsize=(20,7))  \n",
        "plt.bar(n_c, imp_c)\n",
        "plt.show()\n"
      ],
      "execution_count": null,
      "outputs": [
        {
          "output_type": "stream",
          "text": [
            "year = 30.482195753252956\n",
            "manufacturer = 24.10450648460858\n",
            "model = 19.447201380037242\n",
            "mileage = 8.573136979393666\n",
            "grade = 6.085899340646756\n",
            "transmission = 2.968526856473319\n",
            "selling_condition = 8.338533205587481\n"
          ],
          "name": "stdout"
        },
        {
          "output_type": "display_data",
          "data": {
            "image/png": "[encoded data removed]",
            "text/plain": [
              "<Figure size 1440x504 with 1 Axes>"
            ]
          },
          "metadata": {
            "tags": []
          }
        }
      ]
    },
    {
      "cell_type": "markdown",
      "metadata": {
        "id": "VU40yXie3ibD"
      },
      "source": [
        "From the observations of all the models that have been trained using the reduced features, majority of the models performed better than when all the features were used.\n",
        "\n",
        "The *Cat Boost Regressor* performed the best with R2 score of 0.799."
      ]
    },
    {
      "cell_type": "markdown",
      "metadata": {
        "id": "ZxFZ9vBO0C-S"
      },
      "source": [
        "####Predictions"
      ]
    },
    {
      "cell_type": "code",
      "metadata": {
        "id": "FpxCoNcCoou8"
      },
      "source": [
        "# loading all the encoders, scalers and models saved\n",
        "!cp '/content/drive/MyDrive/models_features-fuel&color_scaled/color_encoder.pkl' '/content/'\n",
        "!cp '/content/drive/MyDrive/models_features-fuel&color_scaled/fuel_encoder.pkl' '/content/'\n",
        "!cp '/content/drive/MyDrive/models_features-fuel&color_scaled/grade_encoder.pkl' '/content/'\n",
        "!cp '/content/drive/MyDrive/models_features-fuel&color_scaled/manufacturer_encoder.pkl' '/content/'\n",
        "!cp '/content/drive/MyDrive/models_features-fuel&color_scaled/model_encoder.pkl' '/content/'\n",
        "!cp '/content/drive/MyDrive/models_features-fuel&color_scaled/selling_condition_encoder.pkl' '/content/'\n",
        "!cp '/content/drive/MyDrive/models_features-fuel&color_scaled/transmission_encoder.pkl' '/content/'\n",
        "!cp '/content/drive/MyDrive/models_features-fuel&color_scaled/standard_scaler.pkl' '/content/'\n",
        "!cp '/content/drive/MyDrive/models_features-fuel&color_scaled/cat_boost_model.pkl' '/content/'\n",
        "!cp '/content/drive/MyDrive/models_features-fuel&color_scaled/lgbmregressor_model.pkl' '/content/'\n",
        "!cp '/content/drive/MyDrive/models_features-fuel&color_scaled/xgbregressor_model.pkl' '/content/'"
      ],
      "execution_count": null,
      "outputs": []
    },
    {
      "cell_type": "code",
      "metadata": {
        "id": "X72d9DK3viSk"
      },
      "source": [
        "# predicting a car price\n",
        "yr= 2002\n",
        "man = 'TOYOTA'\n",
        "mod = 'HIGHLANDER'\n",
        "mileage = 175000\n",
        "grade = 'C'\n",
        "trans = 'AUTOMATIC'\n",
        "sell_cond = 'NIGERIAN Used'\n",
        "\n",
        "# YEAR\n",
        "if yr != '' and yr != ' ':\n",
        "  yr = yr\n",
        "else:\n",
        "  yr = np.nan\n",
        "\n",
        "# mileage\n",
        "if mileage != '' and mileage != ' ':\n",
        "  mileage = mileage\n",
        "else:\n",
        "  mileage = np.nan\n",
        "\n",
        "# encode categorial features\n",
        "\n",
        "# manufacturer\n",
        "if man != '' and man != ' ':\n",
        "  man_enco = pickle.load(open('manufacturer_encoder.pkl', 'rb'))\n",
        "  man_not_encoded =  np.array(man.lower()).ravel()\n",
        "  man_encoded = man_enco.transform(man_not_encoded)[0]\n",
        "else:\n",
        "  man_encoded = np.nan\n",
        "\n",
        "# model\n",
        "if mod != '' and mod != ' ':\n",
        "  mod_enco = pickle.load(open('model_encoder.pkl', 'rb'))\n",
        "  mod_not_encoded =  np.array(mod.lower()).ravel()\n",
        "  mod_encoded = mod_enco.transform(mod_not_encoded)[0]\n",
        "else:\n",
        "  mod_encoded = np.nan\n",
        "\n",
        "# grade\n",
        "if grade != '' and grade != ' ':\n",
        "  grade_enco = pickle.load(open('grade_encoder.pkl', 'rb'))\n",
        "  grade_not_encoded =  np.array(grade.lower()).ravel()\n",
        "  grade_encoded = grade_enco.transform(grade_not_encoded)[0]\n",
        "else:\n",
        "  grade_encoded = np.nan\n",
        "\n",
        "# transmission\n",
        "if trans != '' and trans != ' ':\n",
        "  transmission__enco = pickle.load(open('transmission_encoder.pkl', 'rb'))\n",
        "  transmission__not_encoded =  np.array(trans.lower()).ravel()\n",
        "  transmission_encoded = transmission__enco.transform(transmission__not_encoded)[0]\n",
        "else:\n",
        "  transmission_encoded = np.nan\n",
        "\n",
        "# selling_condition\n",
        "if sell_cond != '' and sell_cond != ' ':\n",
        "  selling_condition_enco = pickle.load(open('selling_condition_encoder.pkl', 'rb'))\n",
        "  selling_condition_not_encoded =  np.array(sell_cond.lower()).ravel()\n",
        "  selling_condition_encoded = selling_condition_enco.transform(selling_condition_not_encoded)[0]\n",
        "else:\n",
        "  selling_condition_encoded = np.nan\n"
      ],
      "execution_count": null,
      "outputs": []
    },
    {
      "cell_type": "markdown",
      "metadata": {
        "id": "-w7NA8qVwMsV"
      },
      "source": [
        "*Format to arrange the car details in the array for normalisation*\n",
        "\n",
        "[['year', 'manufacturer', 'model', 'fuel', 'mileage', 'grade', 'transmission', 'selling_condition', 'color', 'price']]"
      ]
    },
    {
      "cell_type": "code",
      "metadata": {
        "id": "YEEJhpm933eY"
      },
      "source": [
        "# prepare the car data for normalisation\n",
        "car = np.array([yr, man_encoded, mod_encoded, mileage, grade_encoded, transmission_encoded, selling_condition_encoded])\n",
        "car = np.array([car])"
      ],
      "execution_count": null,
      "outputs": []
    },
    {
      "cell_type": "code",
      "metadata": {
        "colab": {
          "base_uri": "https://localhost:8080/"
        },
        "id": "Bwx2ZJoX5N8u",
        "outputId": "e86ed6df-d511-4ee2-b10b-e36a0e5bb8b8"
      },
      "source": [
        "car"
      ],
      "execution_count": null,
      "outputs": [
        {
          "output_type": "execute_result",
          "data": {
            "text/plain": [
              "array([[2.002e+03, 4.500e+01, 1.630e+02, 1.750e+05, 1.000e+00, 0.000e+00,\n",
              "        1.000e+00]])"
            ]
          },
          "metadata": {
            "tags": []
          },
          "execution_count": 256
        }
      ]
    },
    {
      "cell_type": "code",
      "metadata": {
        "colab": {
          "base_uri": "https://localhost:8080/"
        },
        "id": "lu8qRJkC54zz",
        "outputId": "2ef30737-ad56-429c-fc50-3c0538c75949"
      },
      "source": [
        "# load the scaler\n",
        "std_sc = pickle.load(open('standard_scaler.pkl', 'rb'))\n",
        "# transform the car \n",
        "car_scaled = std_sc.transform(car)\n",
        "car_scaled"
      ],
      "execution_count": null,
      "outputs": [
        {
          "output_type": "execute_result",
          "data": {
            "text/plain": [
              "array([[-1.06722474,  1.14581127,  0.16680701,  0.37785293, -1.09843943,\n",
              "        -0.29904409,  0.59425564]])"
            ]
          },
          "metadata": {
            "tags": []
          },
          "execution_count": 257
        }
      ]
    },
    {
      "cell_type": "code",
      "metadata": {
        "id": "LIqbRnQ6s38L"
      },
      "source": [
        "# load the model(CATBOOST)\n",
        "model_CAT = pickle.load(open('/content/cat_boost_model.pkl', 'rb'))"
      ],
      "execution_count": null,
      "outputs": []
    },
    {
      "cell_type": "code",
      "metadata": {
        "colab": {
          "base_uri": "https://localhost:8080/"
        },
        "id": "AfRm860EaVRj",
        "outputId": "4d3f9613-eaa4-4e9a-bc46-bf778a1b90fa"
      },
      "source": [
        "car_predict = model_CAT.predict(car_scaled)\n",
        "car_predict = round(car_predict[0])\n",
        "print(f'The price of the car is {car_predict:,} naira')"
      ],
      "execution_count": null,
      "outputs": [
        {
          "output_type": "stream",
          "text": [
            "The price of the car is 1,922,183 naira\n"
          ],
          "name": "stdout"
        }
      ]
    },
    {
      "cell_type": "code",
      "metadata": {
        "id": "u0t7jQx6Pmvn"
      },
      "source": [
        "# load the model(LGBM)\n",
        "model_LGBM1 = pickle.load(open('/content/lgbmregressor_model.pkl', 'rb'))"
      ],
      "execution_count": null,
      "outputs": []
    },
    {
      "cell_type": "code",
      "metadata": {
        "colab": {
          "base_uri": "https://localhost:8080/"
        },
        "id": "gJV3gSJ-znEt",
        "outputId": "a3068ee8-a67c-44e3-a412-2d4b6a1956fe"
      },
      "source": [
        "car_predict = model_LGBM1.predict(car_scaled)\n",
        "car_predict = round(car_predict[0])\n",
        "print(f'The price of the car is {car_predict:,} naira')"
      ],
      "execution_count": null,
      "outputs": [
        {
          "output_type": "stream",
          "text": [
            "The price of the car is 1,768,423 naira\n"
          ],
          "name": "stdout"
        }
      ]
    },
    {
      "cell_type": "code",
      "metadata": {
        "colab": {
          "base_uri": "https://localhost:8080/"
        },
        "id": "xcrjGXe8rXd7",
        "outputId": "fdc43b1f-fe8d-4620-8e16-266e0db0bb6e"
      },
      "source": [
        "# load the model(XGB)\n",
        "model_XGB = pickle.load(open('/content/xgbregressor_model.pkl', 'rb'))"
      ],
      "execution_count": null,
      "outputs": [
        {
          "output_type": "stream",
          "text": [
            "[15:35:49] WARNING: /workspace/src/objective/regression_obj.cu:152: reg:linear is now deprecated in favor of reg:squarederror.\n"
          ],
          "name": "stdout"
        }
      ]
    },
    {
      "cell_type": "code",
      "metadata": {
        "colab": {
          "base_uri": "https://localhost:8080/"
        },
        "id": "7-qY4qyVzFi2",
        "outputId": "f3e650bb-3674-48ed-bd34-069446774b18"
      },
      "source": [
        "car_predict = model_XGB.predict(car_scaled)\n",
        "car_predict = round(car_predict[0]) \n",
        "print(f'The price of the car is {car_predict:,} naira')"
      ],
      "execution_count": null,
      "outputs": [
        {
          "output_type": "stream",
          "text": [
            "The price of the car is 3,457,569 naira\n"
          ],
          "name": "stdout"
        }
      ]
    },
    {
      "cell_type": "code",
      "metadata": {
        "id": "o41fEX0C8Job"
      },
      "source": [
        ""
      ],
      "execution_count": null,
      "outputs": []
    },
    {
      "cell_type": "markdown",
      "metadata": {
        "id": "pN_roJgzGHnO"
      },
      "source": [
        "From the training and prediction observations, we will use the CatBoost Regressor model for deployment on Flask"
      ]
    }
  ]
}