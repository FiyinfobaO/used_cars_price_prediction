{
  "nbformat": 4,
  "nbformat_minor": 0,
  "metadata": {
    "colab": {
      "name": "data_scraper_used_cars.ipynb",
      "provenance": [],
      "collapsed_sections": [
        "0PxGY9C_NtcL"
      ],
      "authorship_tag": "ABX9TyMKPtMautP1G17cN08vtcq2",
      "include_colab_link": true
    },
    "kernelspec": {
      "name": "python3",
      "display_name": "Python 3"
    },
    "language_info": {
      "name": "python"
    }
  },
  "cells": [
    {
      "cell_type": "markdown",
      "metadata": {
        "id": "view-in-github",
        "colab_type": "text"
      },
      "source": [
        "<a href=\"https://colab.research.google.com/github/FiyinfobaO/used_cars_price_prediction/blob/master/data_scraper_used_cars.ipynb\" target=\"_parent\"><img src=\"https://colab.research.google.com/assets/colab-badge.svg\" alt=\"Open In Colab\"/></a>"
      ]
    },
    {
      "cell_type": "code",
      "metadata": {
        "id": "OazVbyaIvH6b"
      },
      "source": [
        "# import libraries\n",
        "import requests\n",
        "from bs4 import BeautifulSoup as bs4\n",
        "import pandas as pd\n",
        "import numpy as np\n",
        "from tqdm import tqdm\n",
        "import time"
      ],
      "execution_count": null,
      "outputs": []
    },
    {
      "cell_type": "markdown",
      "metadata": {
        "id": "ZXE0GRXEPn3C"
      },
      "source": [
        "Cars will be scraped from the [cars45 site](https://buy.cars45.com/cars?limit=100)"
      ]
    },
    {
      "cell_type": "code",
      "metadata": {
        "id": "lcHuZC7S2DZO"
      },
      "source": [
        "# getting the links to all the cars\n",
        "\n",
        "urls = []\n",
        "\n",
        "for i in range(1,43):\n",
        "  website = \"https://buy.cars45.com/cars?limit=100&page={}\".format(i)\n",
        "  page = requests.get(website).text\n",
        "  soup = bs4(page, 'html.parser')\n",
        "  for item in soup.find_all(class_='product_box'):\n",
        "    link = item.a['href']\n",
        "    urls.append(link)"
      ],
      "execution_count": null,
      "outputs": []
    },
    {
      "cell_type": "code",
      "metadata": {
        "colab": {
          "base_uri": "https://localhost:8080/"
        },
        "id": "jdNbXF6bDz2_",
        "outputId": "4e779450-8d04-4a4c-cc28-642c63cdb77c"
      },
      "source": [
        "# no of cars found\n",
        "len(urls)"
      ],
      "execution_count": null,
      "outputs": [
        {
          "output_type": "execute_result",
          "data": {
            "text/plain": [
              "4200"
            ]
          },
          "metadata": {
            "tags": []
          },
          "execution_count": 5
        }
      ]
    },
    {
      "cell_type": "markdown",
      "metadata": {
        "id": "0PxGY9C_NtcL"
      },
      "source": [
        "#####Random tests before the main scraping"
      ]
    },
    {
      "cell_type": "code",
      "metadata": {
        "colab": {
          "base_uri": "https://localhost:8080/"
        },
        "id": "g0dJoFQ3ed0u",
        "outputId": "1dba07dc-a2af-4172-c0e5-68d2f3bab7f8"
      },
      "source": [
        "for i in urls[:4]:\n",
        "  test = requests.get(i).text\n",
        "  s = bs4(test, 'html.parser')\n",
        "\n",
        "  if s.get_text()[11:16] == 'Sorry':\n",
        "    print('car is sold out. No details available')\n",
        "  else:\n",
        "    a = s.find(class_='price_title amount mt-1').text.strip()\n",
        "    print(a)\n",
        "    b = a.replace('₦', '').replace(',', '').lstrip()\n",
        "    print(b)"
      ],
      "execution_count": null,
      "outputs": [
        {
          "output_type": "stream",
          "text": [
            "₦ 33,000,000\n",
            "33000000\n",
            "₦ 850,000\n",
            "850000\n",
            "₦ 2,810,000\n",
            "2810000\n",
            "₦ 1,858,000\n",
            "1858000\n"
          ],
          "name": "stdout"
        }
      ]
    },
    {
      "cell_type": "code",
      "metadata": {
        "id": "GHfcanvxFNIu"
      },
      "source": [
        "test = requests.get('https://buy.cars45.com/cars/toyota-camry-2018-other-ng-760897?limit=100').text\n",
        "s = bs4(test, 'html.parser')"
      ],
      "execution_count": null,
      "outputs": []
    },
    {
      "cell_type": "code",
      "metadata": {
        "colab": {
          "base_uri": "https://localhost:8080/",
          "height": 35
        },
        "id": "iLtzZ0VAghW1",
        "outputId": "d417eff3-6f17-48f5-83dc-856cf37fdab7"
      },
      "source": [
        "s.get_text()[11:16]"
      ],
      "execution_count": null,
      "outputs": [
        {
          "output_type": "execute_result",
          "data": {
            "application/vnd.google.colaboratory.intrinsic+json": {
              "type": "string"
            },
            "text/plain": [
              "'2018 '"
            ]
          },
          "metadata": {
            "tags": []
          },
          "execution_count": 123
        }
      ]
    },
    {
      "cell_type": "code",
      "metadata": {
        "colab": {
          "base_uri": "https://localhost:8080/",
          "height": 35
        },
        "id": "W6OmYSNKGs7L",
        "outputId": "e405f2e3-dfca-448d-8dc5-6adf0f25a26d"
      },
      "source": [
        "s.find(class_='justify-content-center w-100').text.strip()"
      ],
      "execution_count": null,
      "outputs": [
        {
          "output_type": "execute_result",
          "data": {
            "application/vnd.google.colaboratory.intrinsic+json": {
              "type": "string"
            },
            "text/plain": [
              "'New'"
            ]
          },
          "metadata": {
            "tags": []
          },
          "execution_count": 102
        }
      ]
    },
    {
      "cell_type": "code",
      "metadata": {
        "colab": {
          "base_uri": "https://localhost:8080/",
          "height": 52
        },
        "id": "29dOC15yH0Dk",
        "outputId": "0a1a37c7-5be6-4b48-a7c7-ad3940d4e733"
      },
      "source": [
        "a = s.find(class_='price_title amount mt-1').string.extract().strip()\n",
        "print(a)\n",
        "b = a.replace('₦', '').replace(',', '').lstrip()\n",
        "b"
      ],
      "execution_count": null,
      "outputs": [
        {
          "output_type": "stream",
          "text": [
            "₦ 13,000,000\n"
          ],
          "name": "stdout"
        },
        {
          "output_type": "execute_result",
          "data": {
            "application/vnd.google.colaboratory.intrinsic+json": {
              "type": "string"
            },
            "text/plain": [
              "'13000000'"
            ]
          },
          "metadata": {
            "tags": []
          },
          "execution_count": 103
        }
      ]
    },
    {
      "cell_type": "code",
      "metadata": {
        "colab": {
          "base_uri": "https://localhost:8080/"
        },
        "id": "QSQzIOK9NbDJ",
        "outputId": "de1295a0-47e0-4200-db69-057663e2c932"
      },
      "source": [
        "s.find(class_='overview_icon_box clearfix').figcaption.text.strip()"
      ],
      "execution_count": null,
      "outputs": [
        {
          "output_type": "execute_result",
          "data": {
            "text/plain": [
              "<div class=\"overview_icon_box clearfix\">\n",
              "<figure>\n",
              "<img alt=\"Thumb\" src=\"catalog/view/assets/images/diesel.png\"/>\n",
              "</figure>\n",
              "<figcaption> Petrol\n",
              "                                                    </figcaption>\n",
              "</div>"
            ]
          },
          "metadata": {
            "tags": []
          },
          "execution_count": 129
        }
      ]
    },
    {
      "cell_type": "code",
      "metadata": {
        "colab": {
          "base_uri": "https://localhost:8080/"
        },
        "id": "NXM14M5Zbmvi",
        "outputId": "62bc56eb-f0c0-48f1-e83a-a49374ec33ad"
      },
      "source": [
        "na = np.nan\n",
        "wen = ['sedan', 'suv']\n",
        "w = s.find(class_='overview_icon_box clearfix body_type')\n",
        "if w is not None:\n",
        "  we = w.figcaption.text.strip()\n",
        "  wen.append(we)\n",
        "else:\n",
        "  we = na\n",
        "  wen.append(we)\n",
        "print(wen)\n",
        "de = pd.DataFrame({'wen':wen})\n"
      ],
      "execution_count": null,
      "outputs": [
        {
          "output_type": "stream",
          "text": [
            "['sedan', 'suv', nan]\n"
          ],
          "name": "stdout"
        }
      ]
    },
    {
      "cell_type": "code",
      "metadata": {
        "colab": {
          "base_uri": "https://localhost:8080/"
        },
        "id": "CXwT0vs0mNgN",
        "outputId": "9933548a-e25d-413b-ccad-f2fb3a43fca1"
      },
      "source": [
        "s.findAll('span', class_='float-right')[7]"
      ],
      "execution_count": null,
      "outputs": [
        {
          "output_type": "execute_result",
          "data": {
            "text/plain": [
              "<span class=\"float-right\">White\n",
              "                                                            </span>"
            ]
          },
          "metadata": {
            "tags": []
          },
          "execution_count": 146
        }
      ]
    },
    {
      "cell_type": "code",
      "metadata": {
        "colab": {
          "base_uri": "https://localhost:8080/"
        },
        "id": "RTvPmTF3VQcU",
        "outputId": "82f72649-89c5-4feb-94f7-5b73ca8e5278"
      },
      "source": [
        "aq = ['B', 'D']\n",
        "aw = s.find_all('div', class_='col-sm-6 col-md-3 col-6')\n",
        "try:\n",
        "  awn = aw[4]['title']\n",
        "  if awn is not None:\n",
        "    awnn = awn[5]\n",
        "    aq.append(awnn)\n",
        "  else:\n",
        "    awn = np.nan\n",
        "    aq.append(awn)\n",
        "except IndexError:\n",
        "  awn = np.nan\n",
        "  aq.append(awn)\n",
        "aq"
      ],
      "execution_count": null,
      "outputs": [
        {
          "output_type": "execute_result",
          "data": {
            "text/plain": [
              "['B', 'D', nan]"
            ]
          },
          "metadata": {
            "tags": []
          },
          "execution_count": 140
        }
      ]
    },
    {
      "cell_type": "markdown",
      "metadata": {
        "id": "7FRZ4GnmN28Q"
      },
      "source": [
        "#####Main scraping"
      ]
    },
    {
      "cell_type": "code",
      "metadata": {
        "id": "ZCK4MFsOOGSY"
      },
      "source": [
        "# Getting car information\n",
        "na = np.nan\n",
        "\n",
        "manufacturer = []\n",
        "model = []\n",
        "year = []\n",
        "price = []\n",
        "mileage = []\n",
        "grade = []\n",
        "selling_condition = []\n",
        "transmission = []\n",
        "color = []\n",
        "fuel = []\n",
        "\n",
        "car_err_urls = []\n",
        "\n",
        "car = 0\n",
        "for i in tqdm(urls):\n",
        "  car += 1\n",
        "  print(f'car {car}')\n",
        "  page = requests.get(i).text\n",
        "  soup = bs4(page, 'html.parser')\n",
        "\n",
        "  # error check to ensure the car isn't sold out\n",
        "  if soup.get_text()[11:16] == 'Sorry':\n",
        "    print('car is sold out. No details available')\n",
        "  else:\n",
        "    try:\n",
        "      # price\n",
        "      pr = soup.find(class_='price_title amount mt-1').text.strip()\n",
        "      pri = pr.replace('₦', '').replace(',', '').lstrip()\n",
        "      price.append(pri)\n",
        "      \n",
        "      time.sleep(0.2)\n",
        "\n",
        "      # selling condition\n",
        "      con = soup.find(class_='justify-content-center w-100')\n",
        "      if con is not None:\n",
        "        cond = con.text.strip()\n",
        "        selling_condition.append(cond)\n",
        "      else:\n",
        "        cond = na\n",
        "        selling_condition.append(cond)\n",
        "\n",
        "      time.sleep(0.15)\n",
        "\n",
        "      # fuel\n",
        "      f = soup.find(class_='overview_icon_box clearfix')\n",
        "      if f is not None:\n",
        "        fu = f.figcaption\n",
        "        if fu is not None:\n",
        "          fuu = fu.text.strip()\n",
        "          fuel.append(fuu)\n",
        "        else:\n",
        "          fu = na\n",
        "          fuel.append(fu)\n",
        "      else:\n",
        "        fu = na\n",
        "        fuel.append(fu)\n",
        "    \n",
        "      time.sleep(0.15)\n",
        "\n",
        "      # grade\n",
        "      g = soup.find_all('div', class_='col-sm-6 col-md-3 col-6')\n",
        "      try:\n",
        "        gr = g[3]['title']\n",
        "        if gr is not None:\n",
        "          grr = gr[5]\n",
        "          grade.append(grr)\n",
        "        else:\n",
        "          gr = na\n",
        "          grade.append(gr)\n",
        "      except IndexError:\n",
        "        gr = na\n",
        "        grade.append(gr)\n",
        "        \n",
        "      time.sleep(0.15)\n",
        "\n",
        "      # remaining features\n",
        "      gen = soup.find_all('span', class_='float-right')\n",
        "      if gen is not None:\n",
        "        # manufacturer\n",
        "        try:\n",
        "          manufa = gen[0]\n",
        "          if manufa is not None:\n",
        "            manufac = manufa.text.strip()\n",
        "            manufacturer.append(manufac)\n",
        "          else:\n",
        "            manufac = na\n",
        "            manufacturer.append(manufac)\n",
        "        except IndexError:\n",
        "          manufac = na\n",
        "          manufacturer.append(manufac)\n",
        "        \n",
        "        time.sleep(0.15)\n",
        "\n",
        "        # model\n",
        "        try:\n",
        "          m = gen[1]\n",
        "          if m is not None:\n",
        "            mod = m.text.strip()\n",
        "            model.append(mod)\n",
        "          else:\n",
        "            mod = na\n",
        "            model.append(mod)\n",
        "        except IndexError:\n",
        "          mod = na\n",
        "          model.append(mod)\n",
        "\n",
        "        time.sleep(0.15)\n",
        "\n",
        "        # year\n",
        "        try:\n",
        "          y = gen[2]\n",
        "          if y is not None:\n",
        "            yr = y.text.strip()\n",
        "            year.append(yr)\n",
        "          else:\n",
        "            yr = na\n",
        "            year.append(yr)\n",
        "        except IndexError:\n",
        "          yr = na\n",
        "          year.append(yr)\n",
        "\n",
        "        time.sleep(0.15)\n",
        "\n",
        "         # mileage\n",
        "        try:\n",
        "          mil = gen[3]\n",
        "          if mil is not None:\n",
        "            mile = mil.text.strip()\n",
        "            mileage.append(mile)\n",
        "          else:\n",
        "            mile = na\n",
        "            mileage.append(mile)\n",
        "        except IndexError:\n",
        "          mile = na\n",
        "          mileage.append(mile)\n",
        "\n",
        "        time.sleep(0.15)\n",
        "\n",
        "        # transmission\n",
        "        try:\n",
        "          tra = gen[5]\n",
        "          if tra is not None:\n",
        "            trans = tra.text.strip()\n",
        "            transmission.append(trans)\n",
        "          else:\n",
        "            trans = na\n",
        "            transmission.append(trans)\n",
        "        except IndexError:\n",
        "          trans = na\n",
        "          transmission.append(trans)\n",
        "\n",
        "        time.sleep(0.15)\n",
        "\n",
        "        # color\n",
        "        try:\n",
        "          co = gen[7]\n",
        "          if co is not None:\n",
        "            col = co.text.strip()\n",
        "            color.append(col)\n",
        "          else:\n",
        "            col = na\n",
        "            color.append(col)\n",
        "        except IndexError:\n",
        "          col = na\n",
        "          color.append(col)\n",
        "\n",
        "        time.sleep(0.15)\n",
        "      \n",
        "      else:\n",
        "        manufac = na\n",
        "        manufacturer.append(manufac)\n",
        "        mod = na\n",
        "        model.append(mod)\n",
        "        yr = na\n",
        "        year.append(yr)\n",
        "        mile = na\n",
        "        mileage.append(mile)\n",
        "        trans = na\n",
        "        transmission.append(trans)\n",
        "        col = na\n",
        "        color.append(col)\n",
        "\n",
        "      time.sleep(1.5)\n",
        "  \n",
        "    except AttributeError:\n",
        "      car_err_urls.append(i)\n",
        "  "
      ],
      "execution_count": null,
      "outputs": []
    },
    {
      "cell_type": "code",
      "metadata": {
        "colab": {
          "base_uri": "https://localhost:8080/"
        },
        "id": "89X-eTaNdoZN",
        "outputId": "d859f11b-7996-4ced-a7d6-704a39f278e1"
      },
      "source": [
        "# check the length of each array gotten\n",
        "for i in [manufacturer, model, price, year, mileage, grade, selling_condition, fuel, transmission, color]:\n",
        "  print(len(i))"
      ],
      "execution_count": null,
      "outputs": [
        {
          "output_type": "stream",
          "text": [
            "4167\n",
            "4167\n",
            "4167\n",
            "4167\n",
            "4167\n",
            "4167\n",
            "4167\n",
            "4167\n",
            "4167\n",
            "4167\n"
          ],
          "name": "stdout"
        }
      ]
    },
    {
      "cell_type": "code",
      "metadata": {
        "id": "MNpIq37G1Vlc"
      },
      "source": [
        "err_urls = car_err_urls.copy()"
      ],
      "execution_count": null,
      "outputs": []
    },
    {
      "cell_type": "code",
      "metadata": {
        "colab": {
          "base_uri": "https://localhost:8080/"
        },
        "id": "IAuTtTlo1aE3",
        "outputId": "6a6e14fe-726d-4a9b-83b5-7a68c3f0c72a"
      },
      "source": [
        "len(err_urls)"
      ],
      "execution_count": null,
      "outputs": [
        {
          "output_type": "execute_result",
          "data": {
            "text/plain": [
              "16"
            ]
          },
          "metadata": {
            "tags": []
          },
          "execution_count": 14
        }
      ]
    },
    {
      "cell_type": "code",
      "metadata": {
        "colab": {
          "base_uri": "https://localhost:8080/"
        },
        "id": "1FnuVNhNMd4O",
        "outputId": "15467fa8-48be-44e7-e10c-d783fc0062f2"
      },
      "source": [
        "# Scraping the remaining cars from error urls\n",
        "na = np.nan\n",
        "# manufacturer = []\n",
        "# model = []\n",
        "# year = []\n",
        "# price = []\n",
        "# mileage = []\n",
        "# grade = []\n",
        "# selling_condition = []\n",
        "# transmission = []\n",
        "# color = []\n",
        "# fuel = []\n",
        "\n",
        "car_err_urls = []\n",
        "\n",
        "car = 0\n",
        "for i in tqdm(err_urls):\n",
        "  car += 1\n",
        "  print(f'car {car}')\n",
        "  page = requests.get(i).text\n",
        "  soup = bs4(page, 'html.parser')\n",
        "\n",
        "  # error check to ensure the car isn't sold out\n",
        "  if soup.get_text()[11:16] == 'Sorry':\n",
        "    print('car is sold out. No details available')\n",
        "  else:\n",
        "    try:\n",
        "      # price\n",
        "      pr = soup.find(class_='price_title amount mt-1').text.strip()\n",
        "      pri = pr.replace('₦', '').replace(',', '').lstrip()\n",
        "      price.append(pri)\n",
        "      \n",
        "      time.sleep(0.2)\n",
        "\n",
        "      # selling condition\n",
        "      con = soup.find(class_='justify-content-center w-100')\n",
        "      if con is not None:\n",
        "        cond = con.text.strip()\n",
        "        selling_condition.append(cond)\n",
        "      else:\n",
        "        cond = na\n",
        "        selling_condition.append(cond)\n",
        "\n",
        "      time.sleep(0.15)\n",
        "\n",
        "      # fuel\n",
        "      f = soup.find(class_='overview_icon_box clearfix')\n",
        "      if f is not None:\n",
        "        fu = f.figcaption\n",
        "        if fu is not None:\n",
        "          fuu = fu.text.strip()\n",
        "          fuel.append(fuu)\n",
        "        else:\n",
        "          fu = na\n",
        "          fuel.append(fu)\n",
        "      else:\n",
        "        fu = na\n",
        "        fuel.append(fu)\n",
        "    \n",
        "      time.sleep(0.15)\n",
        "\n",
        "      # grade\n",
        "      g = soup.find_all('div', class_='col-sm-6 col-md-3 col-6')\n",
        "      try:\n",
        "        gr = g[3]['title']\n",
        "        if gr is not None:\n",
        "          grr = gr[5]\n",
        "          grade.append(grr)\n",
        "        else:\n",
        "          gr = na\n",
        "          grade.append(gr)\n",
        "      except IndexError:\n",
        "        gr = na\n",
        "        grade.append(gr)\n",
        "        \n",
        "      time.sleep(0.15)\n",
        "\n",
        "      # remaining features\n",
        "      gen = soup.find_all('span', class_='float-right')\n",
        "      if gen is not None:\n",
        "        # manufacturer\n",
        "        try:\n",
        "          manufa = gen[0]\n",
        "          if manufa is not None:\n",
        "            manufac = manufa.text.strip()\n",
        "            manufacturer.append(manufac)\n",
        "          else:\n",
        "            manufac = na\n",
        "            manufacturer.append(manufac)\n",
        "        except IndexError:\n",
        "          manufac = na\n",
        "          manufacturer.append(manufac)\n",
        "        \n",
        "        time.sleep(0.15)\n",
        "\n",
        "        # model\n",
        "        try:\n",
        "          m = gen[1]\n",
        "          if m is not None:\n",
        "            mod = m.text.strip()\n",
        "            model.append(mod)\n",
        "          else:\n",
        "            mod = na\n",
        "            model.append(mod)\n",
        "        except IndexError:\n",
        "          mod = na\n",
        "          model.append(mod)\n",
        "\n",
        "        time.sleep(0.15)\n",
        "\n",
        "        # year\n",
        "        try:\n",
        "          y = gen[2]\n",
        "          if y is not None:\n",
        "            yr = y.text.strip()\n",
        "            year.append(yr)\n",
        "          else:\n",
        "            yr = na\n",
        "            year.append(yr)\n",
        "        except IndexError:\n",
        "          yr = na\n",
        "          year.append(yr)\n",
        "\n",
        "        time.sleep(0.15)\n",
        "\n",
        "         # mileage\n",
        "        try:\n",
        "          mil = gen[3]\n",
        "          if mil is not None:\n",
        "            mile = mil.text.strip()\n",
        "            mileage.append(mile)\n",
        "          else:\n",
        "            mile = na\n",
        "            mileage.append(mile)\n",
        "        except IndexError:\n",
        "          mile = na\n",
        "          mileage.append(mile)\n",
        "\n",
        "        time.sleep(0.15)\n",
        "\n",
        "        # transmission\n",
        "        try:\n",
        "          tra = gen[5]\n",
        "          if tra is not None:\n",
        "            trans = tra.text.strip()\n",
        "            transmission.append(trans)\n",
        "          else:\n",
        "            trans = na\n",
        "            transmission.append(trans)\n",
        "        except IndexError:\n",
        "          trans = na\n",
        "          transmission.append(trans)\n",
        "\n",
        "        time.sleep(0.15)\n",
        "\n",
        "        # color\n",
        "        try:\n",
        "          co = gen[7]\n",
        "          if co is not None:\n",
        "            col = co.text.strip()\n",
        "            color.append(col)\n",
        "          else:\n",
        "            col = na\n",
        "            color.append(col)\n",
        "        except IndexError:\n",
        "          col = na\n",
        "          color.append(col)\n",
        "\n",
        "        time.sleep(0.15)\n",
        "      \n",
        "      else:\n",
        "        manufac = na\n",
        "        manufacturer.append(manufac)\n",
        "        mod = na\n",
        "        model.append(mod)\n",
        "        yr = na\n",
        "        year.append(yr)\n",
        "        mile = na\n",
        "        mileage.append(mile)\n",
        "        trans = na\n",
        "        transmission.append(trans)\n",
        "        col = na\n",
        "        color.append(col)\n",
        "\n",
        "      time.sleep(1.5)\n",
        "  \n",
        "    except AttributeError:\n",
        "      car_err_urls.append(i)\n",
        "  "
      ],
      "execution_count": null,
      "outputs": [
        {
          "output_type": "stream",
          "text": [
            "\n",
            "  0%|          | 0/16 [00:00<?, ?it/s]\u001b[A"
          ],
          "name": "stderr"
        },
        {
          "output_type": "stream",
          "text": [
            "car 1\n"
          ],
          "name": "stdout"
        },
        {
          "output_type": "stream",
          "text": [
            "\n",
            "  6%|▋         | 1/16 [00:04<01:04,  4.28s/it]\u001b[A"
          ],
          "name": "stderr"
        },
        {
          "output_type": "stream",
          "text": [
            "car 2\n"
          ],
          "name": "stdout"
        },
        {
          "output_type": "stream",
          "text": [
            "\n",
            " 12%|█▎        | 2/16 [00:08<00:59,  4.22s/it]\u001b[A"
          ],
          "name": "stderr"
        },
        {
          "output_type": "stream",
          "text": [
            "car 3\n"
          ],
          "name": "stdout"
        },
        {
          "output_type": "stream",
          "text": [
            "\n",
            " 19%|█▉        | 3/16 [00:12<00:54,  4.19s/it]\u001b[A"
          ],
          "name": "stderr"
        },
        {
          "output_type": "stream",
          "text": [
            "car 4\n"
          ],
          "name": "stdout"
        },
        {
          "output_type": "stream",
          "text": [
            "\n",
            " 25%|██▌       | 4/16 [00:16<00:49,  4.13s/it]\u001b[A"
          ],
          "name": "stderr"
        },
        {
          "output_type": "stream",
          "text": [
            "car 5\n"
          ],
          "name": "stdout"
        },
        {
          "output_type": "stream",
          "text": [
            "\n",
            " 31%|███▏      | 5/16 [00:20<00:45,  4.12s/it]\u001b[A"
          ],
          "name": "stderr"
        },
        {
          "output_type": "stream",
          "text": [
            "car 6\n"
          ],
          "name": "stdout"
        },
        {
          "output_type": "stream",
          "text": [
            "\n",
            " 38%|███▊      | 6/16 [00:24<00:41,  4.10s/it]\u001b[A"
          ],
          "name": "stderr"
        },
        {
          "output_type": "stream",
          "text": [
            "car 7\n"
          ],
          "name": "stdout"
        },
        {
          "output_type": "stream",
          "text": [
            "\n",
            " 44%|████▍     | 7/16 [00:28<00:36,  4.09s/it]\u001b[A"
          ],
          "name": "stderr"
        },
        {
          "output_type": "stream",
          "text": [
            "car 8\n"
          ],
          "name": "stdout"
        },
        {
          "output_type": "stream",
          "text": [
            "\n",
            " 50%|█████     | 8/16 [00:32<00:32,  4.08s/it]\u001b[A"
          ],
          "name": "stderr"
        },
        {
          "output_type": "stream",
          "text": [
            "car 9\n"
          ],
          "name": "stdout"
        },
        {
          "output_type": "stream",
          "text": [
            "\n",
            " 56%|█████▋    | 9/16 [00:37<00:28,  4.13s/it]\u001b[A"
          ],
          "name": "stderr"
        },
        {
          "output_type": "stream",
          "text": [
            "car 10\n"
          ],
          "name": "stdout"
        },
        {
          "output_type": "stream",
          "text": [
            "\n",
            " 62%|██████▎   | 10/16 [00:41<00:25,  4.24s/it]\u001b[A"
          ],
          "name": "stderr"
        },
        {
          "output_type": "stream",
          "text": [
            "car 11\n"
          ],
          "name": "stdout"
        },
        {
          "output_type": "stream",
          "text": [
            "\n",
            " 69%|██████▉   | 11/16 [00:45<00:20,  4.17s/it]\u001b[A"
          ],
          "name": "stderr"
        },
        {
          "output_type": "stream",
          "text": [
            "car 12\n"
          ],
          "name": "stdout"
        },
        {
          "output_type": "stream",
          "text": [
            "\n",
            " 75%|███████▌  | 12/16 [00:49<00:16,  4.14s/it]\u001b[A"
          ],
          "name": "stderr"
        },
        {
          "output_type": "stream",
          "text": [
            "car 13\n"
          ],
          "name": "stdout"
        },
        {
          "output_type": "stream",
          "text": [
            "\n",
            " 81%|████████▏ | 13/16 [00:53<00:12,  4.18s/it]\u001b[A"
          ],
          "name": "stderr"
        },
        {
          "output_type": "stream",
          "text": [
            "car 14\n"
          ],
          "name": "stdout"
        },
        {
          "output_type": "stream",
          "text": [
            "\n",
            " 88%|████████▊ | 14/16 [00:57<00:08,  4.14s/it]\u001b[A"
          ],
          "name": "stderr"
        },
        {
          "output_type": "stream",
          "text": [
            "car 15\n"
          ],
          "name": "stdout"
        },
        {
          "output_type": "stream",
          "text": [
            "\n",
            " 94%|█████████▍| 15/16 [01:02<00:04,  4.18s/it]\u001b[A"
          ],
          "name": "stderr"
        },
        {
          "output_type": "stream",
          "text": [
            "car 16\n"
          ],
          "name": "stdout"
        },
        {
          "output_type": "stream",
          "text": [
            "\n",
            "100%|██████████| 16/16 [01:05<00:00,  4.12s/it]\n"
          ],
          "name": "stderr"
        }
      ]
    },
    {
      "cell_type": "code",
      "metadata": {
        "colab": {
          "base_uri": "https://localhost:8080/"
        },
        "id": "pc53cX0-MGh2",
        "outputId": "5f455406-7c53-471d-844b-00d88b9066c2"
      },
      "source": [
        "for i in [manufacturer, model, price, year, mileage, grade, selling_condition, fuel, transmission, color]:\n",
        "  print(len(i))"
      ],
      "execution_count": null,
      "outputs": [
        {
          "output_type": "stream",
          "text": [
            "4183\n",
            "4183\n",
            "4183\n",
            "4183\n",
            "4183\n",
            "4183\n",
            "4183\n",
            "4183\n",
            "4183\n",
            "4183\n"
          ],
          "name": "stdout"
        }
      ]
    },
    {
      "cell_type": "code",
      "metadata": {
        "colab": {
          "base_uri": "https://localhost:8080/"
        },
        "id": "w1bBt0WfTCi_",
        "outputId": "a029dd12-d4e6-4690-edf5-8cb1e615a2e4"
      },
      "source": [
        "len(car_err_urls)"
      ],
      "execution_count": null,
      "outputs": [
        {
          "output_type": "execute_result",
          "data": {
            "text/plain": [
              "0"
            ]
          },
          "metadata": {
            "tags": []
          },
          "execution_count": 17
        }
      ]
    },
    {
      "cell_type": "markdown",
      "metadata": {
        "id": "Xro2hKhKPQYn"
      },
      "source": [
        "No more error urls. \n",
        "\n",
        "We put each array into a dataframe"
      ]
    },
    {
      "cell_type": "code",
      "metadata": {
        "id": "miN98L-E_X-Z"
      },
      "source": [
        "d = {'manufacturer':manufacturer, 'model':model, 'year':year, 'mileage':mileage, 'selling_condition':selling_condition, 'grade':grade, 'fuel':fuel, 'transmission':transmission, 'color':color, 'price':price}\n",
        "df = pd.DataFrame(dict([(k,pd.Series(v)) for k,v in d.items()]))"
      ],
      "execution_count": null,
      "outputs": []
    },
    {
      "cell_type": "code",
      "metadata": {
        "colab": {
          "base_uri": "https://localhost:8080/",
          "height": 419
        },
        "id": "rmuRZ17E3e70",
        "outputId": "05f3ac32-b6ff-4db4-91a7-7c00cca11ea8"
      },
      "source": [
        "df"
      ],
      "execution_count": null,
      "outputs": [
        {
          "output_type": "execute_result",
          "data": {
            "text/html": [
              "<div>\n",
              "<style scoped>\n",
              "    .dataframe tbody tr th:only-of-type {\n",
              "        vertical-align: middle;\n",
              "    }\n",
              "\n",
              "    .dataframe tbody tr th {\n",
              "        vertical-align: top;\n",
              "    }\n",
              "\n",
              "    .dataframe thead th {\n",
              "        text-align: right;\n",
              "    }\n",
              "</style>\n",
              "<table border=\"1\" class=\"dataframe\">\n",
              "  <thead>\n",
              "    <tr style=\"text-align: right;\">\n",
              "      <th></th>\n",
              "      <th>manufacturer</th>\n",
              "      <th>model</th>\n",
              "      <th>year</th>\n",
              "      <th>mileage</th>\n",
              "      <th>selling_condition</th>\n",
              "      <th>grade</th>\n",
              "      <th>fuel</th>\n",
              "      <th>transmission</th>\n",
              "      <th>color</th>\n",
              "      <th>price</th>\n",
              "    </tr>\n",
              "  </thead>\n",
              "  <tbody>\n",
              "    <tr>\n",
              "      <th>0</th>\n",
              "      <td>Toyota</td>\n",
              "      <td>Land Cruiser</td>\n",
              "      <td>2020</td>\n",
              "      <td>2197</td>\n",
              "      <td>Nigerian used</td>\n",
              "      <td></td>\n",
              "      <td>Petrol</td>\n",
              "      <td>Automatic</td>\n",
              "      <td>Black</td>\n",
              "      <td>33000000</td>\n",
              "    </tr>\n",
              "    <tr>\n",
              "      <th>1</th>\n",
              "      <td>Acura</td>\n",
              "      <td>Mdx</td>\n",
              "      <td>2008</td>\n",
              "      <td>105242</td>\n",
              "      <td>Nigerian used</td>\n",
              "      <td>D</td>\n",
              "      <td>Petrol</td>\n",
              "      <td>Automatic</td>\n",
              "      <td>GREY</td>\n",
              "      <td>2586000</td>\n",
              "    </tr>\n",
              "    <tr>\n",
              "      <th>2</th>\n",
              "      <td>Toyota</td>\n",
              "      <td>Highlander</td>\n",
              "      <td>2001</td>\n",
              "      <td>152321</td>\n",
              "      <td>Nigerian used</td>\n",
              "      <td>C</td>\n",
              "      <td>Petrol</td>\n",
              "      <td>Automatic</td>\n",
              "      <td>GREEN</td>\n",
              "      <td>1914000</td>\n",
              "    </tr>\n",
              "    <tr>\n",
              "      <th>3</th>\n",
              "      <td>Ford</td>\n",
              "      <td>Explorer</td>\n",
              "      <td>2014</td>\n",
              "      <td>60187</td>\n",
              "      <td>Nigerian used</td>\n",
              "      <td>C</td>\n",
              "      <td>Petrol</td>\n",
              "      <td>Automatic</td>\n",
              "      <td>BROWN</td>\n",
              "      <td>4154000</td>\n",
              "    </tr>\n",
              "    <tr>\n",
              "      <th>4</th>\n",
              "      <td>Ford</td>\n",
              "      <td>Fusion</td>\n",
              "      <td>2012</td>\n",
              "      <td>81802</td>\n",
              "      <td>Nigerian used</td>\n",
              "      <td></td>\n",
              "      <td>Petrol</td>\n",
              "      <td>Automatic</td>\n",
              "      <td>NaN</td>\n",
              "      <td>1018000</td>\n",
              "    </tr>\n",
              "    <tr>\n",
              "      <th>...</th>\n",
              "      <td>...</td>\n",
              "      <td>...</td>\n",
              "      <td>...</td>\n",
              "      <td>...</td>\n",
              "      <td>...</td>\n",
              "      <td>...</td>\n",
              "      <td>...</td>\n",
              "      <td>...</td>\n",
              "      <td>...</td>\n",
              "      <td>...</td>\n",
              "    </tr>\n",
              "    <tr>\n",
              "      <th>4178</th>\n",
              "      <td>Land Rover</td>\n",
              "      <td>Range Rover Sport</td>\n",
              "      <td>2006</td>\n",
              "      <td>150104</td>\n",
              "      <td>Foreign used</td>\n",
              "      <td>C</td>\n",
              "      <td>Petrol</td>\n",
              "      <td>Automatic</td>\n",
              "      <td>NaN</td>\n",
              "      <td>3930000</td>\n",
              "    </tr>\n",
              "    <tr>\n",
              "      <th>4179</th>\n",
              "      <td>Ford</td>\n",
              "      <td>Escape</td>\n",
              "      <td>2003</td>\n",
              "      <td>137494</td>\n",
              "      <td>Nigerian used</td>\n",
              "      <td>E</td>\n",
              "      <td>Petrol</td>\n",
              "      <td>Automatic</td>\n",
              "      <td>Aqua Green</td>\n",
              "      <td>682000</td>\n",
              "    </tr>\n",
              "    <tr>\n",
              "      <th>4180</th>\n",
              "      <td>Lexus</td>\n",
              "      <td>Rx 350</td>\n",
              "      <td>2008</td>\n",
              "      <td>75437</td>\n",
              "      <td>Nigerian used</td>\n",
              "      <td>D</td>\n",
              "      <td>Petrol</td>\n",
              "      <td>Automatic</td>\n",
              "      <td>GREEN</td>\n",
              "      <td>3146000</td>\n",
              "    </tr>\n",
              "    <tr>\n",
              "      <th>4181</th>\n",
              "      <td>Ford</td>\n",
              "      <td>Edge</td>\n",
              "      <td>2010</td>\n",
              "      <td>187545</td>\n",
              "      <td>Foreign used</td>\n",
              "      <td></td>\n",
              "      <td>Petrol</td>\n",
              "      <td>Automatic</td>\n",
              "      <td>Black</td>\n",
              "      <td>4600000</td>\n",
              "    </tr>\n",
              "    <tr>\n",
              "      <th>4182</th>\n",
              "      <td>Nissan</td>\n",
              "      <td>Almera</td>\n",
              "      <td>2005</td>\n",
              "      <td>105001</td>\n",
              "      <td>Nigerian used</td>\n",
              "      <td>NaN</td>\n",
              "      <td>Petrol</td>\n",
              "      <td>Manual</td>\n",
              "      <td>NaN</td>\n",
              "      <td>638750</td>\n",
              "    </tr>\n",
              "  </tbody>\n",
              "</table>\n",
              "<p>4183 rows × 10 columns</p>\n",
              "</div>"
            ],
            "text/plain": [
              "     manufacturer              model  year  ... transmission       color     price\n",
              "0          Toyota       Land Cruiser  2020  ...    Automatic       Black  33000000\n",
              "1           Acura                Mdx  2008  ...    Automatic        GREY   2586000\n",
              "2          Toyota         Highlander  2001  ...    Automatic       GREEN   1914000\n",
              "3            Ford           Explorer  2014  ...    Automatic       BROWN   4154000\n",
              "4            Ford             Fusion  2012  ...    Automatic         NaN   1018000\n",
              "...           ...                ...   ...  ...          ...         ...       ...\n",
              "4178   Land Rover  Range Rover Sport  2006  ...    Automatic         NaN   3930000\n",
              "4179         Ford             Escape  2003  ...    Automatic  Aqua Green    682000\n",
              "4180        Lexus             Rx 350  2008  ...    Automatic       GREEN   3146000\n",
              "4181         Ford               Edge  2010  ...    Automatic       Black   4600000\n",
              "4182       Nissan             Almera  2005  ...       Manual         NaN    638750\n",
              "\n",
              "[4183 rows x 10 columns]"
            ]
          },
          "metadata": {
            "tags": []
          },
          "execution_count": 19
        }
      ]
    },
    {
      "cell_type": "code",
      "metadata": {
        "id": "eWqsfWnOB3QJ"
      },
      "source": [
        "# save to csv\n",
        "df.to_csv('final_scrape_cars45.csv', index=False)"
      ],
      "execution_count": null,
      "outputs": []
    }
  ]
}